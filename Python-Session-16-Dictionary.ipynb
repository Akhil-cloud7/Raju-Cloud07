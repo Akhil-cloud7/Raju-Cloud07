{
 "cells": [
  {
   "cell_type": "markdown",
   "id": "9a899ff6-7745-40b1-978b-2f73eae87ce8",
   "metadata": {},
   "source": [
    "**Dictionary**\n",
    "\n",
    "- we already seen many data types\n",
    "\n",
    "- string\n",
    "\n",
    "- List\n",
    "\n",
    "- Tuple\n",
    "\n",
    "- Set\n",
    "\n",
    "- Dictionary "
   ]
  },
  {
   "cell_type": "markdown",
   "id": "9045e197-fa28-4d9e-998f-a4e45e208e97",
   "metadata": {},
   "source": [
    "**zip**"
   ]
  },
  {
   "cell_type": "code",
   "execution_count": 3,
   "id": "ac18a347-eafd-40b6-8f8d-f878ab47efb2",
   "metadata": {},
   "outputs": [
    {
     "name": "stdout",
     "output_type": "stream",
     "text": [
      "Ramesh 20\n",
      "Suresh 25\n",
      "Sathish 30\n"
     ]
    }
   ],
   "source": [
    "names=['Ramesh','Suresh','Sathish']\n",
    "age=[20,25,30]\n",
    "\n",
    "for i,j in zip(names,age):\n",
    "    print(i,j)"
   ]
  },
  {
   "cell_type": "code",
   "execution_count": 4,
   "id": "210fc923-b06b-4204-94a3-ad935a17bc49",
   "metadata": {},
   "outputs": [
    {
     "data": {
      "text/plain": [
       "{('Ramesh', 20), ('Sathish', 30), ('Suresh', 25)}"
      ]
     },
     "execution_count": 4,
     "metadata": {},
     "output_type": "execute_result"
    }
   ],
   "source": [
    "set(zip(names,age))"
   ]
  },
  {
   "cell_type": "code",
   "execution_count": null,
   "id": "898d9a2a-227e-4664-aa7d-bc8de0fe12c0",
   "metadata": {},
   "outputs": [],
   "source": [
    "dict1={<key>:<value>}\n",
    "ames=['Ramesh','Suresh','Sathish']\n",
    "age=[20,25,30]\n",
    "'Ramesh' is the key =====20 is related value\n",
    "dict1={'Ramesh':20,'Suresh':25,'Sathish':30}"
   ]
  },
  {
   "cell_type": "code",
   "execution_count": 5,
   "id": "4a49fdc8-1769-46a0-8a9b-169b5e32b14b",
   "metadata": {},
   "outputs": [
    {
     "data": {
      "text/plain": [
       "dict"
      ]
     },
     "execution_count": 5,
     "metadata": {},
     "output_type": "execute_result"
    }
   ],
   "source": [
    "dict1={'Ramesh':20,'Suresh':25,'Sathish':30}\n",
    "type(dict1)"
   ]
  },
  {
   "cell_type": "code",
   "execution_count": null,
   "id": "71116330-4ab0-4993-a860-9606065ba94d",
   "metadata": {},
   "outputs": [],
   "source": [
    "- intilization \n",
    "\n",
    "- type\n",
    "\n",
    "- max\n",
    "\n",
    "- min\n",
    "\n",
    "- len\n",
    "\n",
    "- reversed\n",
    "\n",
    "- sorted\n",
    "\n",
    "- index\n",
    "\n",
    "- mutuable\n",
    "\n",
    "- "
   ]
  },
  {
   "cell_type": "code",
   "execution_count": 9,
   "id": "8b17d661-20e4-4681-bab1-d4da37f8c28f",
   "metadata": {},
   "outputs": [
    {
     "data": {
      "text/plain": [
       "'Suresh'"
      ]
     },
     "execution_count": 9,
     "metadata": {},
     "output_type": "execute_result"
    }
   ],
   "source": [
    "dict1={'Ramesh':20,'Suresh':25,'Sathish':30}\n",
    "max(dict1)"
   ]
  },
  {
   "cell_type": "code",
   "execution_count": 10,
   "id": "fa25dd95-fd82-4981-b792-ce548e84cf6f",
   "metadata": {},
   "outputs": [
    {
     "data": {
      "text/plain": [
       "'Ramesh'"
      ]
     },
     "execution_count": 10,
     "metadata": {},
     "output_type": "execute_result"
    }
   ],
   "source": [
    "dict1={'Ramesh':20,'Suresh':25,'Sathish':30}\n",
    "min(dict1)"
   ]
  },
  {
   "cell_type": "code",
   "execution_count": 11,
   "id": "99a33d44-4ffc-4691-909b-a181f9e9d61e",
   "metadata": {},
   "outputs": [
    {
     "data": {
      "text/plain": [
       "3"
      ]
     },
     "execution_count": 11,
     "metadata": {},
     "output_type": "execute_result"
    }
   ],
   "source": [
    "dict1={'Ramesh':20,'Suresh':25,'Sathish':30}\n",
    "len(dict1)"
   ]
  },
  {
   "cell_type": "code",
   "execution_count": 23,
   "id": "ba68e67f-eaaf-4032-b390-376fad9b4d75",
   "metadata": {},
   "outputs": [
    {
     "data": {
      "text/plain": [
       "<reversed at 0x23f535a7400>"
      ]
     },
     "execution_count": 23,
     "metadata": {},
     "output_type": "execute_result"
    }
   ],
   "source": [
    "dict1={'Ramesh':20,'Suresh':25,'Sathish':30}\n",
    "n=reversed('20')\n",
    "n"
   ]
  },
  {
   "cell_type": "code",
   "execution_count": 25,
   "id": "d0bde508-5c95-436f-9361-53327c72c292",
   "metadata": {},
   "outputs": [
    {
     "data": {
      "text/plain": [
       "['Ramesh', 'Sathish', 'Suresh']"
      ]
     },
     "execution_count": 25,
     "metadata": {},
     "output_type": "execute_result"
    }
   ],
   "source": [
    "dict1={'Ramesh':20,'Suresh':25,'Sathish':30}\n",
    "sorted(dict1)"
   ]
  },
  {
   "cell_type": "code",
   "execution_count": 27,
   "id": "17633dd9-b340-4d5c-889e-64da7bb563af",
   "metadata": {},
   "outputs": [
    {
     "data": {
      "text/plain": [
       "{'Fruits': ['Apple', 'Cherry']}"
      ]
     },
     "execution_count": 27,
     "metadata": {},
     "output_type": "execute_result"
    }
   ],
   "source": [
    "d5={'Fruits':['Apple','Cherry']}\n",
    "d5"
   ]
  },
  {
   "cell_type": "code",
   "execution_count": 28,
   "id": "a118523a-c25d-4a7f-90b1-dc4265f02ee5",
   "metadata": {},
   "outputs": [
    {
     "ename": "TypeError",
     "evalue": "unhashable type: 'list'",
     "output_type": "error",
     "traceback": [
      "\u001b[1;31m---------------------------------------------------------------------------\u001b[0m",
      "\u001b[1;31mTypeError\u001b[0m                                 Traceback (most recent call last)",
      "Cell \u001b[1;32mIn[28], line 1\u001b[0m\n\u001b[1;32m----> 1\u001b[0m d6\u001b[38;5;241m=\u001b[39m{[\u001b[38;5;124m'\u001b[39m\u001b[38;5;124mFruits\u001b[39m\u001b[38;5;124m'\u001b[39m,\u001b[38;5;124m'\u001b[39m\u001b[38;5;124mApple\u001b[39m\u001b[38;5;124m'\u001b[39m,\u001b[38;5;124m'\u001b[39m\u001b[38;5;124mCherry\u001b[39m\u001b[38;5;124m'\u001b[39m]}\n\u001b[0;32m      2\u001b[0m d6\n",
      "\u001b[1;31mTypeError\u001b[0m: unhashable type: 'list'"
     ]
    }
   ],
   "source": [
    "d6={['Fruits','Apple','Cherry']}\n",
    "d6"
   ]
  },
  {
   "cell_type": "code",
   "execution_count": 29,
   "id": "65b9f7e8-148b-4cf2-a690-69d4db6ed2d8",
   "metadata": {},
   "outputs": [
    {
     "data": {
      "text/plain": [
       "{('Fruits', 'Apple', 'Cherry')}"
      ]
     },
     "execution_count": 29,
     "metadata": {},
     "output_type": "execute_result"
    }
   ],
   "source": [
    "d7={('Fruits','Apple','Cherry')}\n",
    "d7"
   ]
  },
  {
   "cell_type": "code",
   "execution_count": 31,
   "id": "e636b71f-5766-483b-ab7a-547306faa153",
   "metadata": {},
   "outputs": [
    {
     "data": {
      "text/plain": [
       "{'Ajay': 30}"
      ]
     },
     "execution_count": 31,
     "metadata": {},
     "output_type": "execute_result"
    }
   ],
   "source": [
    "d8={'Ajay':20,'Ajay':30}\n",
    "d8"
   ]
  },
  {
   "cell_type": "code",
   "execution_count": 32,
   "id": "d3361f05-f6a3-48c2-80c3-553c357ee2dd",
   "metadata": {},
   "outputs": [
    {
     "data": {
      "text/plain": [
       "{25: 'Ajay', 30: 'Ajay'}"
      ]
     },
     "execution_count": 32,
     "metadata": {},
     "output_type": "execute_result"
    }
   ],
   "source": [
    "d9={25:'Ajay',30:'Ajay'}\n",
    "d9"
   ]
  },
  {
   "cell_type": "code",
   "execution_count": 36,
   "id": "fa93ed4c-c46a-4563-a67d-7c86f732d3f5",
   "metadata": {},
   "outputs": [
    {
     "data": {
      "text/plain": [
       "{'Fruits': {'Mango'}}"
      ]
     },
     "execution_count": 36,
     "metadata": {},
     "output_type": "execute_result"
    }
   ],
   "source": [
    "d10={'Fruits':{'Mango'}}\n",
    "d10"
   ]
  },
  {
   "cell_type": "markdown",
   "id": "f7151ee3-5690-4949-b036-33f5611437c9",
   "metadata": {},
   "source": [
    "**Keys are importanrt**\n",
    "\n",
    "- keys have only latest value\n",
    "\n",
    "- No duplicate keys\n",
    "\n",
    "- Keys should be only one\n",
    "\n",
    "- Values can be duplicate\n",
    "\n",
    "- which means different keys can have same value\n",
    "\n",
    "- List can not be a key,Because list are mutuable\n",
    "\n",
    "- Tuple can be a key,Because Tuple are immmutable"
   ]
  },
  {
   "cell_type": "code",
   "execution_count": 37,
   "id": "413b08dd-4d0c-4764-8fdf-67faaa651fca",
   "metadata": {},
   "outputs": [
    {
     "data": {
      "text/plain": [
       "'Shubam'"
      ]
     },
     "execution_count": 37,
     "metadata": {},
     "output_type": "execute_result"
    }
   ],
   "source": [
    "d1={'Manish':25,'Shubam':20,'Govindh':15}\n",
    "max(d1)"
   ]
  },
  {
   "cell_type": "code",
   "execution_count": 40,
   "id": "bcd9bbb4-d64b-4641-98d2-563302a0620a",
   "metadata": {},
   "outputs": [
    {
     "data": {
      "text/plain": [
       "'Shubam'"
      ]
     },
     "execution_count": 40,
     "metadata": {},
     "output_type": "execute_result"
    }
   ],
   "source": [
    "d2={'Manish':25,'Shubam':20,'Govindh':15}\n",
    "max(d2)"
   ]
  },
  {
   "cell_type": "code",
   "execution_count": 41,
   "id": "4dba8c6c-561a-48be-9ad0-568fe99d8937",
   "metadata": {},
   "outputs": [
    {
     "data": {
      "text/plain": [
       "30"
      ]
     },
     "execution_count": 41,
     "metadata": {},
     "output_type": "execute_result"
    }
   ],
   "source": [
    "d3={25:'Manish',20:'Shubham',30:'Govindh'}\n",
    "max(d3)"
   ]
  },
  {
   "cell_type": "code",
   "execution_count": 42,
   "id": "920832b9-3df2-4324-a7dc-aae4ea6fcfca",
   "metadata": {},
   "outputs": [
    {
     "data": {
      "text/plain": [
       "'Shubham'"
      ]
     },
     "execution_count": 42,
     "metadata": {},
     "output_type": "execute_result"
    }
   ],
   "source": [
    "d4={'Manish':25,'Shubham':'20','Govindh':30}\n",
    "max(d4)"
   ]
  },
  {
   "cell_type": "code",
   "execution_count": 47,
   "id": "cbf417db-cffb-4a77-a274-d658f31563e3",
   "metadata": {},
   "outputs": [
    {
     "data": {
      "text/plain": [
       "30"
      ]
     },
     "execution_count": 47,
     "metadata": {},
     "output_type": "execute_result"
    }
   ],
   "source": [
    "d5={25:'Mnaish',20:'Shubham',30:'Govindh'}\n",
    "max(d5)"
   ]
  },
  {
   "cell_type": "code",
   "execution_count": 48,
   "id": "047838e5-9689-4d63-97da-739018773329",
   "metadata": {},
   "outputs": [
    {
     "data": {
      "text/plain": [
       "'Shubham'"
      ]
     },
     "execution_count": 48,
     "metadata": {},
     "output_type": "execute_result"
    }
   ],
   "source": [
    "d6={'Manish':20,'Shubham':20,'Govindh':15}\n",
    "max(d6)"
   ]
  },
  {
   "cell_type": "code",
   "execution_count": 49,
   "id": "fc98eabe-fb63-432e-be8c-a905d20a3668",
   "metadata": {},
   "outputs": [
    {
     "data": {
      "text/plain": [
       "20"
      ]
     },
     "execution_count": 49,
     "metadata": {},
     "output_type": "execute_result"
    }
   ],
   "source": [
    "d7={20:'Manish',20:'Shubham',15:'Govindh'}\n",
    "max(d7)"
   ]
  },
  {
   "cell_type": "code",
   "execution_count": 50,
   "id": "fa4d7512-68d6-458b-b479-4b075d21b6b5",
   "metadata": {},
   "outputs": [
    {
     "data": {
      "text/plain": [
       "'Govindh'"
      ]
     },
     "execution_count": 50,
     "metadata": {},
     "output_type": "execute_result"
    }
   ],
   "source": [
    "min(d1)"
   ]
  },
  {
   "cell_type": "code",
   "execution_count": 51,
   "id": "8e33bc79-4601-4d21-8068-06671129d076",
   "metadata": {},
   "outputs": [
    {
     "data": {
      "text/plain": [
       "'Govindh'"
      ]
     },
     "execution_count": 51,
     "metadata": {},
     "output_type": "execute_result"
    }
   ],
   "source": [
    "min(d2)"
   ]
  },
  {
   "cell_type": "code",
   "execution_count": 52,
   "id": "c8c6f620-a073-4a77-9192-8089d633b6ad",
   "metadata": {},
   "outputs": [
    {
     "data": {
      "text/plain": [
       "20"
      ]
     },
     "execution_count": 52,
     "metadata": {},
     "output_type": "execute_result"
    }
   ],
   "source": [
    "min(d3)"
   ]
  },
  {
   "cell_type": "code",
   "execution_count": 53,
   "id": "0466bc92-e075-4e52-96cd-66f19867e4fd",
   "metadata": {},
   "outputs": [
    {
     "data": {
      "text/plain": [
       "'Govindh'"
      ]
     },
     "execution_count": 53,
     "metadata": {},
     "output_type": "execute_result"
    }
   ],
   "source": [
    "min(d4)"
   ]
  },
  {
   "cell_type": "code",
   "execution_count": 54,
   "id": "e38d4447-fdd0-4fc4-8a7b-5609bfc28e31",
   "metadata": {},
   "outputs": [
    {
     "data": {
      "text/plain": [
       "20"
      ]
     },
     "execution_count": 54,
     "metadata": {},
     "output_type": "execute_result"
    }
   ],
   "source": [
    "min(d5)"
   ]
  },
  {
   "cell_type": "code",
   "execution_count": 55,
   "id": "84d27f96-6500-4211-bb08-2bc568e5399a",
   "metadata": {},
   "outputs": [
    {
     "data": {
      "text/plain": [
       "'Govindh'"
      ]
     },
     "execution_count": 55,
     "metadata": {},
     "output_type": "execute_result"
    }
   ],
   "source": [
    "min(d6)"
   ]
  },
  {
   "cell_type": "code",
   "execution_count": 56,
   "id": "5b3f3d8c-e604-43fc-8185-fbcc37cb3a5b",
   "metadata": {},
   "outputs": [
    {
     "data": {
      "text/plain": [
       "['Shubam', 'Manish', 'Govindh']"
      ]
     },
     "execution_count": 56,
     "metadata": {},
     "output_type": "execute_result"
    }
   ],
   "source": [
    "list(sorted(d1,reverse=True))"
   ]
  },
  {
   "cell_type": "markdown",
   "id": "861f7e3b-ef5f-4e36-b74a-b217a6101409",
   "metadata": {},
   "source": [
    "**in operator**"
   ]
  },
  {
   "cell_type": "code",
   "execution_count": 57,
   "id": "14da8cb0-8c8d-4811-9e53-34bf12783e27",
   "metadata": {},
   "outputs": [
    {
     "name": "stdout",
     "output_type": "stream",
     "text": [
      "Manish\n",
      "Shubam\n",
      "Govindh\n"
     ]
    }
   ],
   "source": [
    "d1={'Manish':25,'Shubam':20,'Govindh':15}\n",
    "for i in d1:\n",
    "    print(i)"
   ]
  },
  {
   "cell_type": "markdown",
   "id": "a944fa9d-a9ae-4176-ab45-d280b290dec4",
   "metadata": {},
   "source": [
    "**Index**"
   ]
  },
  {
   "cell_type": "code",
   "execution_count": 60,
   "id": "ef22cfd5-c753-4595-a5ea-cc8f9e7e9d50",
   "metadata": {},
   "outputs": [
    {
     "data": {
      "text/plain": [
       "25"
      ]
     },
     "execution_count": 60,
     "metadata": {},
     "output_type": "execute_result"
    }
   ],
   "source": [
    "d1={'Manish':25,'Shubham':20,'Govindh':15}\n",
    "d1['Manish']"
   ]
  },
  {
   "cell_type": "code",
   "execution_count": 61,
   "id": "5a5bc364-a290-4c96-9177-ca176ee9a081",
   "metadata": {},
   "outputs": [
    {
     "data": {
      "text/plain": [
       "20"
      ]
     },
     "execution_count": 61,
     "metadata": {},
     "output_type": "execute_result"
    }
   ],
   "source": [
    "d1['Shubham']"
   ]
  },
  {
   "cell_type": "code",
   "execution_count": 62,
   "id": "e37a5212-9624-484c-950f-5d29679248a5",
   "metadata": {},
   "outputs": [
    {
     "data": {
      "text/plain": [
       "15"
      ]
     },
     "execution_count": 62,
     "metadata": {},
     "output_type": "execute_result"
    }
   ],
   "source": [
    "d1['Govindh']"
   ]
  },
  {
   "cell_type": "code",
   "execution_count": 3,
   "id": "0fc34721-796d-497d-8fb9-ff6b8bef543d",
   "metadata": {},
   "outputs": [
    {
     "ename": "NameError",
     "evalue": "name 'i' is not defined",
     "output_type": "error",
     "traceback": [
      "\u001b[1;31m---------------------------------------------------------------------------\u001b[0m",
      "\u001b[1;31mNameError\u001b[0m                                 Traceback (most recent call last)",
      "Cell \u001b[1;32mIn[3], line 8\u001b[0m\n\u001b[0;32m      5\u001b[0m d1[\u001b[38;5;124m'\u001b[39m\u001b[38;5;124mShubham\u001b[39m\u001b[38;5;124m'\u001b[39m]\n\u001b[0;32m      6\u001b[0m d1[\u001b[38;5;124m'\u001b[39m\u001b[38;5;124mGovindh\u001b[39m\u001b[38;5;124m'\u001b[39m]\n\u001b[1;32m----> 8\u001b[0m d1[i]\n",
      "\u001b[1;31mNameError\u001b[0m: name 'i' is not defined"
     ]
    }
   ],
   "source": [
    "d1={'Manish':20,'Shubham':20,'Govindh':15}\n",
    "#dictionary is a key :value pair\n",
    "#we can not use index number idrectly\n",
    "d1['Manish']\n",
    "d1['Shubham']\n",
    "d1['Govindh']\n",
    "\n",
    "d1[i]\n"
   ]
  },
  {
   "cell_type": "code",
   "execution_count": 4,
   "id": "be9a3fb3-00b8-4213-8bcc-7e898c224aaa",
   "metadata": {},
   "outputs": [
    {
     "name": "stdout",
     "output_type": "stream",
     "text": [
      "Manish has age 20\n",
      "Shubham has age 20\n",
      "Govindh has age 15\n"
     ]
    }
   ],
   "source": [
    "for i in d1:\n",
    "    print(f\"{i} has age {d1[i]}\")"
   ]
  },
  {
   "cell_type": "code",
   "execution_count": 14,
   "id": "f1f73783-026f-483e-bf1c-0d495017d6b1",
   "metadata": {},
   "outputs": [
    {
     "name": "stdout",
     "output_type": "stream",
     "text": [
      "Vignesh has age 15\n"
     ]
    },
    {
     "ename": "KeyError",
     "evalue": "'Govindh'",
     "output_type": "error",
     "traceback": [
      "\u001b[1;31m---------------------------------------------------------------------------\u001b[0m",
      "\u001b[1;31mKeyError\u001b[0m                                  Traceback (most recent call last)",
      "Cell \u001b[1;32mIn[14], line 4\u001b[0m\n\u001b[0;32m      2\u001b[0m age\u001b[38;5;241m=\u001b[39m[\u001b[38;5;241m20\u001b[39m,\u001b[38;5;241m25\u001b[39m,\u001b[38;5;241m30\u001b[39m]\n\u001b[0;32m      3\u001b[0m \u001b[38;5;28;01mfor\u001b[39;00m i,j \u001b[38;5;129;01min\u001b[39;00m \u001b[38;5;28mzip\u001b[39m(names,age):\n\u001b[1;32m----> 4\u001b[0m     \u001b[38;5;28mprint\u001b[39m(\u001b[38;5;124mf\u001b[39m\u001b[38;5;124m\"\u001b[39m\u001b[38;5;132;01m{\u001b[39;00mi\u001b[38;5;132;01m}\u001b[39;00m\u001b[38;5;124m has age \u001b[39m\u001b[38;5;132;01m{\u001b[39;00md1[i]\u001b[38;5;132;01m}\u001b[39;00m\u001b[38;5;124m\"\u001b[39m)\n",
      "\u001b[1;31mKeyError\u001b[0m: 'Govindh'"
     ]
    }
   ],
   "source": [
    "names=['Vignesh','Govindh','Nagesh']\n",
    "age=[20,25,30]\n",
    "for i,j in zip(names,age):\n",
    "    print(f\"{i} has age {d1[i]}\")"
   ]
  },
  {
   "cell_type": "code",
   "execution_count": 7,
   "id": "792e24f8-cd56-4874-a8bc-d0c84d43d8e1",
   "metadata": {},
   "outputs": [
    {
     "data": {
      "text/plain": [
       "['Manish', 'Shubham', 'Vignesh']"
      ]
     },
     "execution_count": 7,
     "metadata": {},
     "output_type": "execute_result"
    }
   ],
   "source": [
    "d1={'Manish':25,'Shubham':20,'Vignesh':15}\n",
    "keys,values=[],[]\n",
    "for i in d1:\n",
    "    keys.append(i)\n",
    "    values.append(i)\n",
    "values"
   ]
  },
  {
   "cell_type": "markdown",
   "id": "4613e8b5-f887-4fe8-80b8-19c467f8a94b",
   "metadata": {},
   "source": [
    "**How to create empty list**"
   ]
  },
  {
   "cell_type": "code",
   "execution_count": 11,
   "id": "ab4757cd-094e-4870-8b13-2537c3719e4d",
   "metadata": {},
   "outputs": [
    {
     "data": {
      "text/plain": [
       "[20]"
      ]
     },
     "execution_count": 11,
     "metadata": {},
     "output_type": "execute_result"
    }
   ],
   "source": [
    "l=[]\n",
    "l.append(20)\n",
    "l"
   ]
  },
  {
   "cell_type": "markdown",
   "id": "d7f56a90-83a2-4abc-ad2f-86f85041a348",
   "metadata": {},
   "source": [
    "**empty string**"
   ]
  },
  {
   "cell_type": "code",
   "execution_count": 24,
   "id": "db3edbd8-9ab2-4eef-8b29-68113b33c205",
   "metadata": {},
   "outputs": [
    {
     "data": {
      "text/plain": [
       "[10]"
      ]
     },
     "execution_count": 24,
     "metadata": {},
     "output_type": "execute_result"
    }
   ],
   "source": [
    "l=[]\n",
    "l.append(10)\n",
    "l"
   ]
  },
  {
   "cell_type": "markdown",
   "id": "4c0c7ee6-022f-4a1a-9d37-c414d3e41c75",
   "metadata": {},
   "source": [
    "**empty dictionary**"
   ]
  },
  {
   "cell_type": "code",
   "execution_count": 12,
   "id": "d2ecb27f-7070-4732-90f9-9875632a02a5",
   "metadata": {},
   "outputs": [
    {
     "data": {
      "text/plain": [
       "{'Akhil': [20]}"
      ]
     },
     "execution_count": 12,
     "metadata": {},
     "output_type": "execute_result"
    }
   ],
   "source": [
    "d={}\n",
    "d['Akhil']=[20]\n",
    "d"
   ]
  },
  {
   "cell_type": "code",
   "execution_count": 17,
   "id": "0bdcee1c-ae54-423c-a46c-9fc0224a8af5",
   "metadata": {},
   "outputs": [
    {
     "data": {
      "text/plain": [
       "{'Vignesh': 20, 'Mohit': 25, 'Nagesh': 30}"
      ]
     },
     "execution_count": 17,
     "metadata": {},
     "output_type": "execute_result"
    }
   ],
   "source": [
    "names=['Vignesh','Mohit','Nagesh']\n",
    "age=[20,25,30]\n",
    "NAMES={}\n",
    "for i,j in zip(names,age):\n",
    "     NAMES[i]=j\n",
    "NAMES                                                                                                                                                                                             "
   ]
  },
  {
   "cell_type": "markdown",
   "id": "d61fb22a-82d4-4edc-b363-f8af442ade1c",
   "metadata": {},
   "source": [
    "**String to list**"
   ]
  },
  {
   "cell_type": "code",
   "execution_count": 19,
   "id": "54487ead-2d09-4e17-b26d-2610263ce793",
   "metadata": {},
   "outputs": [
    {
     "data": {
      "text/plain": [
       "['hello', 'hai', 'how', 'are', 'you']"
      ]
     },
     "execution_count": 19,
     "metadata": {},
     "output_type": "execute_result"
    }
   ],
   "source": [
    "s='hello hai how how are you'\n",
    "s.split()\n"
   ]
  },
  {
   "cell_type": "markdown",
   "id": "5c3faf22-5a98-4315-9c01-5b4e4d084bbc",
   "metadata": {},
   "source": [
    "**Word frequency**"
   ]
  },
  {
   "cell_type": "code",
   "execution_count": 27,
   "id": "9cf857f2-9dc9-4abe-a0d5-c3c0fc687d8b",
   "metadata": {},
   "outputs": [
    {
     "data": {
      "text/plain": [
       "{'hello': 1, 'hai': 1, 'how': 2, 'are': 1, 'you': 1}"
      ]
     },
     "execution_count": 27,
     "metadata": {},
     "output_type": "execute_result"
    }
   ],
   "source": [
    "s='hello hai how how are you'\n",
    "words_list=s.split()\n",
    "words_list\n",
    "dict1={}\n",
    "for word in words_list:\n",
    "    dict1[word]=s.count(word)\n",
    "dict1"
   ]
  },
  {
   "cell_type": "code",
   "execution_count": null,
   "id": "916ac11b-977d-4a1c-83e9-f1231f89ab0d",
   "metadata": {},
   "outputs": [],
   "source": [
    "string1=\"\"\"Data science is an interdisciplinary academic field that uses statistics,\n",
    "          scientific computing, scientific methods, processes, scientific visualization,\n",
    "          algorithms and systems to extract or extrapolate knowledge and insights from potentially noisy, structured, or unstructured data.\n",
    "         Data science also integrates domain knowledge from the underlying applicatin.Data science is multifaceted and can be described as a science,\n",
    "         a research paradigm, a research method, a discipline, a workflow, and a profession.\"\"\"\n"
   ]
  },
  {
   "cell_type": "markdown",
   "id": "8b925270-851e-45eb-a602-af4c4c34077a",
   "metadata": {},
   "source": [
    "**Mutable-immutable**\n",
    "\n",
    "- Change the elements using index\n",
    "\n",
    "- But in dictionary there is no index\n",
    "\n",
    "- In dictionary we will change the value based on the keys\n",
    "\n",
    "- instead of using the index,change the values using key\n",
    "\n",
    "- if it is change it is mutable\n",
    "\n",
    "- if it is not change it its immutable "
   ]
  },
  {
   "cell_type": "code",
   "execution_count": 28,
   "id": "190db072-1e0b-4d4c-9bee-1d6053a9e795",
   "metadata": {},
   "outputs": [
    {
     "data": {
      "text/plain": [
       "{'Vignesh': 23, 'Mohit': 25, 'Nagesh': 22}"
      ]
     },
     "execution_count": 28,
     "metadata": {},
     "output_type": "execute_result"
    }
   ],
   "source": [
    "d={'Vignesh':20,'Mohit':25,'Nagesh':22}\n",
    "d['Vignesh']=23\n",
    "d"
   ]
  },
  {
   "cell_type": "code",
   "execution_count": 32,
   "id": "648c97a5-d21c-4df4-9d14-acb560e95a09",
   "metadata": {},
   "outputs": [
    {
     "data": {
      "text/plain": [
       "'Mango'"
      ]
     },
     "execution_count": 32,
     "metadata": {},
     "output_type": "execute_result"
    }
   ],
   "source": [
    "d={'Fruits':['Mango']}\n",
    "d['Fruits'][0]"
   ]
  },
  {
   "cell_type": "code",
   "execution_count": 38,
   "id": "4687b8cc-590a-4836-89bd-0378df04324b",
   "metadata": {},
   "outputs": [
    {
     "data": {
      "text/plain": [
       "'Kashmir'"
      ]
     },
     "execution_count": 38,
     "metadata": {},
     "output_type": "execute_result"
    }
   ],
   "source": [
    "d={'Fruites':[{'Apple':['Kashmir']}]}\n",
    "d['Fruites'][0]['Apple'][0]            "
   ]
  },
  {
   "cell_type": "code",
   "execution_count": 43,
   "id": "bdca8f45-4021-4b68-b51a-9ce3b5de686c",
   "metadata": {},
   "outputs": [
    {
     "data": {
      "text/plain": [
       "'India'"
      ]
     },
     "execution_count": 43,
     "metadata": {},
     "output_type": "execute_result"
    }
   ],
   "source": [
    "d={'Fruites':[\n",
    "    {'Apple':\n",
    "     {'Kashmir':\n",
    "      ['India']\n",
    "     }\n",
    "    }\n",
    "  ]\n",
    "  }\n",
    "\n",
    "d['Fruites'][0]['Apple']['Kashmir'][0]"
   ]
  },
  {
   "cell_type": "code",
   "execution_count": 4,
   "id": "a08c78f9-8f46-4821-91fc-636060f73621",
   "metadata": {},
   "outputs": [
    {
     "data": {
      "text/plain": [
       "{'Shambaji'}"
      ]
     },
     "execution_count": 4,
     "metadata": {},
     "output_type": "execute_result"
    }
   ],
   "source": [
    "d={'Fruites':{'Benganapalli':{'Mango':{'Nagpur':{'MH':{'Shivaji':{'Shambaji'}}}}}}}\n",
    "d['Fruites']['Benganapalli']['Mango']['Nagpur']['MH']['Shivaji']"
   ]
  },
  {
   "cell_type": "code",
   "execution_count": null,
   "id": "d7b73891-4d6a-4e6b-8248-030c758a779d",
   "metadata": {},
   "outputs": [],
   "source": [
    "string1=\"\"\"Data science is an interdisciplinary academic field that uses statistics,\n",
    "          scientific computing, scientific methods, processes, scientific visualization,\n",
    "          algorithms and systems to extract or extrapolate knowledge and insights from potentially noisy, structured, or unstructured data.\n",
    "         Data science also integrates domain knowledge from the underlying applicatin.Data science is multifaceted and can be described as a science,\n",
    "         a research paradigm, a research method, a discipline, a workflow, and a profession.\"\"\"\n",
    "\n",
    "#task -1: in the above sentence you need to remove a,an,is,the\n",
    "# task-2: Data first letter Ascii value: 68\n",
    "#         scince first letter Ascii value : 115"
   ]
  },
  {
   "cell_type": "code",
   "execution_count": 47,
   "id": "5921aabf-63f8-494a-b70b-4e2dd44ad69b",
   "metadata": {},
   "outputs": [
    {
     "name": "stdout",
     "output_type": "stream",
     "text": [
      "{'Datascienceinterdisciplinaryacademicfieldthatusesstatistics,scientificcomputing,scientificmethods,processes,scientificvisualization,algorithmsandsystemstoextractorextrapolateknowledgeandinsightsfrompotentiallynoisy,structured,orunstructureddata.Datasciencealsointegratesdomainknowledgefromunderlyingapplicatin.Datasciencemultifacetedandcanbedescribedasscience,researchparadigm,researchmethod,discipline,workflow,andprofession.': 68}\n"
     ]
    }
   ],
   "source": [
    "string1=\"\"\"Data science is an interdisciplinary academic field that uses statistics,\n",
    "          scientific computing, scientific methods, processes, scientific visualization,\n",
    "          algorithms and systems to extract or extrapolate knowledge and insights from potentially noisy, structured, or unstructured data.\n",
    "         Data science also integrates domain knowledge from the underlying applicatin.Data science is multifaceted and can be described as a science,\n",
    "         a research paradigm, a research method, a discipline, a workflow, and a profession.\"\"\"\n",
    "\n",
    "s1=string1.split()\n",
    "words_to_remove=[\"a\",\"an\",\"is\",\"the\"]\n",
    "li=[]\n",
    "d1={}\n",
    "for i in s1:\n",
    "         if i.lower() not in words_to_remove:\n",
    "             li.append(i)\n",
    "str3=''.join(li)\n",
    "str4=str3.split()\n",
    "for i in range(len(str4)):\n",
    "    asciii=ord(str4[i][0])\n",
    "    d1[l1[i]]=ord(l1[i][0])\n",
    "    d[str4[i]]=asciii\n",
    "print(d)"
   ]
  },
  {
   "cell_type": "code",
   "execution_count": 46,
   "id": "fcba8d3c-171e-447f-8391-6873e8ab74b2",
   "metadata": {},
   "outputs": [
    {
     "name": "stdout",
     "output_type": "stream",
     "text": [
      "{'D': 68, 't': 116, ' ': 32, 's': 115, 'c': 99, 'i': 105, 'e': 101, 'n': 110, 'r': 114, 'd': 100, 'p': 112, 'l': 108, 'y': 121, 'm': 109, 'f': 102, 'h': 104, 'u': 117, ',': 44, '\\n': 10, 'o': 111, 'g': 103, 'v': 118, 'z': 122, 'x': 120, 'k': 107, 'w': 119, '.': 46, 'b': 98}"
     ]
    }
   ],
   "source": [
    "string1=\"\"\"Data science is an interdisciplinary academic field that uses statistics,\n",
    "          scientific computing, scientific methods, processes, scientific visualization,\n",
    "          algorithms and systems to extract or extrapolate knowledge and insights from potentially noisy, structured, or unstructured data.\n",
    "         Data science also integrates domain knowledge from the underlying applicatin.Data science is multifaceted and can be described as a science,\n",
    "         a research paradigm, a research method, a discipline, a workflow, and a profession.\"\"\"\n",
    "l1=[]\n",
    "d1={}\n",
    "for i in range(len(string1)):\n",
    "        if string1[i] not in ('a','an','is','the'):\n",
    "            l1.append(string1[i])\n",
    "for i in range(len(l1)):\n",
    "    d1[l1[i]]=ord(l1[i][0])\n",
    "print(d1,end=\"\")"
   ]
  },
  {
   "cell_type": "code",
   "execution_count": null,
   "id": "631cc8f0-457f-41c7-a900-1f9532874c4d",
   "metadata": {},
   "outputs": [],
   "source": []
  },
  {
   "cell_type": "markdown",
   "id": "4a905438-3655-4091-979c-b8a044438428",
   "metadata": {},
   "source": [
    "**Dictionary Methods**"
   ]
  },
  {
   "cell_type": "code",
   "execution_count": 34,
   "id": "14cddcfa-d023-4375-808c-bacea0813087",
   "metadata": {},
   "outputs": [
    {
     "data": {
      "text/plain": [
       "['__class__',\n",
       " '__class_getitem__',\n",
       " '__contains__',\n",
       " '__delattr__',\n",
       " '__delitem__',\n",
       " '__dir__',\n",
       " '__doc__',\n",
       " '__eq__',\n",
       " '__format__',\n",
       " '__ge__',\n",
       " '__getattribute__',\n",
       " '__getitem__',\n",
       " '__getstate__',\n",
       " '__gt__',\n",
       " '__hash__',\n",
       " '__init__',\n",
       " '__init_subclass__',\n",
       " '__ior__',\n",
       " '__iter__',\n",
       " '__le__',\n",
       " '__len__',\n",
       " '__lt__',\n",
       " '__ne__',\n",
       " '__new__',\n",
       " '__or__',\n",
       " '__reduce__',\n",
       " '__reduce_ex__',\n",
       " '__repr__',\n",
       " '__reversed__',\n",
       " '__ror__',\n",
       " '__setattr__',\n",
       " '__setitem__',\n",
       " '__sizeof__',\n",
       " '__str__',\n",
       " '__subclasshook__',\n",
       " 'clear',\n",
       " 'copy',\n",
       " 'fromkeys',\n",
       " 'get',\n",
       " 'items',\n",
       " 'keys',\n",
       " 'pop',\n",
       " 'popitem',\n",
       " 'setdefault',\n",
       " 'update',\n",
       " 'values']"
      ]
     },
     "execution_count": 34,
     "metadata": {},
     "output_type": "execute_result"
    }
   ],
   "source": [
    "dir() #string methods\n",
    "dir([]) #list methods\n",
    "dir(()) #set methods\n",
    "dir({}) #dictionary methods"
   ]
  },
  {
   "cell_type": "code",
   "execution_count": 33,
   "id": "98d39100-11c1-48e0-8a9c-40042e069784",
   "metadata": {},
   "outputs": [
    {
     "data": {
      "text/plain": [
       "['__class__',\n",
       " '__class_getitem__',\n",
       " '__contains__',\n",
       " '__delattr__',\n",
       " '__delitem__',\n",
       " '__dir__',\n",
       " '__doc__',\n",
       " '__eq__',\n",
       " '__format__',\n",
       " '__ge__',\n",
       " '__getattribute__',\n",
       " '__getitem__',\n",
       " '__getstate__',\n",
       " '__gt__',\n",
       " '__hash__',\n",
       " '__init__',\n",
       " '__init_subclass__',\n",
       " '__ior__',\n",
       " '__iter__',\n",
       " '__le__',\n",
       " '__len__',\n",
       " '__lt__',\n",
       " '__ne__',\n",
       " '__new__',\n",
       " '__or__',\n",
       " '__reduce__',\n",
       " '__reduce_ex__',\n",
       " '__repr__',\n",
       " '__reversed__',\n",
       " '__ror__',\n",
       " '__setattr__',\n",
       " '__setitem__',\n",
       " '__sizeof__',\n",
       " '__str__',\n",
       " '__subclasshook__',\n",
       " 'clear',\n",
       " 'copy',\n",
       " 'fromkeys',\n",
       " 'get',\n",
       " 'items',\n",
       " 'keys',\n",
       " 'pop',\n",
       " 'popitem',\n",
       " 'setdefault',\n",
       " 'update',\n",
       " 'values']"
      ]
     },
     "execution_count": 33,
     "metadata": {},
     "output_type": "execute_result"
    }
   ],
   "source": [
    "dir({})"
   ]
  },
  {
   "cell_type": "markdown",
   "id": "3c665c01-724d-4f60-9d95-5b0f2a38364c",
   "metadata": {},
   "source": [
    "**items-keys-values**"
   ]
  },
  {
   "cell_type": "code",
   "execution_count": 4,
   "id": "10ff0392-f540-47cc-8674-d004b868c3d9",
   "metadata": {},
   "outputs": [
    {
     "data": {
      "text/plain": [
       "dict_items([('vignesh', 20), ('Mohit', 25), ('Nagesh', 15)])"
      ]
     },
     "execution_count": 4,
     "metadata": {},
     "output_type": "execute_result"
    }
   ],
   "source": [
    "d={'vignesh':20,'Mohit':25,'Nagesh':15}\n",
    "d.items()"
   ]
  },
  {
   "cell_type": "code",
   "execution_count": 5,
   "id": "227bdc47-31db-429e-9fa5-952256b41d2e",
   "metadata": {},
   "outputs": [
    {
     "data": {
      "text/plain": [
       "dict_keys(['vignesh', 'Mohit', 'Nagesh'])"
      ]
     },
     "execution_count": 5,
     "metadata": {},
     "output_type": "execute_result"
    }
   ],
   "source": [
    "d.keys()"
   ]
  },
  {
   "cell_type": "code",
   "execution_count": 6,
   "id": "b9886de8-64eb-4ad5-a7b9-5d7f739b4ed4",
   "metadata": {},
   "outputs": [
    {
     "data": {
      "text/plain": [
       "dict_values([20, 25, 15])"
      ]
     },
     "execution_count": 6,
     "metadata": {},
     "output_type": "execute_result"
    }
   ],
   "source": [
    "d.values()"
   ]
  },
  {
   "cell_type": "code",
   "execution_count": 22,
   "id": "2395f310-3b9f-4b6f-9627-1d640c26a233",
   "metadata": {},
   "outputs": [
    {
     "name": "stdout",
     "output_type": "stream",
     "text": [
      "vignesh 20\n",
      "Mohit 25\n",
      "Nagesh 15\n"
     ]
    },
    {
     "data": {
      "text/plain": [
       "(['vignesh', 'Mohit', 'Nagesh'], [20, 25, 15])"
      ]
     },
     "execution_count": 22,
     "metadata": {},
     "output_type": "execute_result"
    }
   ],
   "source": [
    "d={'vignesh':20,'Mohit':25,'Nagesh':15}\n",
    "keys,values=[],[]\n",
    "for i in d:\n",
    "    print(i,d[i])\n",
    "    keys.append(i)\n",
    "    values.append(d[i])\n",
    "keys,values"
   ]
  },
  {
   "cell_type": "code",
   "execution_count": 9,
   "id": "254a8ac8-6623-4d67-9b8a-1bc2eadc2bb6",
   "metadata": {},
   "outputs": [
    {
     "data": {
      "text/plain": [
       "dict_keys(['vignesh', 'Mohit', 'Nagesh'])"
      ]
     },
     "execution_count": 9,
     "metadata": {},
     "output_type": "execute_result"
    }
   ],
   "source": [
    "d.keys()"
   ]
  },
  {
   "cell_type": "code",
   "execution_count": 10,
   "id": "792c2194-6b12-4a87-bbd1-2f3a9b50c6c5",
   "metadata": {},
   "outputs": [
    {
     "data": {
      "text/plain": [
       "dict_keys"
      ]
     },
     "execution_count": 10,
     "metadata": {},
     "output_type": "execute_result"
    }
   ],
   "source": [
    "type(d.keys())"
   ]
  },
  {
   "cell_type": "code",
   "execution_count": 12,
   "id": "e4ea1ad5-8150-43d4-9ba3-fd7e22cbf875",
   "metadata": {},
   "outputs": [
    {
     "data": {
      "text/plain": [
       "(['vignesh', 'Mohit', 'Nagesh'], [20, 25, 15])"
      ]
     },
     "execution_count": 12,
     "metadata": {},
     "output_type": "execute_result"
    }
   ],
   "source": [
    "list(d.keys()),list(d.values())"
   ]
  },
  {
   "cell_type": "markdown",
   "id": "385b14dc-ef80-4e44-aaf2-14e57f95cff0",
   "metadata": {},
   "source": [
    "- Dictionary keys will give dictionary keys items in a list\n",
    "\n",
    "- It look like a list, but it is not in a list\n",
    "\n",
    "- Which means we can not apply list methods\n",
    "\n",
    "- So we need to convert into list type,by using list type casting"
   ]
  },
  {
   "cell_type": "code",
   "execution_count": 16,
   "id": "6a19481e-5528-45a6-80cb-94670df2f7c7",
   "metadata": {},
   "outputs": [
    {
     "name": "stdout",
     "output_type": "stream",
     "text": [
      "Apple 20\n",
      "Ball 25\n",
      "Cat 27\n"
     ]
    },
    {
     "data": {
      "text/plain": [
       "(['Apple', 'Ball', 'Cat'], [20, 25, 27])"
      ]
     },
     "execution_count": 16,
     "metadata": {},
     "output_type": "execute_result"
    }
   ],
   "source": [
    "d={'Apple':20,'Ball':25,'Cat':27}\n",
    "keys,values=[],[]\n",
    "for i  in d:\n",
    "    print(i,d[i])\n",
    "    keys.append(i)\n",
    "    values.append(d[i])\n",
    "keys,values"
   ]
  },
  {
   "cell_type": "code",
   "execution_count": 18,
   "id": "45a7d664-3af8-46b9-b049-25f9ac0fd3b9",
   "metadata": {},
   "outputs": [
    {
     "data": {
      "text/plain": [
       "(['Apple', 'Ball', 'Cat'], [20, 25, 27])"
      ]
     },
     "execution_count": 18,
     "metadata": {},
     "output_type": "execute_result"
    }
   ],
   "source": [
    "list(d.keys()),list(d.values())"
   ]
  },
  {
   "cell_type": "code",
   "execution_count": 20,
   "id": "c98e45fd-d54c-4a45-b016-7d008996581c",
   "metadata": {},
   "outputs": [
    {
     "data": {
      "text/plain": [
       "(dict_values([20, 25, 27]), dict_keys(['Apple', 'Ball', 'Cat']))"
      ]
     },
     "execution_count": 20,
     "metadata": {},
     "output_type": "execute_result"
    }
   ],
   "source": [
    "d.values(),d.keys()"
   ]
  },
  {
   "cell_type": "markdown",
   "id": "7790b6e9-e485-463c-b4c0-0110204c9572",
   "metadata": {},
   "source": [
    "**Method-1**"
   ]
  },
  {
   "cell_type": "code",
   "execution_count": 30,
   "id": "f5b8d147-4074-4d35-bce4-e395da949690",
   "metadata": {},
   "outputs": [
    {
     "name": "stdout",
     "output_type": "stream",
     "text": [
      "Apple 20\n",
      "Ball 25\n",
      "Cat 27\n"
     ]
    },
    {
     "data": {
      "text/plain": [
       "(['Apple', 'Ball', 'Cat'], [20, 25, 27])"
      ]
     },
     "execution_count": 30,
     "metadata": {},
     "output_type": "execute_result"
    }
   ],
   "source": [
    "d={'Apple':20,'Ball':25,'Cat':27}\n",
    "keys,values=[],[]\n",
    "for i  in d:\n",
    "    print(i,d[i])\n",
    "    keys.append(i)\n",
    "    values.append(d[i])\n",
    "keys,values"
   ]
  },
  {
   "cell_type": "markdown",
   "id": "41ff4ecc-0bf7-4d9b-8121-3acebcdce298",
   "metadata": {},
   "source": [
    "**method-2**"
   ]
  },
  {
   "cell_type": "code",
   "execution_count": 26,
   "id": "b5ea807a-34b7-434e-85ba-79d507b4cb51",
   "metadata": {},
   "outputs": [
    {
     "data": {
      "text/plain": [
       "(dict_keys(['Apple', 'Ball', 'Cat']), dict_values([20, 25, 27]))"
      ]
     },
     "execution_count": 26,
     "metadata": {},
     "output_type": "execute_result"
    }
   ],
   "source": [
    "d={'Apple':20,'Ball':25,'Cat':27}\n",
    "d.keys(),d.values()"
   ]
  },
  {
   "cell_type": "markdown",
   "id": "054fb004-a2e5-49d2-8602-a346f6e8690f",
   "metadata": {},
   "source": [
    "**Method-3**"
   ]
  },
  {
   "cell_type": "code",
   "execution_count": 24,
   "id": "444dca83-b103-4e1b-abb8-22d92af9b9f0",
   "metadata": {},
   "outputs": [
    {
     "data": {
      "text/plain": [
       "dict_items([('Apple', 20), ('Ball', 25), ('Cat', 27)])"
      ]
     },
     "execution_count": 24,
     "metadata": {},
     "output_type": "execute_result"
    }
   ],
   "source": [
    "d.items()"
   ]
  },
  {
   "cell_type": "code",
   "execution_count": 29,
   "id": "4defa7b8-fb3a-410f-9e78-85f928b7753b",
   "metadata": {},
   "outputs": [
    {
     "name": "stdout",
     "output_type": "stream",
     "text": [
      "Apple 20\n",
      "Ball 25\n",
      "Cat 27\n"
     ]
    },
    {
     "data": {
      "text/plain": [
       "(['Apple', 'Ball', 'Cat'], [20, 25, 27])"
      ]
     },
     "execution_count": 29,
     "metadata": {},
     "output_type": "execute_result"
    }
   ],
   "source": [
    "keys,values=[],[]\n",
    "for i,j in d.items():\n",
    "    print(i,j)\n",
    "    keys.append(i)\n",
    "    values.append(j)\n",
    "keys,values"
   ]
  },
  {
   "cell_type": "code",
   "execution_count": null,
   "id": "abaec649-c5ad-4731-81d1-03a008f13006",
   "metadata": {},
   "outputs": [],
   "source": [
    "a=10,20 #true\n",
    "a,b=10,20 #true\n",
    "a,b=10 #false"
   ]
  },
  {
   "cell_type": "code",
   "execution_count": 32,
   "id": "e8381c21-ad31-4116-8144-6c9999e5b671",
   "metadata": {},
   "outputs": [
    {
     "data": {
      "text/plain": [
       "['__class__',\n",
       " '__class_getitem__',\n",
       " '__contains__',\n",
       " '__delattr__',\n",
       " '__delitem__',\n",
       " '__dir__',\n",
       " '__doc__',\n",
       " '__eq__',\n",
       " '__format__',\n",
       " '__ge__',\n",
       " '__getattribute__',\n",
       " '__getitem__',\n",
       " '__getstate__',\n",
       " '__gt__',\n",
       " '__hash__',\n",
       " '__init__',\n",
       " '__init_subclass__',\n",
       " '__ior__',\n",
       " '__iter__',\n",
       " '__le__',\n",
       " '__len__',\n",
       " '__lt__',\n",
       " '__ne__',\n",
       " '__new__',\n",
       " '__or__',\n",
       " '__reduce__',\n",
       " '__reduce_ex__',\n",
       " '__repr__',\n",
       " '__reversed__',\n",
       " '__ror__',\n",
       " '__setattr__',\n",
       " '__setitem__',\n",
       " '__sizeof__',\n",
       " '__str__',\n",
       " '__subclasshook__',\n",
       " 'clear',\n",
       " 'copy',\n",
       " 'fromkeys',\n",
       " 'get',\n",
       " 'items',\n",
       " 'keys',\n",
       " 'pop',\n",
       " 'popitem',\n",
       " 'setdefault',\n",
       " 'update',\n",
       " 'values']"
      ]
     },
     "execution_count": 32,
     "metadata": {},
     "output_type": "execute_result"
    }
   ],
   "source": [
    "dir({})"
   ]
  },
  {
   "cell_type": "markdown",
   "id": "845a5349-eebb-497d-a35b-c9409dbdce1c",
   "metadata": {},
   "source": [
    "**Clear**"
   ]
  },
  {
   "cell_type": "code",
   "execution_count": 2,
   "id": "aed6c414-fa00-4212-ba8b-59f878bcfe50",
   "metadata": {},
   "outputs": [
    {
     "data": {
      "text/plain": [
       "{}"
      ]
     },
     "execution_count": 2,
     "metadata": {},
     "output_type": "execute_result"
    }
   ],
   "source": [
    "d={'Apple':20,'Ball':25,'Cat':27}\n",
    "d.clear()\n",
    "d"
   ]
  },
  {
   "cell_type": "code",
   "execution_count": 4,
   "id": "2ccf4d93-7ded-4fb6-a14b-1865ff568ca2",
   "metadata": {},
   "outputs": [
    {
     "data": {
      "text/plain": [
       "{}"
      ]
     },
     "execution_count": 4,
     "metadata": {},
     "output_type": "execute_result"
    }
   ],
   "source": [
    "d={'vignesh':20,'Mohit':25,'Nagesh':15}\n",
    "d.clear()\n",
    "d"
   ]
  },
  {
   "cell_type": "markdown",
   "id": "b38a4b02-498a-4935-b9ad-c256a9093746",
   "metadata": {},
   "source": [
    "**copy**"
   ]
  },
  {
   "cell_type": "code",
   "execution_count": 5,
   "id": "1bbc3347-516a-447f-9912-918ce863d9ec",
   "metadata": {},
   "outputs": [
    {
     "data": {
      "text/plain": [
       "{'vignesh': 20, 'Mohit': 25, 'Nagesh': 15}"
      ]
     },
     "execution_count": 5,
     "metadata": {},
     "output_type": "execute_result"
    }
   ],
   "source": [
    "d={'vignesh':20,'Mohit':25,'Nagesh':15}\n",
    "d.copy()\n",
    "d"
   ]
  },
  {
   "cell_type": "code",
   "execution_count": 6,
   "id": "e6990589-ca1a-4e70-b721-2e1142bc23f4",
   "metadata": {},
   "outputs": [
    {
     "data": {
      "text/plain": [
       "{'Apple': 20, 'Ball': 25, 'Cat': 27}"
      ]
     },
     "execution_count": 6,
     "metadata": {},
     "output_type": "execute_result"
    }
   ],
   "source": [
    "d={'Apple':20,'Ball':25,'Cat':27}\n",
    "d.copy()\n",
    "d"
   ]
  },
  {
   "cell_type": "markdown",
   "id": "0804f937-df26-485f-898d-e9bd26964bc9",
   "metadata": {},
   "source": [
    "**fromkeys**"
   ]
  },
  {
   "cell_type": "code",
   "execution_count": 13,
   "id": "a2260888-393b-472b-ae58-18b0cb848862",
   "metadata": {},
   "outputs": [
    {
     "data": {
      "text/plain": [
       "{'Apple': 20, 'Ball': 25, 'Cat': 27}"
      ]
     },
     "execution_count": 13,
     "metadata": {},
     "output_type": "execute_result"
    }
   ],
   "source": [
    "d={'Apple':20,'Ball':25,'Cat':27}\n",
    "d.fromkeys('Apple',25)\n",
    "d"
   ]
  },
  {
   "cell_type": "code",
   "execution_count": 15,
   "id": "c1bcd07e-799b-4f52-b75f-3e177432264b",
   "metadata": {},
   "outputs": [
    {
     "data": {
      "text/plain": [
       "{'vignesh': 20, 'Mohit': 25, 'Nagesh': 15}"
      ]
     },
     "execution_count": 15,
     "metadata": {},
     "output_type": "execute_result"
    }
   ],
   "source": [
    "d={'vignesh':20,'Mohit':25,'Nagesh':15}\n",
    "d.fromkeys('20')\n",
    "d"
   ]
  },
  {
   "cell_type": "markdown",
   "id": "c7ea1bc0-8187-4e25-9b1a-5cb1d869e306",
   "metadata": {},
   "source": [
    "**get**"
   ]
  },
  {
   "cell_type": "code",
   "execution_count": 18,
   "id": "1c22526b-9f74-4c3c-882d-8522ec54472e",
   "metadata": {},
   "outputs": [
    {
     "data": {
      "text/plain": [
       "{'vignesh': 20, 'Mohit': 25, 'Nagesh': 15}"
      ]
     },
     "execution_count": 18,
     "metadata": {},
     "output_type": "execute_result"
    }
   ],
   "source": [
    "d={'vignesh':20,'Mohit':25,'Nagesh':15}\n",
    "d.get('Vignesh',None)\n",
    "d"
   ]
  },
  {
   "cell_type": "markdown",
   "id": "e5e7ffa4-2919-459f-ba45-61b686a522a5",
   "metadata": {},
   "source": [
    "**keys**"
   ]
  },
  {
   "cell_type": "code",
   "execution_count": 19,
   "id": "ed9e15a3-72f2-4310-87aa-4ff4ca71d52d",
   "metadata": {},
   "outputs": [
    {
     "data": {
      "text/plain": [
       "{'vignesh': 20, 'Mohit': 25, 'Nagesh': 15}"
      ]
     },
     "execution_count": 19,
     "metadata": {},
     "output_type": "execute_result"
    }
   ],
   "source": [
    "d={'vignesh':20,'Mohit':25,'Nagesh':15}\n",
    "d.keys()\n",
    "d"
   ]
  },
  {
   "cell_type": "markdown",
   "id": "ac53e338-2b4d-49a6-b2ca-abad107b6cbb",
   "metadata": {},
   "source": [
    "**pop**"
   ]
  },
  {
   "cell_type": "code",
   "execution_count": 26,
   "id": "d914e471-a5d8-4328-8a0f-cea428fd4c3f",
   "metadata": {},
   "outputs": [
    {
     "data": {
      "text/plain": [
       "{'Mohit': 25, 'Nagesh': 15}"
      ]
     },
     "execution_count": 26,
     "metadata": {},
     "output_type": "execute_result"
    }
   ],
   "source": [
    "d={'Vignesh':20,'Mohit':25,'Nagesh':15}\n",
    "d.pop('Vignesh')\n",
    "d"
   ]
  },
  {
   "cell_type": "markdown",
   "id": "03c5f4e0-d489-40e6-9fa2-f68bb8dc8495",
   "metadata": {},
   "source": [
    "**popitem**"
   ]
  },
  {
   "cell_type": "code",
   "execution_count": 27,
   "id": "dc993841-2f03-4747-8435-b74334b4d89c",
   "metadata": {},
   "outputs": [
    {
     "data": {
      "text/plain": [
       "{'vignesh': 20, 'Mohit': 25}"
      ]
     },
     "execution_count": 27,
     "metadata": {},
     "output_type": "execute_result"
    }
   ],
   "source": [
    "d={'vignesh':20,'Mohit':25,'Nagesh':15}\n",
    "d.popitem()\n",
    "d"
   ]
  },
  {
   "cell_type": "markdown",
   "id": "bf7da2dc-07c8-4e6c-b269-7b6bc775b2b8",
   "metadata": {},
   "source": [
    "**setdefault**"
   ]
  },
  {
   "cell_type": "code",
   "execution_count": 32,
   "id": "8ce6e739-5712-4609-958e-e46df1da4329",
   "metadata": {},
   "outputs": [
    {
     "data": {
      "text/plain": [
       "{'vignesh': 20, 'Mohit': 25, 'Nagesh': 15, 'Akhil': 2}"
      ]
     },
     "execution_count": 32,
     "metadata": {},
     "output_type": "execute_result"
    }
   ],
   "source": [
    "d={'vignesh':20,'Mohit':25,'Nagesh':15}\n",
    "d.setdefault('Akhil',2)\n",
    "d"
   ]
  },
  {
   "cell_type": "markdown",
   "id": "c1a0c295-23f0-4b7c-a2df-308013627324",
   "metadata": {},
   "source": [
    "**update**"
   ]
  },
  {
   "cell_type": "code",
   "execution_count": 44,
   "id": "03df527e-794f-404e-9868-341eb5151474",
   "metadata": {},
   "outputs": [
    {
     "data": {
      "text/plain": [
       "{'Vignesh': 20, 'Mohit': 25, 'Nagesh': 15}"
      ]
     },
     "execution_count": 44,
     "metadata": {},
     "output_type": "execute_result"
    }
   ],
   "source": [
    "d={'Vignesh':20,'Mohit':25,'Nagesh':15}\n",
    "d.update()\n",
    "d"
   ]
  },
  {
   "cell_type": "markdown",
   "id": "83c5425b-71b6-46d7-9b3f-f13f85a73977",
   "metadata": {},
   "source": [
    "**Values**"
   ]
  },
  {
   "cell_type": "code",
   "execution_count": 47,
   "id": "2b83ed31-3ab4-4f7e-94f7-e44b11631702",
   "metadata": {},
   "outputs": [
    {
     "data": {
      "text/plain": [
       "{'vignesh': 20, 'Mohit': 25, 'Nagesh': 15}"
      ]
     },
     "execution_count": 47,
     "metadata": {},
     "output_type": "execute_result"
    }
   ],
   "source": [
    "d={'vignesh':20,'Mohit':25,'Nagesh':15}\n",
    "d.values()\n",
    "d"
   ]
  },
  {
   "cell_type": "code",
   "execution_count": null,
   "id": "62159ab4-1c83-4b7f-82f8-ab8037f67399",
   "metadata": {},
   "outputs": [],
   "source": []
  }
 ],
 "metadata": {
  "kernelspec": {
   "display_name": "Python 3 (ipykernel)",
   "language": "python",
   "name": "python3"
  },
  "language_info": {
   "codemirror_mode": {
    "name": "ipython",
    "version": 3
   },
   "file_extension": ".py",
   "mimetype": "text/x-python",
   "name": "python",
   "nbconvert_exporter": "python",
   "pygments_lexer": "ipython3",
   "version": "3.11.7"
  }
 },
 "nbformat": 4,
 "nbformat_minor": 5
}
