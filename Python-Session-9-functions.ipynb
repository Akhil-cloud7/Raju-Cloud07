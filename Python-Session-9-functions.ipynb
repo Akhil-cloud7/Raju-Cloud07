{
 "cells": [
  {
   "cell_type": "markdown",
   "id": "77be6af2-ac10-4405-b7f5-5abd4a511c26",
   "metadata": {},
   "source": [
    "**Functions**\n",
    "\n",
    "- A block of code which we can use many times\n"
   ]
  },
  {
   "cell_type": "code",
   "execution_count": null,
   "id": "f73ac9b7-cd0d-469d-a793-7e90488de3cb",
   "metadata": {},
   "outputs": [],
   "source": [
    "function without arguments"
   ]
  },
  {
   "cell_type": "code",
   "execution_count": null,
   "id": "cb81085d-4e3e-4876-a9a4-e45ca2fb0148",
   "metadata": {},
   "outputs": [],
   "source": [
    "def <Function_name>():\n",
    "    codelines"
   ]
  },
  {
   "cell_type": "code",
   "execution_count": 8,
   "id": "f267fb46-4916-461f-ac57-25693a03e018",
   "metadata": {},
   "outputs": [
    {
     "name": "stdout",
     "output_type": "stream",
     "text": [
      "num1 is 10\n",
      "num2 is 20\n",
      "the addition of 10 and 20 is:30\n"
     ]
    }
   ],
   "source": [
    "def addition():\n",
    "    num1=10\n",
    "    print(\"num1 is\",num1)\n",
    "    num2=20\n",
    "    print(\"num2 is\",num2)\n",
    "    add=num1+num2\n",
    "    print(f\"the addition of {num1} and {num2} is:{add}\")\n",
    "addition()"
   ]
  },
  {
   "cell_type": "markdown",
   "id": "1d616b27-24ca-49dc-8c4c-8682b33ef4ae",
   "metadata": {},
   "source": [
    "## Note ##\n",
    "\n",
    "- function names can be anything\n",
    "\n",
    "- same rules applicable as variable rules\n",
    "\n",
    "- whenever you create the function make sure the indentation\n",
    "\n",
    "- starting with keyword,ending with colon then code line start with indentation\n",
    "\n",
    "- brackets means functions\n",
    "\n",
    "- Never missed the brackets whenever you call the function\n",
    "\n",
    "- If you want to Excute the code We neec call the function\n",
    "\n",
    "- while you are calling the function if you see function or bound\n"
   ]
  },
  {
   "cell_type": "code",
   "execution_count": 11,
   "id": "f1f4d3dd-7239-4889-af1c-a6a4df54c0c8",
   "metadata": {},
   "outputs": [],
   "source": [
    "##whenever we defined function It does not throw any error until unless we call the function ##"
   ]
  },
  {
   "cell_type": "code",
   "execution_count": 18,
   "id": "da8ba0e6-9aa8-4a54-9dad-3f6745459ec8",
   "metadata": {},
   "outputs": [
    {
     "name": "stdin",
     "output_type": "stream",
     "text": [
      "enter the radius 23\n"
     ]
    },
    {
     "name": "stdout",
     "output_type": "stream",
     "text": [
      "1661.06\n"
     ]
    }
   ],
   "source": [
    "def area():\n",
    "    num1=eval(input(\"enter the radius\"))\n",
    "    area=3.14*num1*num1\n",
    "    print(area)\n",
    "area()\n",
    "              "
   ]
  },
  {
   "cell_type": "code",
   "execution_count": 1,
   "id": "bc58aa64-9317-4a06-99bd-f1acae3eb835",
   "metadata": {},
   "outputs": [
    {
     "name": "stdin",
     "output_type": "stream",
     "text": [
      "enter the amount 200\n",
      "enter the tip 30\n"
     ]
    },
    {
     "name": "stdout",
     "output_type": "stream",
     "text": [
      "the total bill 230\n"
     ]
    }
   ],
   "source": [
    "def bill():\n",
    "    n1=eval(input(\"enter the amount\"))\n",
    "    n2=eval(input(\"enter the tip\"))\n",
    "    total=n1+n2\n",
    "    print(\"the total bill\",total)\n",
    "bill()\n"
   ]
  },
  {
   "cell_type": "code",
   "execution_count": null,
   "id": "4c7ad582-1fbd-4f4a-b0ac-380ccaff33e9",
   "metadata": {},
   "outputs": [],
   "source": [
    "def area():\n",
    "    len=eval(input(\"enter the length\")\n",
    "    breadth=eval(input("
   ]
  },
  {
   "cell_type": "markdown",
   "id": "384ddfe1-f0c1-41c1-8797-62fd7a5f25a1",
   "metadata": {},
   "source": [
    "- while we are defining function"
   ]
  },
  {
   "cell_type": "markdown",
   "id": "1a829d12-c536-42d6-be1e-9ab451f11d35",
   "metadata": {},
   "source": [
    "**Function with arguments**\n",
    "\n",
    "- First lokk at how many arguments or variables are there\n",
    "\n",
    "- In that how many input variables are there\n",
    "\n",
    "- How many ouput variables are there\n",
    "\n",
    "- Input variables user can defined\n",
    "\n",
    "- output varible means python gives the output \n",
    "\n",
    "- We can use only output varibles \n"
   ]
  },
  {
   "cell_type": "code",
   "execution_count": 24,
   "id": "c5fbb913-dc73-4ac1-8946-07b1081eb904",
   "metadata": {},
   "outputs": [
    {
     "name": "stdout",
     "output_type": "stream",
     "text": [
      "the addition of 20 and 30 is :50\n"
     ]
    }
   ],
   "source": [
    "def addition2(num1,num2):\n",
    "    add=num1+num2\n",
    "    print(f\"the addition of {num1} and {num2} is :{add}\")\n",
    "addition2(20,30)"
   ]
  },
  {
   "cell_type": "code",
   "execution_count": 30,
   "id": "deadec1e-866d-42f5-88b9-026b18955142",
   "metadata": {},
   "outputs": [
    {
     "name": "stdout",
     "output_type": "stream",
     "text": [
      "the addition of 20 and 30 and79 is :43.0\n"
     ]
    }
   ],
   "source": [
    "def avg2(num1,num2,num3):\n",
    "    avg=(num1+num2+num3)/3\n",
    "    avg1=round(avg,2)\n",
    "    print(f\"the addition of {num1} and {num2} and{num3} is :{avg1}\")\n",
    "avg2(20,30,79)"
   ]
  },
  {
   "cell_type": "code",
   "execution_count": 5,
   "id": "4b60b27f-35d0-40cb-8d45-d3927af9b699",
   "metadata": {},
   "outputs": [
    {
     "ename": "UnboundLocalError",
     "evalue": "cannot access local variable 'c' where it is not associated with a value",
     "output_type": "error",
     "traceback": [
      "\u001b[1;31m---------------------------------------------------------------------------\u001b[0m",
      "\u001b[1;31mUnboundLocalError\u001b[0m                         Traceback (most recent call last)",
      "Cell \u001b[1;32mIn[5], line 6\u001b[0m\n\u001b[0;32m      4\u001b[0m     s\u001b[38;5;241m=\u001b[39ma\u001b[38;5;241m+\u001b[39m\u001b[38;5;241m10\u001b[39m\n\u001b[0;32m      5\u001b[0m     \u001b[38;5;28mprint\u001b[39m(s)\n\u001b[1;32m----> 6\u001b[0m add()\n",
      "Cell \u001b[1;32mIn[5], line 3\u001b[0m, in \u001b[0;36madd\u001b[1;34m()\u001b[0m\n\u001b[0;32m      2\u001b[0m \u001b[38;5;28;01mdef\u001b[39;00m \u001b[38;5;21madd\u001b[39m():\n\u001b[1;32m----> 3\u001b[0m     c\u001b[38;5;241m=\u001b[39mc\u001b[38;5;241m+\u001b[39ms\n\u001b[0;32m      4\u001b[0m     s\u001b[38;5;241m=\u001b[39ma\u001b[38;5;241m+\u001b[39m\u001b[38;5;241m10\u001b[39m\n\u001b[0;32m      5\u001b[0m     \u001b[38;5;28mprint\u001b[39m(s)\n",
      "\u001b[1;31mUnboundLocalError\u001b[0m: cannot access local variable 'c' where it is not associated with a value"
     ]
    }
   ],
   "source": [
    "a=0  #Gv\n",
    "def add():\n",
    "    c=c+s   #Lv\n",
    "    s=a+10\n",
    "    print(s)\n",
    "add()\n",
    "\n",
    "#step1: s=0   gv\n",
    "#step2: define the function\n",
    "#step3:call the fnction \n",
    "#step4: run the function\n",
    "#         c is lv:c=s+10= c=10\n",
    "#       we are creating a new variable same like as global variable\n"
   ]
  },
  {
   "cell_type": "markdown",
   "id": "819bc800-1c95-42b1-91d2-42e4a7c8d921",
   "metadata": {},
   "source": [
    "**note**\n",
    "- if you give variaes as global and local\n",
    "\n",
    "- make sure that variable should not use as value inside"
   ]
  },
  {
   "cell_type": "code",
   "execution_count": 8,
   "id": "743f9e11-1eef-4a2a-8362-bc9668b23149",
   "metadata": {},
   "outputs": [
    {
     "name": "stdout",
     "output_type": "stream",
     "text": [
      "10 210 220\n"
     ]
    }
   ],
   "source": [
    "n11=10\n",
    "def addition():\n",
    "    n22=200+n11\n",
    "    n33=n11+n22\n",
    "    print(n11,n22,n33)\n",
    "\n",
    "\n",
    "addition()\n",
    "\n",
    "#step1: n11=10\n",
    "#step2: definig the function \n",
    "#step3: calling the function \n",
    "#step4: run the function \n",
    "#          \n",
    "\n"
   ]
  },
  {
   "cell_type": "code",
   "execution_count": 9,
   "id": "40569b87-de21-4e3f-bca8-974bee254549",
   "metadata": {},
   "outputs": [
    {
     "name": "stdout",
     "output_type": "stream",
     "text": [
      "hello\n"
     ]
    }
   ],
   "source": [
    "value=100\n",
    "def great():\n",
    "    value=200\n",
    "    print('hello')\n",
    "great()"
   ]
  },
  {
   "cell_type": "code",
   "execution_count": 10,
   "id": "47651253-8986-4d9f-b7ef-84cce89816ee",
   "metadata": {},
   "outputs": [
    {
     "data": {
      "text/plain": [
       "100"
      ]
     },
     "execution_count": 10,
     "metadata": {},
     "output_type": "execute_result"
    }
   ],
   "source": [
    "value"
   ]
  },
  {
   "cell_type": "markdown",
   "id": "a8d2b539-789e-415a-8730-5092919453e9",
   "metadata": {},
   "source": [
    "**global**\n",
    "\n",
    "- global keyword is used to take local variable value outside the function"
   ]
  },
  {
   "cell_type": "code",
   "execution_count": 13,
   "id": "b25705e2-d6ca-45b0-a806-a821ce652dac",
   "metadata": {},
   "outputs": [
    {
     "name": "stdout",
     "output_type": "stream",
     "text": [
      "hello\n",
      "value: 200\n"
     ]
    }
   ],
   "source": [
    "value=100\n",
    "def great():\n",
    "    global value\n",
    "    value=200\n",
    "    print('hello')\n",
    "great()\n",
    "print('value:',value)"
   ]
  },
  {
   "cell_type": "code",
   "execution_count": 22,
   "id": "d490b483-1c95-4dc4-92a9-fa4fe4eae428",
   "metadata": {},
   "outputs": [
    {
     "name": "stdout",
     "output_type": "stream",
     "text": [
      "10 210 220\n",
      "210 220 10\n"
     ]
    }
   ],
   "source": [
    "n11=10\n",
    "def addition():\n",
    "    global n22,n33,n11\n",
    "    n22=200+n11\n",
    "    n33=n11+n22\n",
    "    print(n11,n22,n33)\n",
    "\n",
    "\n",
    "addition()\n",
    "print(n22,n33,n11)\n"
   ]
  },
  {
   "cell_type": "code",
   "execution_count": 23,
   "id": "934ae089-cb93-4f86-82bd-272e7afbe17a",
   "metadata": {},
   "outputs": [
    {
     "data": {
      "text/plain": [
       "(210, 220, 10)"
      ]
     },
     "execution_count": 23,
     "metadata": {},
     "output_type": "execute_result"
    }
   ],
   "source": [
    "n22,n33,n11"
   ]
  },
  {
   "cell_type": "markdown",
   "id": "be40a3e7-d578-498b-b2f0-ab4194862d0e",
   "metadata": {},
   "source": [
    "- outside the function is called global variable\n",
    "\n",
    "- inside the function is local variable\n",
    "\n",
    "- local varibles can not use outside function\n",
    "\n",
    "- if you want to outside the function use global keyword"
   ]
  },
  {
   "cell_type": "code",
   "execution_count": 26,
   "id": "f75ab648-f1c8-49d7-a7b4-7f13706e8700",
   "metadata": {},
   "outputs": [
    {
     "name": "stdin",
     "output_type": "stream",
     "text": [
      " 30\n",
      " 90\n"
     ]
    },
    {
     "name": "stdout",
     "output_type": "stream",
     "text": [
      "2700\n"
     ]
    }
   ],
   "source": [
    "def mul(a,b):\n",
    "    print(a*b)\n",
    "\n",
    "mul(eval(input()),\n",
    "    eval(input()))\n",
    "    "
   ]
  },
  {
   "cell_type": "markdown",
   "id": "4b6c3a25-f6dc-450a-8783-1e636f2d5f21",
   "metadata": {},
   "source": [
    "**Return**\n"
   ]
  },
  {
   "cell_type": "markdown",
   "id": "d7f85431-549c-4dd9-a303-e19afc58eb1e",
   "metadata": {},
   "source": [
    "- we can use the local variable or function outputs outside the function\n",
    "\n",
    "- print is different \n",
    "\n",
    "- Return is different\n",
    "\n",
    "- print is used to only to print the values\n",
    "\n",
    "- that values you can only se,but you can not use\n",
    "\n",
    "- if you want to use outside  we will use return (it is also)possible"
   ]
  },
  {
   "cell_type": "code",
   "execution_count": 43,
   "id": "cc5969d3-b1e1-4a37-835b-3bce7514e009",
   "metadata": {},
   "outputs": [],
   "source": [
    "def average():\n",
    "    n1=100\n",
    "    n2=200\n",
    "    n3=300\n",
    "    avg=(n1+n2+n3)/3\n",
    "    return(avg,n3)\n",
    "    \n",
    "avg,n3=average()\n",
    "\n",
    "#function is ready return values to me\n",
    "#so i need to store\n",
    "#how many values are storing\n",
    "#we will store each return values in different variable\n",
    "#because two values are different\n"
   ]
  },
  {
   "cell_type": "code",
   "execution_count": 42,
   "id": "d0cf85fc-9342-4e52-988a-14480b1225be",
   "metadata": {},
   "outputs": [
    {
     "name": "stdout",
     "output_type": "stream",
     "text": [
      "200.0\n",
      "300\n"
     ]
    }
   ],
   "source": [
    "print(avg)\n",
    "print(n3)"
   ]
  },
  {
   "cell_type": "code",
   "execution_count": null,
   "id": "1173e648-fe93-4f14-81f3-c4bd43920594",
   "metadata": {},
   "outputs": [],
   "source": [
    "#return always at last line of function\n",
    "#not "
   ]
  },
  {
   "cell_type": "code",
   "execution_count": 5,
   "id": "f00dc9ae-dce8-4546-a594-359a4833980e",
   "metadata": {},
   "outputs": [
    {
     "name": "stdout",
     "output_type": "stream",
     "text": [
      "30\n"
     ]
    }
   ],
   "source": [
    "def sub():\n",
    "    a=10\n",
    "    b=20\n",
    "    subb=a+b\n",
    "    print(subb)\n",
    "sub()"
   ]
  },
  {
   "cell_type": "markdown",
   "id": "62e8e238-9777-40d9-9aa9-18804a5cbbd3",
   "metadata": {},
   "source": [
    "**unbound local error**\n"
   ]
  },
  {
   "cell_type": "code",
   "execution_count": 2,
   "id": "3ef4c7cd-96a6-44e7-9719-307abdb5a9bf",
   "metadata": {},
   "outputs": [
    {
     "name": "stdout",
     "output_type": "stream",
     "text": [
      "100\n"
     ]
    }
   ],
   "source": [
    "num1=10\n",
    "def fun1():\n",
    "    num1=100\n",
    "    print(num1)\n",
    "fun1()"
   ]
  },
  {
   "cell_type": "code",
   "execution_count": 4,
   "id": "291fb37e-8917-4f97-b635-0a03def452f6",
   "metadata": {},
   "outputs": [
    {
     "ename": "UnboundLocalError",
     "evalue": "cannot access local variable 'num2' where it is not associated with a value",
     "output_type": "error",
     "traceback": [
      "\u001b[1;31m---------------------------------------------------------------------------\u001b[0m",
      "\u001b[1;31mUnboundLocalError\u001b[0m                         Traceback (most recent call last)",
      "Cell \u001b[1;32mIn[4], line 5\u001b[0m\n\u001b[0;32m      3\u001b[0m     \u001b[38;5;28mprint\u001b[39m(num2)\n\u001b[0;32m      4\u001b[0m     num2\u001b[38;5;241m=\u001b[39m\u001b[38;5;241m100\u001b[39m\n\u001b[1;32m----> 5\u001b[0m fun1()\n",
      "Cell \u001b[1;32mIn[4], line 3\u001b[0m, in \u001b[0;36mfun1\u001b[1;34m()\u001b[0m\n\u001b[0;32m      2\u001b[0m \u001b[38;5;28;01mdef\u001b[39;00m \u001b[38;5;21mfun1\u001b[39m():\n\u001b[1;32m----> 3\u001b[0m     \u001b[38;5;28mprint\u001b[39m(num2)\n\u001b[0;32m      4\u001b[0m     num2\u001b[38;5;241m=\u001b[39m\u001b[38;5;241m100\u001b[39m\n",
      "\u001b[1;31mUnboundLocalError\u001b[0m: cannot access local variable 'num2' where it is not associated with a value"
     ]
    }
   ],
   "source": [
    "num2=10\n",
    "def fun1():\n",
    "    print(num2)\n",
    "    num2=100\n",
    "fun1()\n",
    "\n",
    "#local variable and global variable both names are same \n",
    "#you are trying to access loacal variable before assign"
   ]
  },
  {
   "cell_type": "code",
   "execution_count": 6,
   "id": "00bf4d17-34f0-4d41-890f-0f3a43722925",
   "metadata": {},
   "outputs": [
    {
     "name": "stdout",
     "output_type": "stream",
     "text": [
      "300\n"
     ]
    }
   ],
   "source": [
    "a1=100\n",
    "b1=200\n",
    "def add11():\n",
    "    add1=(a1+b1)\n",
    "    print(add1)\n",
    "add11()"
   ]
  },
  {
   "cell_type": "code",
   "execution_count": 7,
   "id": "a5435012-e9b2-43a5-b915-267b472ce0bf",
   "metadata": {},
   "outputs": [
    {
     "name": "stdout",
     "output_type": "stream",
     "text": [
      "1250\n"
     ]
    }
   ],
   "source": [
    "a1=100\n",
    "b1=200\n",
    "def add11():\n",
    "    a1=1000\n",
    "    b1=250\n",
    "    add1=(a1+b1)\n",
    "    print(add1)\n",
    "add11()"
   ]
  },
  {
   "cell_type": "code",
   "execution_count": 8,
   "id": "ca8be7d7-52a4-490a-8886-a1e0493b7c93",
   "metadata": {},
   "outputs": [
    {
     "ename": "UnboundLocalError",
     "evalue": "cannot access local variable 'a1' where it is not associated with a value",
     "output_type": "error",
     "traceback": [
      "\u001b[1;31m---------------------------------------------------------------------------\u001b[0m",
      "\u001b[1;31mUnboundLocalError\u001b[0m                         Traceback (most recent call last)",
      "Cell \u001b[1;32mIn[8], line 9\u001b[0m\n\u001b[0;32m      6\u001b[0m     b1\u001b[38;5;241m=\u001b[39m\u001b[38;5;241m300\u001b[39m\n\u001b[0;32m      7\u001b[0m     \u001b[38;5;28mprint\u001b[39m(add1)\n\u001b[1;32m----> 9\u001b[0m add11()\n",
      "Cell \u001b[1;32mIn[8], line 4\u001b[0m, in \u001b[0;36madd11\u001b[1;34m()\u001b[0m\n\u001b[0;32m      3\u001b[0m \u001b[38;5;28;01mdef\u001b[39;00m \u001b[38;5;21madd11\u001b[39m():\n\u001b[1;32m----> 4\u001b[0m     add1\u001b[38;5;241m=\u001b[39m(a1\u001b[38;5;241m+\u001b[39mb1)\n\u001b[0;32m      5\u001b[0m     a1\u001b[38;5;241m=\u001b[39m\u001b[38;5;241m100\u001b[39m\n\u001b[0;32m      6\u001b[0m     b1\u001b[38;5;241m=\u001b[39m\u001b[38;5;241m300\u001b[39m\n",
      "\u001b[1;31mUnboundLocalError\u001b[0m: cannot access local variable 'a1' where it is not associated with a value"
     ]
    }
   ],
   "source": [
    "a1=100\n",
    "b1=200\n",
    "def add11():\n",
    "    add1=(a1+b1)\n",
    "    a1=100\n",
    "    b1=300\n",
    "    print(add1)\n",
    "    \n",
    "add11()\n",
    "\n",
    "#we are using before intiliasing the local variable"
   ]
  },
  {
   "cell_type": "markdown",
   "id": "94025900-724a-4da1-9f80-a58400180167",
   "metadata": {},
   "source": [
    "**Function in Functions**"
   ]
  },
  {
   "cell_type": "code",
   "execution_count": 2,
   "id": "5f10e76b-7eda-470e-85cb-31588a64b747",
   "metadata": {},
   "outputs": [
    {
     "name": "stdout",
     "output_type": "stream",
     "text": [
      "hello good morning\n",
      "good night\n"
     ]
    }
   ],
   "source": [
    "def greet1():\n",
    "    print('hello good morning')\n",
    "\n",
    "def greet2():\n",
    "    print('good night')\n",
    "    \n",
    "greet1()\n",
    "greet2()"
   ]
  },
  {
   "cell_type": "code",
   "execution_count": 3,
   "id": "75ad220c-2b1f-4fbc-903b-1d08b376f444",
   "metadata": {},
   "outputs": [
    {
     "ename": "TypeError",
     "evalue": "greet2() takes 0 positional arguments but 1 was given",
     "output_type": "error",
     "traceback": [
      "\u001b[1;31m---------------------------------------------------------------------------\u001b[0m",
      "\u001b[1;31mTypeError\u001b[0m                                 Traceback (most recent call last)",
      "Cell \u001b[1;32mIn[3], line 7\u001b[0m\n\u001b[0;32m      5\u001b[0m     \u001b[38;5;28mprint\u001b[39m(\u001b[38;5;124m'\u001b[39m\u001b[38;5;124mhello good morning\u001b[39m\u001b[38;5;124m'\u001b[39m)\n\u001b[0;32m      6\u001b[0m     greet2()\n\u001b[1;32m----> 7\u001b[0m greet2(\u001b[38;5;241m1\u001b[39m)\n\u001b[0;32m      8\u001b[0m greet2()\n",
      "\u001b[1;31mTypeError\u001b[0m: greet2() takes 0 positional arguments but 1 was given"
     ]
    }
   ],
   "source": [
    "def greet2():\n",
    "    print(' good night')\n",
    "    greet1()\n",
    "def greet1():\n",
    "    print('hello good morning')\n",
    "    greet2()\n",
    "greet2(1)\n",
    "greet2()"
   ]
  },
  {
   "cell_type": "code",
   "execution_count": 32,
   "id": "3a125325-a1b4-4f15-bc66-f43b6d4fe0b8",
   "metadata": {},
   "outputs": [
    {
     "name": "stdin",
     "output_type": "stream",
     "text": [
      "enter the disttance 30\n",
      "enter the distance 23\n"
     ]
    },
    {
     "name": "stdout",
     "output_type": "stream",
     "text": [
      "kudos to you the chargable distanceis: 7\n",
      "the total charge is : 21000\n"
     ]
    }
   ],
   "source": [
    "\n",
    "def num1():\n",
    "    \n",
    "    distance =eval(input(\"enter the distance\"))\n",
    "    cutoff_distance=eval(input(\"enter the distance\"))\n",
    "    if distance>cutoff_distance:\n",
    "       chargable_distance=distance-cutoff_distance\n",
    "       print(\"kudos to you the chargable distanceis:\",chargable_distance)\n",
    "       charge=eval(input(\"enter the charge in rs\"))\n",
    "       cost=chargable_distance*charge\n",
    "       print(\"the total charge is :\",cost)\n",
    "    else:\n",
    "      return(cost)\n",
    "num()\n",
    "print(\""
   ]
  },
  {
   "cell_type": "code",
   "execution_count": 15,
   "id": "4327247f-5a7f-43ec-b98e-6cb335166351",
   "metadata": {},
   "outputs": [
    {
     "name": "stdout",
     "output_type": "stream",
     "text": [
      "option1 is addition\n",
      "option2 is subtraction\n",
      "option3 is multiplication\n",
      "option4 is division\n"
     ]
    },
    {
     "name": "stdin",
     "output_type": "stream",
     "text": [
      "enter the option 1,4: 3\n",
      "enter the value 45\n",
      "enter the value 56\n"
     ]
    },
    {
     "name": "stdout",
     "output_type": "stream",
     "text": [
      "2520\n"
     ]
    }
   ],
   "source": [
    "def add(a,b):\n",
    "    print(a+b)\n",
    "\n",
    "def sub(a,b):\n",
    "    print(a-b)\n",
    "\n",
    "def mul(a,b):\n",
    "    print(a*b)\n",
    "    \n",
    "def div(a,b):\n",
    "    print(a/b)\n",
    "    \n",
    "\n",
    "def calculator():\n",
    "    print(\"option1 is addition\")\n",
    "    print(\"option2 is subtraction\")\n",
    "    print(\"option3 is multiplication\")\n",
    "    print(\"option4 is division\")\n",
    "    option=eval(input(\"enter the option 1,4:\"))\n",
    "    a=eval(input(\"enter the value\"))\n",
    "    b=eval(input(\"enter the value\"))\n",
    "    \n",
    "    if option==1:\n",
    "         add(a,b)\n",
    "    elif option==2:\n",
    "          sub(a,b)\n",
    "    elif option==3:\n",
    "           mul(a,b)\n",
    "    elif option==4:\n",
    "          div(a,b)\n",
    "    else:\n",
    "        print(\"no validate\")\n",
    "\n",
    "           \n",
    "calculator()\n",
    "\n",
    "\n"
   ]
  },
  {
   "cell_type": "code",
   "execution_count": null,
   "id": "823e4041-3ed7-43d5-9817-a83fd69ed3af",
   "metadata": {},
   "outputs": [],
   "source": []
  }
 ],
 "metadata": {
  "kernelspec": {
   "display_name": "Python 3 (ipykernel)",
   "language": "python",
   "name": "python3"
  },
  "language_info": {
   "codemirror_mode": {
    "name": "ipython",
    "version": 3
   },
   "file_extension": ".py",
   "mimetype": "text/x-python",
   "name": "python",
   "nbconvert_exporter": "python",
   "pygments_lexer": "ipython3",
   "version": "3.11.7"
  }
 },
 "nbformat": 4,
 "nbformat_minor": 5
}
