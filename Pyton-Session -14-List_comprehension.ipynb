{
 "cells": [
  {
   "cell_type": "markdown",
   "id": "16d26f44-cf43-4e70-bb4f-751df6935065",
   "metadata": {},
   "source": [
    "- we can to store the output valuesnby using append operations\n",
    "\n",
    "- we are taking empty list\n",
    "\n",
    "- we are iterating through elements from a given list\n",
    "\n",
    "- the list we are appending in a new list"
   ]
  },
  {
   "cell_type": "code",
   "execution_count": 1,
   "id": "9e2f22f9-39ae-41bf-9579-157645afb844",
   "metadata": {},
   "outputs": [
    {
     "data": {
      "text/plain": [
       "[0, 1, 4, 9, 16, 25, 36, 49, 64, 81]"
      ]
     },
     "execution_count": 1,
     "metadata": {},
     "output_type": "execute_result"
    }
   ],
   "source": [
    "square_list=[]\n",
    "for i in range(10):\n",
    "    square_list.append(i*i)\n",
    "square_list"
   ]
  },
  {
   "cell_type": "markdown",
   "id": "6559a32d-a52a-4f1e-9685-dec3a1865855",
   "metadata": {},
   "source": [
    "- there are almost 3 lines are in the process\n",
    "\n",
    "- the 3 lines we can make into a single line\n",
    "\n",
    "- This is called LIST COMPREHENSION"
   ]
  },
  {
   "cell_type": "markdown",
   "id": "fddf8895-e3d2-4d31-a0f6-96ff7dcfb363",
   "metadata": {},
   "source": [
    "$pattern-1$\n",
    "\n",
    "**only for loop**"
   ]
  },
  {
   "cell_type": "code",
   "execution_count": null,
   "id": "d7053507-9276-4db3-98cd-6e26e2a363dd",
   "metadata": {},
   "outputs": [],
   "source": [
    "#syntax\n",
    "#[<output>]    [<for loop>]"
   ]
  },
  {
   "cell_type": "code",
   "execution_count": 10,
   "id": "c3306970-34ca-4fb0-8e0e-92ea7215599f",
   "metadata": {},
   "outputs": [
    {
     "data": {
      "text/plain": [
       "[0, 1, 4, 9, 16, 25, 36, 49, 64, 81]"
      ]
     },
     "execution_count": 10,
     "metadata": {},
     "output_type": "execute_result"
    }
   ],
   "source": [
    "#Q1)\n",
    "square_list=[]\n",
    "for i in range(10):\n",
    "    square_list.append(i*i)\n",
    "square_list\n",
    "\n",
    "#Q1)what is the output?i*i\n",
    "#Q2)what is the output list name?square_list\n",
    "#Q3)what is the for loop? for i in range(10)\n",
    "\n",
    "sq_list==[i*i for i in range(10)]\n",
    "sq_list"
   ]
  },
  {
   "cell_type": "code",
   "execution_count": null,
   "id": "f1fc573f-1bb4-44d8-b07b-42c4fd2e2622",
   "metadata": {},
   "outputs": [],
   "source": [
    "#Q2) l1=['hyd','mumbai','chennai','blr']\n",
    "  #upper_list=['Hyd','Mumbai',\n"
   ]
  },
  {
   "cell_type": "code",
   "execution_count": 13,
   "id": "500ce0b7-b053-4d48-8aad-4ac1e6f11196",
   "metadata": {},
   "outputs": [
    {
     "data": {
      "text/plain": [
       "['HYD', 'MUMBAI', 'CHENNAI', 'BLR']"
      ]
     },
     "execution_count": 13,
     "metadata": {},
     "output_type": "execute_result"
    }
   ],
   "source": [
    "l1=['hyd','mumbai','chennai','blr']\n",
    "upper_list=[]\n",
    "for i in l1:\n",
    "    upper_list.append(i.upper())\n",
    "upper_list"
   ]
  },
  {
   "cell_type": "code",
   "execution_count": 14,
   "id": "1667c758-b9c9-443d-83ad-cd9f8f8a8e57",
   "metadata": {},
   "outputs": [
    {
     "data": {
      "text/plain": [
       "['HYD', 'MUMBAI', 'CHENNAI', 'BLR']"
      ]
     },
     "execution_count": 14,
     "metadata": {},
     "output_type": "execute_result"
    }
   ],
   "source": [
    "l1=['hyd','mumbai','chennai','blr']\n",
    "upper_list=[i.upper() for i in l1]\n",
    "upper_list"
   ]
  },
  {
   "cell_type": "code",
   "execution_count": 17,
   "id": "e97301b6-8d43-4ece-b6a2-073d6a5657c0",
   "metadata": {},
   "outputs": [
    {
     "data": {
      "text/plain": [
       "['hyd', 'mumbai', 'chennai', 'blr']"
      ]
     },
     "execution_count": 17,
     "metadata": {},
     "output_type": "execute_result"
    }
   ],
   "source": [
    "l1=['Hyd','Mumbai','Chennai','Blr']\n",
    "lower_list=[i.lower() for i in l1]\n",
    "lower_list"
   ]
  },
  {
   "cell_type": "code",
   "execution_count": 43,
   "id": "813c6e78-2ec3-4497-9e1b-816525b90f4a",
   "metadata": {},
   "outputs": [
    {
     "data": {
      "text/plain": [
       "[0, 1, 2, 3]"
      ]
     },
     "execution_count": 43,
     "metadata": {},
     "output_type": "execute_result"
    }
   ],
   "source": [
    "#Q4)l1=['hyd','mumbai','chennai','blr']\n",
    "# sum of the indexes of all elements\n",
    "l1=['hyd','mumbai','chennai','blr']\n",
    "summ=0\n",
    "index_list=[]\n",
    "for i in l1:\n",
    "    index_list.append(l1.index(i))\n",
    "    summ=summ+1\n",
    "index_list"
   ]
  },
  {
   "cell_type": "code",
   "execution_count": 2,
   "id": "5168795a-8ac9-4807-b029-088b428f8baa",
   "metadata": {},
   "outputs": [
    {
     "data": {
      "text/plain": [
       "6"
      ]
     },
     "execution_count": 2,
     "metadata": {},
     "output_type": "execute_result"
    }
   ],
   "source": [
    "l1=['hyd','mumbai','chennai','blr']\n",
    "idx_list=[l1.index(i) for i in l1]\n",
    "sum(idx_list)"
   ]
  },
  {
   "cell_type": "markdown",
   "id": "9f2fbe38-bcc4-4b78-a373-a227b2a5a6f3",
   "metadata": {},
   "source": [
    "- making empty list will  not works in list comprehensin\n",
    "\n",
    "- Intilizations will not works in list comprehension\n",
    "\n",
    "- assignment operations also not works"
   ]
  },
  {
   "cell_type": "markdown",
   "id": "6613f6fa-f4ce-4b97-aa1e-7603cb031d1c",
   "metadata": {},
   "source": [
    "$pattern-2$\n",
    "\n",
    "**for loop - if condition**"
   ]
  },
  {
   "cell_type": "code",
   "execution_count": null,
   "id": "fbd7e3c1-bc91-446a-b598-75a20dbcfe84",
   "metadata": {},
   "outputs": [],
   "source": [
    "#syntax\n",
    "#[<output>]   [<for loop>]    [<if condition>]\n"
   ]
  },
  {
   "cell_type": "code",
   "execution_count": 4,
   "id": "d46f694b-bab6-4aa1-b5d8-72e71b7540bb",
   "metadata": {},
   "outputs": [
    {
     "name": "stdout",
     "output_type": "stream",
     "text": [
      "Mumbai\n",
      "Chennai\n"
     ]
    }
   ],
   "source": [
    "l1=['Hyd','Mumbai','Chennai','blr']\n",
    "for i in l1:\n",
    "    if len(i)>4:\n",
    "        print(i)       "
   ]
  },
  {
   "cell_type": "code",
   "execution_count": 7,
   "id": "496dde58-147e-4463-ab48-6ffa014e994a",
   "metadata": {},
   "outputs": [
    {
     "data": {
      "text/plain": [
       "['Mumbai', 'Chennai']"
      ]
     },
     "execution_count": 7,
     "metadata": {},
     "output_type": "execute_result"
    }
   ],
   "source": [
    "l1=['Hyd','Mumbai','Chennai','blr']\n",
    "list=[i for i in l1 if len(i)>4]\n",
    "list"
   ]
  },
  {
   "cell_type": "code",
   "execution_count": 5,
   "id": "aff96bf3-9b60-4f17-9038-85d59fc59521",
   "metadata": {},
   "outputs": [
    {
     "data": {
      "text/plain": [
       "['Mum#bai', 'Chen#nai']"
      ]
     },
     "execution_count": 5,
     "metadata": {},
     "output_type": "execute_result"
    }
   ],
   "source": [
    "l1=['Hyd','Mum#bai','Chen#nai','blr']\n",
    "op=[i for i in l1 if '#' in i]\n",
    "op\n"
   ]
  },
  {
   "cell_type": "code",
   "execution_count": 11,
   "id": "54703179-f088-47ba-8408-1c4384eed07c",
   "metadata": {},
   "outputs": [
    {
     "name": "stdout",
     "output_type": "stream",
     "text": [
      "None\n",
      "None\n"
     ]
    },
    {
     "data": {
      "text/plain": [
       "[None, None]"
      ]
     },
     "execution_count": 11,
     "metadata": {},
     "output_type": "execute_result"
    }
   ],
   "source": [
    "l1=['Hyd','Mumbai','chennai','blr']\n",
    "l2=[]\n",
    "for i in l1:\n",
    "    if i.istitle():\n",
    "        print(l2.append(i))\n",
    "l2        "
   ]
  },
  {
   "cell_type": "code",
   "execution_count": 13,
   "id": "d98b7e74-f849-46e9-bc76-26c146e1b9d8",
   "metadata": {},
   "outputs": [
    {
     "data": {
      "text/plain": [
       "['Hyd', 'Mumbai']"
      ]
     },
     "execution_count": 13,
     "metadata": {},
     "output_type": "execute_result"
    }
   ],
   "source": [
    "##Q5)\n",
    "l1=['Hyd','Mumbai','chennai','blr']\n",
    "op=[i for i in l1 if i.istitle()]\n",
    "op"
   ]
  },
  {
   "cell_type": "code",
   "execution_count": 2,
   "id": "de7d5c08-7dc9-4cfc-bdfd-a9129425a824",
   "metadata": {},
   "outputs": [
    {
     "data": {
      "text/plain": [
       "'virat'"
      ]
     },
     "execution_count": 2,
     "metadata": {},
     "output_type": "execute_result"
    }
   ],
   "source": [
    "str1='virat.kohli@rcb.com, Rohit.sharma@mi.com, KL.Rahul@lucknow.com'\n",
    "list1=str1.split(',')\n",
    "list1[0][:list1[0].index('.')]"
   ]
  },
  {
   "cell_type": "code",
   "execution_count": 5,
   "id": "fe96477b-8640-4ea4-aec0-714ab4673873",
   "metadata": {},
   "outputs": [
    {
     "data": {
      "text/plain": [
       "['virat', ' Rohit', ' KL']"
      ]
     },
     "execution_count": 5,
     "metadata": {},
     "output_type": "execute_result"
    }
   ],
   "source": [
    "str1='virat.kohli@rcb.com, Rohit.sharma@mi.com, KL.Rahul@lucknow.com'\n",
    "list1=str1.split(',')\n",
    "list1[0][:list1[0].index('.')]\n",
    "list1[1][:list1[1].index('.')]\n",
    "list1[2][:list1[2].index('.')]\n",
    "\n",
    "#######\n",
    "f_name=[]\n",
    "for i in list1:\n",
    " f_name.append(i[:i.index('.')])\n",
    "[i[:i.index('.')] for i in list1]"
   ]
  },
  {
   "cell_type": "code",
   "execution_count": null,
   "id": "330f4af2-db78-4645-9d79-d47e33aa76af",
   "metadata": {},
   "outputs": [],
   "source": [
    "pattern-3\n",
    "[<output> <forloop>]\n",
    "[<output> <forloop> <if condition>]:for-if\n",
    "[<ifoutput> <if> <else> <elseoutput> <for loop>]: if-else"
   ]
  },
  {
   "cell_type": "markdown",
   "id": "823efd2c-3f18-497b-90e6-12157148f873",
   "metadata": {},
   "source": [
    "**even-odd**"
   ]
  },
  {
   "cell_type": "code",
   "execution_count": 11,
   "id": "36e6eb03-28e9-45e1-bd63-e7c53029977f",
   "metadata": {},
   "outputs": [
    {
     "data": {
      "text/plain": [
       "(['even:2',\n",
       "  'even:4',\n",
       "  'even:6',\n",
       "  'even:8',\n",
       "  'even:10',\n",
       "  'even:12',\n",
       "  'even:14',\n",
       "  'even:16',\n",
       "  'even:18'],\n",
       " ['odd:1',\n",
       "  'odd:3',\n",
       "  'odd:5',\n",
       "  'odd:7',\n",
       "  'odd:9',\n",
       "  'odd:11',\n",
       "  'odd:13',\n",
       "  'odd:15',\n",
       "  'odd:17',\n",
       "  'odd:19'])"
      ]
     },
     "execution_count": 11,
     "metadata": {},
     "output_type": "execute_result"
    }
   ],
   "source": [
    "even_list,odd_list=[],[]\n",
    "for i in range(1,20):\n",
    "    if i%2==0:\n",
    "     even_list.append(f\"even:{i}\")\n",
    "    else:\n",
    "        odd_list.append(f\"odd:{i}\")\n",
    "even_list,odd_list"
   ]
  },
  {
   "cell_type": "code",
   "execution_count": 12,
   "id": "30204fcb-f122-4ec3-8366-0ec18747e0dd",
   "metadata": {},
   "outputs": [
    {
     "data": {
      "text/plain": [
       "['odd:1',\n",
       " 'even:2',\n",
       " 'odd:3',\n",
       " 'even:4',\n",
       " 'odd:5',\n",
       " 'even:6',\n",
       " 'odd:7',\n",
       " 'even:8',\n",
       " 'odd:9',\n",
       " 'even:10',\n",
       " 'odd:11',\n",
       " 'even:12',\n",
       " 'odd:13',\n",
       " 'even:14',\n",
       " 'odd:15',\n",
       " 'even:16',\n",
       " 'odd:17',\n",
       " 'even:18',\n",
       " 'odd:19']"
      ]
     },
     "execution_count": 12,
     "metadata": {},
     "output_type": "execute_result"
    }
   ],
   "source": [
    "op_list=[]\n",
    "for i in range(1,20):\n",
    "   if i%2==0:\n",
    "       op_list.append(f\"even:{i}\")\n",
    "else:\n",
    "    op_list.append(f\"odd{i}\")\n",
    "op_list\n",
    "\n",
    "[f\"even:{i}\" if i%2==0 else f\"odd:{i}\" for i in range(1,20)]"
   ]
  },
  {
   "cell_type": "code",
   "execution_count": null,
   "id": "1ca14fba-829a-4343-9f3d-05caac168cd0",
   "metadata": {},
   "outputs": [],
   "source": [
    "["
   ]
  }
 ],
 "metadata": {
  "kernelspec": {
   "display_name": "Python 3 (ipykernel)",
   "language": "python",
   "name": "python3"
  },
  "language_info": {
   "codemirror_mode": {
    "name": "ipython",
    "version": 3
   },
   "file_extension": ".py",
   "mimetype": "text/x-python",
   "name": "python",
   "nbconvert_exporter": "python",
   "pygments_lexer": "ipython3",
   "version": "3.11.7"
  }
 },
 "nbformat": 4,
 "nbformat_minor": 5
}
