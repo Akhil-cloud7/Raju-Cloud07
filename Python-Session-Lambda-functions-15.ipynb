{
 "cells": [
  {
   "cell_type": "markdown",
   "id": "6cc40013-0549-405c-a664-2eefd70d387d",
   "metadata": {},
   "source": [
    "**Lambda functions**\n",
    "\n",
    "- Lambda functions represnts function concept\n",
    "\n",
    "- But we write in a single line\n",
    "\n",
    "- like list comprehension ,lambda functions are similiarly only\n",
    "\n",
    "- it will decrease the time complexity\n",
    "\n",
    "- always remember if we use many or conditions using multiple line,the time complexity"
   ]
  },
  {
   "cell_type": "markdown",
   "id": "72f05247-c116-46ff-b2e4-5f86e32551a7",
   "metadata": {},
   "source": [
    "**It will use a keyword lambda**\n",
    "\n",
    "#"
   ]
  },
  {
   "cell_type": "code",
   "execution_count": 2,
   "id": "03c163b9-56c8-4a58-9239-710974a34281",
   "metadata": {},
   "outputs": [
    {
     "data": {
      "text/plain": [
       "20"
      ]
     },
     "execution_count": 2,
     "metadata": {},
     "output_type": "execute_result"
    }
   ],
   "source": [
    "def summ(n):\n",
    "    return(n+10)\n",
    "summ(10)"
   ]
  },
  {
   "cell_type": "markdown",
   "id": "d75fdf43-a388-4bc9-a229-9abee0d7f503",
   "metadata": {},
   "source": [
    "$pattern-1$\n",
    "\n",
    "**Function with only one argument**\n",
    "\n",
    "- Function name\n",
    "\n",
    "- argument name\n",
    "\n",
    "- return output"
   ]
  },
  {
   "cell_type": "code",
   "execution_count": 5,
   "id": "5f069f84-5eac-43ee-9cfe-9f5f90856c13",
   "metadata": {},
   "outputs": [
    {
     "data": {
      "text/plain": [
       "20"
      ]
     },
     "execution_count": 5,
     "metadata": {},
     "output_type": "execute_result"
    }
   ],
   "source": [
    "#syntax<function name>= lambda <argument name>: <return output>\n",
    "summ=lambda n:n+10\n",
    "summ(10)"
   ]
  },
  {
   "cell_type": "code",
   "execution_count": 6,
   "id": "e83818e9-3ccf-4027-9f48-95ceb53ab46f",
   "metadata": {},
   "outputs": [
    {
     "data": {
      "text/plain": [
       "27000"
      ]
     },
     "execution_count": 6,
     "metadata": {},
     "output_type": "execute_result"
    }
   ],
   "source": [
    "def cube(n):\n",
    "    return(n**3)\n",
    "cube(30)\n"
   ]
  },
  {
   "cell_type": "code",
   "execution_count": 7,
   "id": "5e4cc06d-ad5a-443c-b1f7-8e78ccb853f7",
   "metadata": {},
   "outputs": [
    {
     "data": {
      "text/plain": [
       "27000"
      ]
     },
     "execution_count": 7,
     "metadata": {},
     "output_type": "execute_result"
    }
   ],
   "source": [
    "cube=lambda n:n**3\n",
    "cube(30)"
   ]
  },
  {
   "cell_type": "markdown",
   "id": "ea1f4708-78a6-4fc9-b3df-503dba99e5c0",
   "metadata": {},
   "source": [
    "**pattern-2**\n",
    "\n",
    "**Two Arguments**"
   ]
  },
  {
   "cell_type": "code",
   "execution_count": 9,
   "id": "f23c48d1-a06d-47b2-ae75-a0f0c3e34b1f",
   "metadata": {},
   "outputs": [
    {
     "data": {
      "text/plain": [
       "100"
      ]
     },
     "execution_count": 9,
     "metadata": {},
     "output_type": "execute_result"
    }
   ],
   "source": [
    "#syntax: <function name>= lambda <arg1>,<arg2>: <return output>\n",
    "def add(a,b):\n",
    "     return(a+b)\n",
    "add(50,50)"
   ]
  },
  {
   "cell_type": "code",
   "execution_count": 10,
   "id": "a21e9ec2-7fc0-43cb-9181-af660bbd2779",
   "metadata": {},
   "outputs": [
    {
     "data": {
      "text/plain": [
       "120"
      ]
     },
     "execution_count": 10,
     "metadata": {},
     "output_type": "execute_result"
    }
   ],
   "source": [
    "add:lambda a,b:a+b\n",
    "add(50,70)"
   ]
  },
  {
   "cell_type": "code",
   "execution_count": 14,
   "id": "cb41d15f-8fe7-4261-a427-66c49a7f2d1c",
   "metadata": {},
   "outputs": [
    {
     "data": {
      "text/plain": [
       "120.0"
      ]
     },
     "execution_count": 14,
     "metadata": {},
     "output_type": "execute_result"
    }
   ],
   "source": [
    "def avg(a,b,c):\n",
    "     return(a+b+c/3)\n",
    "avg(50,50,60)"
   ]
  },
  {
   "cell_type": "code",
   "execution_count": 15,
   "id": "85442905-4466-4d41-bf61-b385fb1d0dd5",
   "metadata": {},
   "outputs": [
    {
     "data": {
      "text/plain": [
       "113.33333333333333"
      ]
     },
     "execution_count": 15,
     "metadata": {},
     "output_type": "execute_result"
    }
   ],
   "source": [
    "avg:lambda a,b,c:a+b+c/3\n",
    "avg(40,50,70)"
   ]
  },
  {
   "cell_type": "code",
   "execution_count": 16,
   "id": "1f474af2-d875-4199-93bd-7d095b255c9c",
   "metadata": {},
   "outputs": [
    {
     "data": {
      "text/plain": [
       "113.33333333333333"
      ]
     },
     "execution_count": 16,
     "metadata": {},
     "output_type": "execute_result"
    }
   ],
   "source": [
    "avg:lambda a,b,c:round(a+b+c/3,2)\n",
    "avg(40,50,70)"
   ]
  },
  {
   "cell_type": "markdown",
   "id": "e98ad07e-9fac-4565-8cbd-bd0a851df4e3",
   "metadata": {},
   "source": [
    "**pattern-3**\n",
    "\n",
    "**Default arguments**"
   ]
  },
  {
   "cell_type": "code",
   "execution_count": 23,
   "id": "720c34fc-e615-405b-9d40-6fc23513f977",
   "metadata": {},
   "outputs": [
    {
     "ename": "TypeError",
     "evalue": "avg() missing 1 required positional argument: 'c'",
     "output_type": "error",
     "traceback": [
      "\u001b[1;31m---------------------------------------------------------------------------\u001b[0m",
      "\u001b[1;31mTypeError\u001b[0m                                 Traceback (most recent call last)",
      "Cell \u001b[1;32mIn[23], line 2\u001b[0m\n\u001b[0;32m      1\u001b[0m avg:\u001b[38;5;28;01mlambda\u001b[39;00m a,b,c:\u001b[38;5;28mround\u001b[39m((a\u001b[38;5;241m+\u001b[39mb\u001b[38;5;241m+\u001b[39mc)\u001b[38;5;241m/\u001b[39m\u001b[38;5;241m3\u001b[39m,\u001b[38;5;241m2\u001b[39m)\n\u001b[1;32m----> 2\u001b[0m avg(\u001b[38;5;241m40\u001b[39m,\u001b[38;5;241m50\u001b[39m)\n",
      "\u001b[1;31mTypeError\u001b[0m: avg() missing 1 required positional argument: 'c'"
     ]
    }
   ],
   "source": [
    "avg:lambda a,b,c:round((a+b+c)/3,2)\n",
    "avg(40,50)"
   ]
  },
  {
   "cell_type": "markdown",
   "id": "1e77b3a2-2fba-4c30-a7a9-de724e696514",
   "metadata": {},
   "source": [
    "**Pattern-4**\n",
    "\n",
    "**if-else**"
   ]
  },
  {
   "cell_type": "code",
   "execution_count": 22,
   "id": "5296c221-f191-42cd-a22d-04ea30cc0a6c",
   "metadata": {},
   "outputs": [
    {
     "data": {
      "text/plain": [
       "20"
      ]
     },
     "execution_count": 22,
     "metadata": {},
     "output_type": "execute_result"
    }
   ],
   "source": [
    "def max(a,b):\n",
    "    if a>b:\n",
    "        return(a)\n",
    "    else:\n",
    "        return(b)\n",
    "max(10,20)"
   ]
  },
  {
   "cell_type": "code",
   "execution_count": 24,
   "id": "3e645f6e-8057-4193-8200-f3d30b7664ae",
   "metadata": {},
   "outputs": [
    {
     "data": {
      "text/plain": [
       "30"
      ]
     },
     "execution_count": 24,
     "metadata": {},
     "output_type": "execute_result"
    }
   ],
   "source": [
    "#syntax: function name = lambda <arg1>,<arg2>: <list comprehension>\n",
    "#syntax: function name = lambda <arg1>,<arg2>: < if output> <if_condition><else_condition> <else_output>\n",
    "maxx=lambda a,b:a if a>b else b\n",
    "maxx(20,30)"
   ]
  },
  {
   "cell_type": "markdown",
   "id": "cc31d305-c8f6-4a80-8454-2a2c9b336924",
   "metadata": {},
   "source": [
    "**pattern-5**\n",
    "\n",
    "**using-list**"
   ]
  },
  {
   "cell_type": "code",
   "execution_count": 26,
   "id": "959bfaec-59ae-441d-b02a-449d6ce62bf7",
   "metadata": {},
   "outputs": [
    {
     "data": {
      "text/plain": [
       "['Hyd', 'Chennai', 'Mumbai']"
      ]
     },
     "execution_count": 26,
     "metadata": {},
     "output_type": "execute_result"
    }
   ],
   "source": [
    "l=['hyd','chennai','mumbai']\n",
    "op=[]\n",
    "for i in l:\n",
    "    op.append(i.capitalize())\n",
    "op"
   ]
  },
  {
   "cell_type": "markdown",
   "id": "1fb89953-d2af-48ae-80fb-0fd5a866b7a8",
   "metadata": {},
   "source": [
    "**map**\n",
    "\n",
    "- the function and iterator are avaliable now\n",
    "\n",
    "- we need map point"
   ]
  },
  {
   "cell_type": "code",
   "execution_count": 32,
   "id": "6b55dbd1-4ce2-46b9-8071-4a4d92325557",
   "metadata": {},
   "outputs": [
    {
     "data": {
      "text/plain": [
       "<map at 0x16ab1fd0220>"
      ]
     },
     "execution_count": 32,
     "metadata": {},
     "output_type": "execute_result"
    }
   ],
   "source": [
    "map(lambda i:i.capitalize(),(l))"
   ]
  },
  {
   "cell_type": "code",
   "execution_count": 35,
   "id": "b28e70b2-589c-4cd1-9a42-07c74b14eda2",
   "metadata": {},
   "outputs": [
    {
     "data": {
      "text/plain": [
       "('Hyd', 'Chennai', 'Mumbai')"
      ]
     },
     "execution_count": 35,
     "metadata": {},
     "output_type": "execute_result"
    }
   ],
   "source": [
    "#apply the list to see the value\n",
    "tuple(map(lambda i:i.capitalize(),(l)))"
   ]
  },
  {
   "cell_type": "code",
   "execution_count": null,
   "id": "f45c205b-67db-435c-b5fa-32c14611ae26",
   "metadata": {},
   "outputs": [],
   "source": [
    "#step1:write your normal exprssion \n",
    "#     ex: lambda <var>: <op>====>lambda i:i.capitalize()\n",
    "#step2: add the iterator \n",
    "#    ex: \n",
    "#step-3: Map the both\n",
    "#\n",
    "#step-4: save the values in a list\n",
    "\n",
    "\n",
    "#note: those who are getting list object not callable use tuple"
   ]
  },
  {
   "cell_type": "markdown",
   "id": "9bd0db62-b390-42ce-89f8-b465e93072b0",
   "metadata": {},
   "source": [
    "- case-1:Function call with one argument\n",
    "\n",
    "  - lambda arguments: Expression\n",
    "\n",
    "  - lambda variables: return output\n",
    "\n",
    "- Case-2:Function call with two argument\n",
    "\n",
    "  - lambda arg1,arg2=500 : Expression\n",
    "\n",
    "  - lambda var1,var2     : return output\n",
    "\n",
    "- Case-3:Function call with default argument\n",
    "\n",
    "  - lambda arg1,arg2=500 : Expression\n",
    "\n",
    "  - lambda var1,var2=500 : return output\n",
    "\n",
    "- Case-4:Function call with two arguments and if-else statement\n",
    "\n",
    "     - lambda arg1,arg2 : Expression\n",
    "\n",
    "    - lambda var1,var2 : if_output if_con else els_op for loop\n",
    "\n",
    "- Case-5: Lambda operations using list\n",
    "\n",
    "  - lambda arg : Expression,iterator\n",
    "\n",
    "  - map(lambda var:operation,list)\n",
    "\n",
    "  - list(map(lambda var: operation,list)"
   ]
  },
  {
   "cell_type": "code",
   "execution_count": 1,
   "id": "756e3fb3-44df-4981-a4c8-dfd0f0e32319",
   "metadata": {},
   "outputs": [
    {
     "data": {
      "text/plain": [
       "('HYD', 'CHENNAI', 'BLR')"
      ]
     },
     "execution_count": 1,
     "metadata": {},
     "output_type": "execute_result"
    }
   ],
   "source": [
    "l=['hyd','chennai','blr']\n",
    "tuple(map(lambda i:i.upper(),l))"
   ]
  },
  {
   "cell_type": "code",
   "execution_count": 3,
   "id": "00927198-ef75-423e-8ef5-e662298dd7d6",
   "metadata": {},
   "outputs": [
    {
     "data": {
      "text/plain": [
       "(False, True, True, False)"
      ]
     },
     "execution_count": 3,
     "metadata": {},
     "output_type": "execute_result"
    }
   ],
   "source": [
    "l=['hyd','chen#nai','mum#bai','blr']\n",
    "tuple(map(lambda i:'#' in i,l))\n",
    "\n",
    "#mistake-1: tuple(map(lambda i:if '#' in"
   ]
  },
  {
   "cell_type": "code",
   "execution_count": 4,
   "id": "46160aa4-f38e-4921-83db-dec95080811d",
   "metadata": {},
   "outputs": [
    {
     "data": {
      "text/plain": [
       "('chen#nai', 'mum#bai')"
      ]
     },
     "execution_count": 4,
     "metadata": {},
     "output_type": "execute_result"
    }
   ],
   "source": [
    "tuple(filter(lambda i: '#' in i,l))"
   ]
  },
  {
   "cell_type": "markdown",
   "id": "5008b7e1-2150-4412-8e30-8c8b69632080",
   "metadata": {},
   "source": [
    "**Filter**\n",
    "\n",
    "- whenever if conditions are there use filter"
   ]
  },
  {
   "cell_type": "code",
   "execution_count": 9,
   "id": "8565b59f-4b1a-4387-a301-b427ea212923",
   "metadata": {},
   "outputs": [
    {
     "data": {
      "text/plain": [
       "(2, 6)"
      ]
     },
     "execution_count": 9,
     "metadata": {},
     "output_type": "execute_result"
    }
   ],
   "source": [
    "numbers=[1,3,2,7,6]\n",
    "tuple(filter(lambda i:  i%2==0,numbers))"
   ]
  },
  {
   "cell_type": "code",
   "execution_count": 23,
   "id": "f4e69cff-3e12-4f39-b3b3-b5a4d74dffb2",
   "metadata": {},
   "outputs": [
    {
     "ename": "NameError",
     "evalue": "name 'reduce' is not defined",
     "output_type": "error",
     "traceback": [
      "\u001b[1;31m---------------------------------------------------------------------------\u001b[0m",
      "\u001b[1;31mNameError\u001b[0m                                 Traceback (most recent call last)",
      "Cell \u001b[1;32mIn[23], line 2\u001b[0m\n\u001b[0;32m      1\u001b[0m l1\u001b[38;5;241m=\u001b[39m[\u001b[38;5;241m1\u001b[39m,\u001b[38;5;241m2\u001b[39m,\u001b[38;5;241m3\u001b[39m,\u001b[38;5;241m4\u001b[39m,\u001b[38;5;241m5\u001b[39m]\n\u001b[1;32m----> 2\u001b[0m \u001b[38;5;28mtuple\u001b[39m(reduce(\u001b[38;5;28;01mlambda\u001b[39;00m summ,i:summ\u001b[38;5;241m+\u001b[39mi,l1))\n",
      "\u001b[1;31mNameError\u001b[0m: name 'reduce' is not defined"
     ]
    }
   ],
   "source": [
    "l1=[1,2,3,4,5]\n",
    "tuple(reduce(lambda summ,i:summ+i,l1))"
   ]
  },
  {
   "cell_type": "markdown",
   "id": "374dfe85-31a3-4d31-8940-e04e1be7dc13",
   "metadata": {},
   "source": [
    "**Reduce**\n",
    "\n",
    "- All inbuilt functions cn achive by Reduce\n",
    "\n",
    "- Reduce is avaliable from functiontools package\n",
    "\n",
    "- level-1: reduce(lambda summ,i:summ+i,l1)\n",
    "\n",
    "- level-2: filter(lambda summ,i:summ+i,l1,intial_value)\n",
    "\n",
    "- For example we want intialize summ=0 then we choose level-1\n",
    "\n",
    "- for example we want start with other than zero then we choose level-2"
   ]
  },
  {
   "cell_type": "code",
   "execution_count": null,
   "id": "70cb6888-a73a-4e7b-8612-f4360eb5cffb",
   "metadata": {},
   "outputs": [],
   "source": [
    "l1[1,2,3,4,5]\n"
   ]
  },
  {
   "cell_type": "code",
   "execution_count": 1,
   "id": "fc5ec941-7bb6-4b67-acaf-f198621458f8",
   "metadata": {},
   "outputs": [],
   "source": [
    "import functools"
   ]
  },
  {
   "cell_type": "code",
   "execution_count": 13,
   "id": "753864fb-4264-4946-a5f6-470f575bf0d7",
   "metadata": {},
   "outputs": [
    {
     "data": {
      "text/plain": [
       "['GenericAlias',\n",
       " 'RLock',\n",
       " 'WRAPPER_ASSIGNMENTS',\n",
       " 'WRAPPER_UPDATES',\n",
       " '_CacheInfo',\n",
       " '_HashedSeq',\n",
       " '_NOT_FOUND',\n",
       " '__all__',\n",
       " '__builtins__',\n",
       " '__cached__',\n",
       " '__doc__',\n",
       " '__file__',\n",
       " '__loader__',\n",
       " '__name__',\n",
       " '__package__',\n",
       " '__spec__',\n",
       " '_c3_merge',\n",
       " '_c3_mro',\n",
       " '_compose_mro',\n",
       " '_convert',\n",
       " '_find_impl',\n",
       " '_ge_from_gt',\n",
       " '_ge_from_le',\n",
       " '_ge_from_lt',\n",
       " '_gt_from_ge',\n",
       " '_gt_from_le',\n",
       " '_gt_from_lt',\n",
       " '_initial_missing',\n",
       " '_le_from_ge',\n",
       " '_le_from_gt',\n",
       " '_le_from_lt',\n",
       " '_lru_cache_wrapper',\n",
       " '_lt_from_ge',\n",
       " '_lt_from_gt',\n",
       " '_lt_from_le',\n",
       " '_make_key',\n",
       " '_unwrap_partial',\n",
       " 'cache',\n",
       " 'cached_property',\n",
       " 'cmp_to_key',\n",
       " 'get_cache_token',\n",
       " 'lru_cache',\n",
       " 'namedtuple',\n",
       " 'partial',\n",
       " 'partialmethod',\n",
       " 'recursive_repr',\n",
       " 'reduce',\n",
       " 'singledispatch',\n",
       " 'singledispatchmethod',\n",
       " 'total_ordering',\n",
       " 'update_wrapper',\n",
       " 'wraps']"
      ]
     },
     "execution_count": 13,
     "metadata": {},
     "output_type": "execute_result"
    }
   ],
   "source": [
    "dir(functools)"
   ]
  },
  {
   "cell_type": "code",
   "execution_count": 3,
   "id": "a2fbe6b4-c1b3-4598-afe3-8df99714ff57",
   "metadata": {},
   "outputs": [
    {
     "data": {
      "text/plain": [
       "15"
      ]
     },
     "execution_count": 3,
     "metadata": {},
     "output_type": "execute_result"
    }
   ],
   "source": [
    "from  functools import reduce\n",
    "l1=[1,2,3,4,5]\n",
    "functools.reduce(lambda summ,i:summ+i,l1)"
   ]
  },
  {
   "cell_type": "code",
   "execution_count": 7,
   "id": "3fe3537e-141e-4c74-bc12-8ef7af06b0a9",
   "metadata": {},
   "outputs": [
    {
     "data": {
      "text/plain": [
       "50"
      ]
     },
     "execution_count": 7,
     "metadata": {},
     "output_type": "execute_result"
    }
   ],
   "source": [
    "from functools import reduce\n",
    "l1=[10,2,3,4,5,6]\n",
    "reduce(lambda summ,i:summ+i,l1,20)"
   ]
  },
  {
   "cell_type": "code",
   "execution_count": 6,
   "id": "513ab40b-c933-4654-9723-b8831744d1e9",
   "metadata": {},
   "outputs": [
    {
     "data": {
      "text/plain": [
       "25"
      ]
     },
     "execution_count": 6,
     "metadata": {},
     "output_type": "execute_result"
    }
   ],
   "source": [
    "import functools as ft\n",
    "l1=[1,2,3,4,5]\n",
    "ft.reduce(lambda summ,i:summ+i,l1,10)"
   ]
  },
  {
   "cell_type": "code",
   "execution_count": 8,
   "id": "32209a84-a264-458a-a05d-4b7740e3c556",
   "metadata": {},
   "outputs": [
    {
     "data": {
      "text/plain": [
       "0.08333333333333334"
      ]
     },
     "execution_count": 8,
     "metadata": {},
     "output_type": "execute_result"
    }
   ],
   "source": [
    "import functools as ft\n",
    "l1=[1,2,3,4,5]\n",
    "ft.reduce(lambda div,i:div/i,l1,10)"
   ]
  },
  {
   "cell_type": "code",
   "execution_count": null,
   "id": "f222fc07-3516-4a0e-9fa0-025539b1fc22",
   "metadata": {},
   "outputs": [],
   "source": [
    "from  functools import reduce\n",
    "l1=[1,2,3,4,5]\n",
    "functools.reduce(lambda summ,i:summ+i,l1)\n",
    "==========================================\n",
    "from functools import reduce\n",
    "l1=[10,2,3,4,5,6]\n",
    "reduce(lambda summ,i:summ+i,l1,20)\n",
    "====================================\n",
    "import functools as ft\n",
    "l1=[1,2,3,4,5]\n",
    "ft.reduce(lambda summ,i:summ+i,l1,10)"
   ]
  },
  {
   "cell_type": "code",
   "execution_count": 11,
   "id": "c20f5ce6-be16-4e05-8c67-14104e09c865",
   "metadata": {},
   "outputs": [
    {
     "data": {
      "text/plain": [
       "120"
      ]
     },
     "execution_count": 11,
     "metadata": {},
     "output_type": "execute_result"
    }
   ],
   "source": [
    "from functools import reduce\n",
    "l1=[1,2,3,4,5]\n",
    "reduce(lambda x,y:x*y,l1)"
   ]
  },
  {
   "cell_type": "code",
   "execution_count": 14,
   "id": "b930ca5e-df07-4bec-a610-55c1c7f7ae33",
   "metadata": {},
   "outputs": [
    {
     "data": {
      "text/plain": [
       "False"
      ]
     },
     "execution_count": 14,
     "metadata": {},
     "output_type": "execute_result"
    }
   ],
   "source": [
    "reduce(lambda x,y:x>y,l1)"
   ]
  },
  {
   "cell_type": "code",
   "execution_count": 15,
   "id": "ac41003e-becf-4066-90fd-4cca498524ce",
   "metadata": {},
   "outputs": [],
   "source": [
    "import functools"
   ]
  },
  {
   "cell_type": "code",
   "execution_count": 16,
   "id": "87599b70-1bb1-45df-86b1-fe437ae8f2ce",
   "metadata": {},
   "outputs": [
    {
     "data": {
      "text/plain": [
       "<module 'functools' from 'C:\\\\Users\\\\j sai teja\\\\OneDrive\\\\Documents\\\\Dell\\\\anaconda\\\\Lib\\\\functools.py'>"
      ]
     },
     "execution_count": 16,
     "metadata": {},
     "output_type": "execute_result"
    }
   ],
   "source": [
    "functools"
   ]
  },
  {
   "cell_type": "code",
   "execution_count": null,
   "id": "d6355926-5ca5-4390-8804-cba37e6ef6e9",
   "metadata": {},
   "outputs": [],
   "source": [
    "# Maximum value using reduce\n",
    "\n",
    "#map\n",
    "#reduce\n",
    "#filter\n",
    "\n"
   ]
  },
  {
   "cell_type": "code",
   "execution_count": 12,
   "id": "b5942df0-e6d0-4dc6-adc5-6189f657b944",
   "metadata": {},
   "outputs": [
    {
     "data": {
      "text/plain": [
       "5"
      ]
     },
     "execution_count": 12,
     "metadata": {},
     "output_type": "execute_result"
    }
   ],
   "source": [
    "from functools import reduce \n",
    "l1=[1,2,3,4,5]\n",
    "reduce(lambda x,y:max(x,y),l1)"
   ]
  },
  {
   "cell_type": "code",
   "execution_count": 2,
   "id": "73d4c993-e628-4d02-81f2-49a61b8bd1d1",
   "metadata": {},
   "outputs": [
    {
     "data": {
      "text/plain": [
       "<map at 0x260431e9ae0>"
      ]
     },
     "execution_count": 2,
     "metadata": {},
     "output_type": "execute_result"
    }
   ],
   "source": [
    "l=['hyd','chennai','mumbai']\n",
    "map(lambda i:i.capitalize(),(l))"
   ]
  },
  {
   "cell_type": "code",
   "execution_count": 3,
   "id": "6e473bc3-296f-45b6-986b-216a30834fda",
   "metadata": {},
   "outputs": [
    {
     "data": {
      "text/plain": [
       "<filter at 0x260431eba00>"
      ]
     },
     "execution_count": 3,
     "metadata": {},
     "output_type": "execute_result"
    }
   ],
   "source": [
    "numbers=[1,3,2,7,6]\n",
    "filter(lambda i:  i%2==0,numbers)"
   ]
  },
  {
   "cell_type": "code",
   "execution_count": null,
   "id": "10e4edca-a1a0-4c20-95b2-22f8ad89027a",
   "metadata": {},
   "outputs": [],
   "source": []
  }
 ],
 "metadata": {
  "kernelspec": {
   "display_name": "Python 3 (ipykernel)",
   "language": "python",
   "name": "python3"
  },
  "language_info": {
   "codemirror_mode": {
    "name": "ipython",
    "version": 3
   },
   "file_extension": ".py",
   "mimetype": "text/x-python",
   "name": "python",
   "nbconvert_exporter": "python",
   "pygments_lexer": "ipython3",
   "version": "3.11.7"
  }
 },
 "nbformat": 4,
 "nbformat_minor": 5
}
