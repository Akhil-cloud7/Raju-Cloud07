{
 "cells": [
  {
   "cell_type": "code",
   "execution_count": 3,
   "id": "d48f334f-64b7-4b95-862b-2a7c72c019aa",
   "metadata": {},
   "outputs": [
    {
     "data": {
      "text/plain": [
       "'C:\\\\Users\\\\j sai teja\\\\Documents'"
      ]
     },
     "execution_count": 3,
     "metadata": {},
     "output_type": "execute_result"
    }
   ],
   "source": [
    "import os\n",
    "os.getcwd()\n"
   ]
  },
  {
   "cell_type": "code",
   "execution_count": 4,
   "id": "590ed89c-bdff-4534-a840-d2be086b85ee",
   "metadata": {},
   "outputs": [],
   "source": [
    "import random\n"
   ]
  },
  {
   "cell_type": "code",
   "execution_count": 5,
   "id": "d3264d38-e102-4568-a06c-d3f64e1c2b10",
   "metadata": {},
   "outputs": [
    {
     "data": {
      "text/plain": [
       "['BPF',\n",
       " 'LOG4',\n",
       " 'NV_MAGICCONST',\n",
       " 'RECIP_BPF',\n",
       " 'Random',\n",
       " 'SG_MAGICCONST',\n",
       " 'SystemRandom',\n",
       " 'TWOPI',\n",
       " '_ONE',\n",
       " '_Sequence',\n",
       " '_Set',\n",
       " '__all__',\n",
       " '__builtins__',\n",
       " '__cached__',\n",
       " '__doc__',\n",
       " '__file__',\n",
       " '__loader__',\n",
       " '__name__',\n",
       " '__package__',\n",
       " '__spec__',\n",
       " '_accumulate',\n",
       " '_acos',\n",
       " '_bisect',\n",
       " '_ceil',\n",
       " '_cos',\n",
       " '_e',\n",
       " '_exp',\n",
       " '_floor',\n",
       " '_index',\n",
       " '_inst',\n",
       " '_isfinite',\n",
       " '_log',\n",
       " '_os',\n",
       " '_pi',\n",
       " '_random',\n",
       " '_repeat',\n",
       " '_sha512',\n",
       " '_sin',\n",
       " '_sqrt',\n",
       " '_test',\n",
       " '_test_generator',\n",
       " '_urandom',\n",
       " '_warn',\n",
       " 'betavariate',\n",
       " 'choice',\n",
       " 'choices',\n",
       " 'expovariate',\n",
       " 'gammavariate',\n",
       " 'gauss',\n",
       " 'getrandbits',\n",
       " 'getstate',\n",
       " 'lognormvariate',\n",
       " 'normalvariate',\n",
       " 'paretovariate',\n",
       " 'randbytes',\n",
       " 'randint',\n",
       " 'random',\n",
       " 'randrange',\n",
       " 'sample',\n",
       " 'seed',\n",
       " 'setstate',\n",
       " 'shuffle',\n",
       " 'triangular',\n",
       " 'uniform',\n",
       " 'vonmisesvariate',\n",
       " 'weibullvariate']"
      ]
     },
     "execution_count": 5,
     "metadata": {},
     "output_type": "execute_result"
    }
   ],
   "source": [
    "import random\n",
    "dir (random)"
   ]
  },
  {
   "cell_type": "code",
   "execution_count": 2,
   "id": "57b7994a-a991-4eeb-afa4-73e30c9952bb",
   "metadata": {},
   "outputs": [
    {
     "data": {
      "text/plain": [
       "['__doc__',\n",
       " '__loader__',\n",
       " '__name__',\n",
       " '__package__',\n",
       " '__spec__',\n",
       " 'acos',\n",
       " 'acosh',\n",
       " 'asin',\n",
       " 'asinh',\n",
       " 'atan',\n",
       " 'atan2',\n",
       " 'atanh',\n",
       " 'cbrt',\n",
       " 'ceil',\n",
       " 'comb',\n",
       " 'copysign',\n",
       " 'cos',\n",
       " 'cosh',\n",
       " 'degrees',\n",
       " 'dist',\n",
       " 'e',\n",
       " 'erf',\n",
       " 'erfc',\n",
       " 'exp',\n",
       " 'exp2',\n",
       " 'expm1',\n",
       " 'fabs',\n",
       " 'factorial',\n",
       " 'floor',\n",
       " 'fmod',\n",
       " 'frexp',\n",
       " 'fsum',\n",
       " 'gamma',\n",
       " 'gcd',\n",
       " 'hypot',\n",
       " 'inf',\n",
       " 'isclose',\n",
       " 'isfinite',\n",
       " 'isinf',\n",
       " 'isnan',\n",
       " 'isqrt',\n",
       " 'lcm',\n",
       " 'ldexp',\n",
       " 'lgamma',\n",
       " 'log',\n",
       " 'log10',\n",
       " 'log1p',\n",
       " 'log2',\n",
       " 'modf',\n",
       " 'nan',\n",
       " 'nextafter',\n",
       " 'perm',\n",
       " 'pi',\n",
       " 'pow',\n",
       " 'prod',\n",
       " 'radians',\n",
       " 'remainder',\n",
       " 'sin',\n",
       " 'sinh',\n",
       " 'sqrt',\n",
       " 'tan',\n",
       " 'tanh',\n",
       " 'tau',\n",
       " 'trunc',\n",
       " 'ulp']"
      ]
     },
     "execution_count": 2,
     "metadata": {},
     "output_type": "execute_result"
    }
   ],
   "source": [
    "import math\n",
    "dir (math)"
   ]
  },
  {
   "cell_type": "code",
   "execution_count": null,
   "id": "e54624fa-f5c2-40ad-8597-160fb9a8867d",
   "metadata": {},
   "outputs": [],
   "source": [
    "#step-1:\n",
    "#import<package_name>\n",
    "\n",
    "step-2:\n",
    "#dir(<package_name>)\n",
    "\n",
    "step-3:\n",
    "\n"
   ]
  },
  {
   "cell_type": "markdown",
   "id": "f5f0f016-2386-40c6-879e-5fb6baeb24cc",
   "metadata": {},
   "source": [
    "():function or methods\n",
    "\n",
    "- only functions or methods callable\n",
    "\n",
    "- if something says not callable means,it is not a function\n",
    "\n",
    "- it is not a function means,you need remove bracket\n",
    "\n",
    "- bound method mens=====add the brackets\n",
    "\n",
    "- function=====add the brackets\n"
   ]
  },
  {
   "cell_type": "code",
   "execution_count": 2,
   "id": "464b0fe5-9725-49fc-8e99-3f5929f7a683",
   "metadata": {},
   "outputs": [],
   "source": [
    "import math"
   ]
  },
  {
   "cell_type": "code",
   "execution_count": 3,
   "id": "6788be5d-8ba4-48ad-a389-7cecae85557f",
   "metadata": {},
   "outputs": [
    {
     "data": {
      "text/plain": [
       "3.141592653589793"
      ]
     },
     "execution_count": 3,
     "metadata": {},
     "output_type": "execute_result"
    }
   ],
   "source": [
    "math.pi"
   ]
  },
  {
   "cell_type": "code",
   "execution_count": 5,
   "id": "cbdb2e35-28bf-443f-8691-0f3ac2d5329e",
   "metadata": {},
   "outputs": [
    {
     "data": {
      "text/plain": [
       "2.449489742783178"
      ]
     },
     "execution_count": 5,
     "metadata": {},
     "output_type": "execute_result"
    }
   ],
   "source": [
    "math.sqrt(6)"
   ]
  },
  {
   "cell_type": "code",
   "execution_count": 7,
   "id": "5c762be0-7e70-4d30-9a62-b6cff93cd6fc",
   "metadata": {},
   "outputs": [
    {
     "name": "stdout",
     "output_type": "stream",
     "text": [
      "father:hello\n",
      "D:hai dad\n",
      "father:do have school today\n"
     ]
    }
   ],
   "source": [
    "import time\n",
    "print(\"father:hello\")\n",
    "time.sleep(3)\n",
    "print(\"D:hai dad\")\n",
    "time.sleep(4)\n",
    "print(\"father:do have school today\")"
   ]
  },
  {
   "cell_type": "markdown",
   "id": "0b11f63d-d9ce-4412-84c0-b97f8010b250",
   "metadata": {},
   "source": [
    "computer vision is used to image operations\n",
    "video operations\n",
    "\n",
    "we called it as openCV\n",
    "package name:cv2"
   ]
  },
  {
   "cell_type": "code",
   "execution_count": 8,
   "id": "ed5d9079-e31e-4e81-b359-722f4f24e70c",
   "metadata": {},
   "outputs": [
    {
     "ename": "ModuleNotFoundError",
     "evalue": "No module named 'cv2'",
     "output_type": "error",
     "traceback": [
      "\u001b[1;31m---------------------------------------------------------------------------\u001b[0m",
      "\u001b[1;31mModuleNotFoundError\u001b[0m                       Traceback (most recent call last)",
      "Cell \u001b[1;32mIn[8], line 1\u001b[0m\n\u001b[1;32m----> 1\u001b[0m \u001b[38;5;28;01mimport\u001b[39;00m \u001b[38;5;21;01mcv2\u001b[39;00m\n",
      "\u001b[1;31mModuleNotFoundError\u001b[0m: No module named 'cv2'"
     ]
    }
   ],
   "source": [
    "import cv2\n"
   ]
  },
  {
   "cell_type": "markdown",
   "id": "3590778e-ff90-4a89-ac44-35dd833c3ecd",
   "metadata": {},
   "source": [
    "- whenever module not found we need to install it\n",
    "- here our package name is cv2\n",
    "- 99% the installiation will be like this\n",
    "- pip install<package name>\n",
    "- some packages installation name will different and "
   ]
  },
  {
   "cell_type": "code",
   "execution_count": 9,
   "id": "06478512-1924-477a-82d7-4a7bb3ebcb46",
   "metadata": {},
   "outputs": [
    {
     "ename": "ModuleNotFoundError",
     "evalue": "No module named 'cv2'",
     "output_type": "error",
     "traceback": [
      "\u001b[1;31m---------------------------------------------------------------------------\u001b[0m",
      "\u001b[1;31mModuleNotFoundError\u001b[0m                       Traceback (most recent call last)",
      "Cell \u001b[1;32mIn[9], line 1\u001b[0m\n\u001b[1;32m----> 1\u001b[0m \u001b[38;5;28;01mimport\u001b[39;00m \u001b[38;5;21;01mcv2\u001b[39;00m\n",
      "\u001b[1;31mModuleNotFoundError\u001b[0m: No module named 'cv2'"
     ]
    }
   ],
   "source": [
    "import cv2"
   ]
  },
  {
   "cell_type": "code",
   "execution_count": 10,
   "id": "e3364357-9c59-428b-8ce2-431464481020",
   "metadata": {},
   "outputs": [
    {
     "ename": "ModuleNotFoundError",
     "evalue": "No module named 'cv2'",
     "output_type": "error",
     "traceback": [
      "\u001b[1;31m---------------------------------------------------------------------------\u001b[0m",
      "\u001b[1;31mModuleNotFoundError\u001b[0m                       Traceback (most recent call last)",
      "Cell \u001b[1;32mIn[10], line 1\u001b[0m\n\u001b[1;32m----> 1\u001b[0m \u001b[38;5;28;01mimport\u001b[39;00m \u001b[38;5;21;01mcv2\u001b[39;00m\n",
      "\u001b[1;31mModuleNotFoundError\u001b[0m: No module named 'cv2'"
     ]
    }
   ],
   "source": [
    "import cv2"
   ]
  },
  {
   "cell_type": "code",
   "execution_count": 11,
   "id": "e3230f14-e03f-4cc4-a214-d6d9fda01823",
   "metadata": {},
   "outputs": [],
   "source": [
    "import streamlit"
   ]
  },
  {
   "cell_type": "code",
   "execution_count": 12,
   "id": "826bec63-3c8c-4115-9dc1-f8c829c5613d",
   "metadata": {},
   "outputs": [
    {
     "ename": "ModuleNotFoundError",
     "evalue": "No module named 'cv2'",
     "output_type": "error",
     "traceback": [
      "\u001b[1;31m---------------------------------------------------------------------------\u001b[0m",
      "\u001b[1;31mModuleNotFoundError\u001b[0m                       Traceback (most recent call last)",
      "Cell \u001b[1;32mIn[12], line 1\u001b[0m\n\u001b[1;32m----> 1\u001b[0m \u001b[38;5;28;01mimport\u001b[39;00m \u001b[38;5;21;01mcv2\u001b[39;00m\n",
      "\u001b[1;31mModuleNotFoundError\u001b[0m: No module named 'cv2'"
     ]
    }
   ],
   "source": [
    "import cv2"
   ]
  },
  {
   "cell_type": "markdown",
   "id": "ae93b2a9-5aa0-4ea2-a631-b28652501adb",
   "metadata": {},
   "source": [
    "**Note**\n",
    "\n",
    "- pip freeze is the command to know the already existed packages in your laptop"
   ]
  },
  {
   "cell_type": "code",
   "execution_count": 13,
   "id": "0c8a1401-4cec-4e64-b834-90c943a5b8c8",
   "metadata": {},
   "outputs": [],
   "source": [
    "import numpy"
   ]
  },
  {
   "cell_type": "code",
   "execution_count": 14,
   "id": "ad4543ee-16ff-4340-8de4-0effc9057f8f",
   "metadata": {},
   "outputs": [
    {
     "data": {
      "text/plain": [
       "<module 'numpy' from 'C:\\\\Users\\\\j sai teja\\\\anaconda3\\\\Lib\\\\site-packages\\\\numpy\\\\__init__.py'>"
      ]
     },
     "execution_count": 14,
     "metadata": {},
     "output_type": "execute_result"
    }
   ],
   "source": [
    "numpy"
   ]
  },
  {
   "cell_type": "markdown",
   "id": "b915c332-4eed-4f2c-919a-6cf31345e7cb",
   "metadata": {},
   "source": [
    "- !pip install opencv-python\n",
    "- in jupyter notebook we need add ! mark\n",
    "- in anaconda prompt no need of ! mark\n",
    "- directly name you can provide"
   ]
  },
  {
   "cell_type": "code",
   "execution_count": 17,
   "id": "3735ef02-d467-4171-a8ba-7c3038191e3c",
   "metadata": {},
   "outputs": [
    {
     "name": "stdout",
     "output_type": "stream",
     "text": [
      "the addition of 90and 176 is 266\n"
     ]
    }
   ],
   "source": [
    "import random \n",
    "number1=random.randint(1,100)\n",
    "number2=random.randint(100,200)\n",
    "add=number1+number2\n",
    "print(f\"the addition of {number1} and {number2} is {add}\")"
   ]
  },
  {
   "cell_type": "code",
   "execution_count": null,
   "id": "aed832d8-0944-4f45-8093-a432a4828cff",
   "metadata": {},
   "outputs": [],
   "source": [
    "\n",
    "number1=eval(input(\"enter the 1,100\")\n",
    "number2=eval(input(\"enter the \n",
    "add=number1+number2\n",
    "print(f\"the addition of {number1} and {number2} is {add}\""
   ]
  },
  {
   "cell_type": "code",
   "execution_count": 19,
   "id": "1e6d46f8-338b-4974-b5cc-e68eb6e9a0b6",
   "metadata": {},
   "outputs": [
    {
     "name": "stdin",
     "output_type": "stream",
     "text": [
      "enter the n2: 10\n"
     ]
    },
    {
     "name": "stdout",
     "output_type": "stream",
     "text": [
      "The average of 10,10 and 80 is:33.333333333333336\n"
     ]
    }
   ],
   "source": [
    "n1=10\n",
    "n2=eval(input(\"enter the n2:\"))\n",
    "n3=random.randint(1,100)\n",
    "avg=(n1+n2+n3)/3\n",
    "print(f\"The average of {n1},{n2} and {n3} is:{avg}\")"
   ]
  },
  {
   "cell_type": "markdown",
   "id": "9b758596-1aaf-4c0e-acc9-7e165ec82b4c",
   "metadata": {},
   "source": [
    "**round**\n"
   ]
  },
  {
   "cell_type": "code",
   "execution_count": 22,
   "id": "9de7db1d-1a57-4421-8267-688c6d3f8a2d",
   "metadata": {},
   "outputs": [
    {
     "data": {
      "text/plain": [
       "23"
      ]
     },
     "execution_count": 22,
     "metadata": {},
     "output_type": "execute_result"
    }
   ],
   "source": [
    "avg=22.56565\n",
    "round(avg)"
   ]
  },
  {
   "cell_type": "code",
   "execution_count": 23,
   "id": "3fc301ba-f6b8-4cd4-8adb-60047330888c",
   "metadata": {},
   "outputs": [
    {
     "data": {
      "text/plain": [
       "341"
      ]
     },
     "execution_count": 23,
     "metadata": {},
     "output_type": "execute_result"
    }
   ],
   "source": [
    "avg=340.888879\n",
    "round(avg)"
   ]
  },
  {
   "cell_type": "code",
   "execution_count": 2,
   "id": "21cd3bcc-8a5f-45e2-a675-a73bc47b70c6",
   "metadata": {},
   "outputs": [
    {
     "name": "stdin",
     "output_type": "stream",
     "text": [
      "enter the n2: 37\n"
     ]
    },
    {
     "name": "stdout",
     "output_type": "stream",
     "text": [
      "The average of 10,37 and 46 is:31.0\n"
     ]
    }
   ],
   "source": [
    "import random\n",
    "n1=10\n",
    "n2=eval(input(\"enter the n2:\"))\n",
    "n3=random.randint(1,100)\n",
    "avg=(n1+n2+n3)/3\n",
    "print(f\"The average of {n1},{n2} and {n3} is:{avg}\")"
   ]
  },
  {
   "cell_type": "code",
   "execution_count": null,
   "id": "ebcaf36a-be08-42e7-bc3d-eefdb345965f",
   "metadata": {},
   "outputs": [],
   "source": []
  }
 ],
 "metadata": {
  "kernelspec": {
   "display_name": "Python 3 (ipykernel)",
   "language": "python",
   "name": "python3"
  },
  "language_info": {
   "codemirror_mode": {
    "name": "ipython",
    "version": 3
   },
   "file_extension": ".py",
   "mimetype": "text/x-python",
   "name": "python",
   "nbconvert_exporter": "python",
   "pygments_lexer": "ipython3",
   "version": "3.11.7"
  }
 },
 "nbformat": 4,
 "nbformat_minor": 5
}
