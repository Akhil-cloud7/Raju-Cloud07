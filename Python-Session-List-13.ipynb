{
 "cells": [
  {
   "cell_type": "markdown",
   "id": "449378fc-ebec-4f73-88dc-93d140062ea0",
   "metadata": {},
   "source": [
    "- Representation\n",
    "\n",
    "- type\n",
    "\n",
    "- len\n",
    "\n",
    "- max\n",
    "\n",
    "- min \n",
    "\n",
    "- sorted\n",
    " "
   ]
  },
  {
   "cell_type": "markdown",
   "id": "8ae9a64b-a6f9-4d89-9893-c8f650362dc9",
   "metadata": {},
   "source": [
    "**Representation**"
   ]
  },
  {
   "cell_type": "markdown",
   "id": "2a30dddf-3d7c-4713-88c2-9d56578546d9",
   "metadata": {},
   "source": [
    "- string representation with quotes\n",
    "\n",
    "- list represent with square brackets[]"
   ]
  },
  {
   "cell_type": "code",
   "execution_count": 35,
   "id": "5616c0bb-8f48-4940-a644-5233dfea3a01",
   "metadata": {},
   "outputs": [
    {
     "data": {
      "text/plain": [
       "[1, 2, 3, 4]"
      ]
     },
     "execution_count": 35,
     "metadata": {},
     "output_type": "execute_result"
    }
   ],
   "source": [
    "l1=[1,2,3,4]\n",
    "l1"
   ]
  },
  {
   "cell_type": "code",
   "execution_count": 2,
   "id": "fcf178a0-8c02-444e-9285-33b88b425524",
   "metadata": {},
   "outputs": [
    {
     "data": {
      "text/plain": [
       "list"
      ]
     },
     "execution_count": 2,
     "metadata": {},
     "output_type": "execute_result"
    }
   ],
   "source": [
    "type(l1)"
   ]
  },
  {
   "cell_type": "code",
   "execution_count": 3,
   "id": "c4e82e7d-42b4-4d4a-a41f-2c6227976d21",
   "metadata": {},
   "outputs": [
    {
     "data": {
      "text/plain": [
       "['A', 'B', 'C', 'D']"
      ]
     },
     "execution_count": 3,
     "metadata": {},
     "output_type": "execute_result"
    }
   ],
   "source": [
    "l2=['A','B','C','D']\n",
    "l2"
   ]
  },
  {
   "cell_type": "code",
   "execution_count": 4,
   "id": "49250b05-1ec0-4a28-aa96-b8e2080d59d0",
   "metadata": {},
   "outputs": [
    {
     "data": {
      "text/plain": [
       "[1, 2, 3, 4, 'A', 'B', 'C', 'D']"
      ]
     },
     "execution_count": 4,
     "metadata": {},
     "output_type": "execute_result"
    }
   ],
   "source": [
    "l3=[1,2,3,4,'A','B','C','D']\n",
    "l3"
   ]
  },
  {
   "cell_type": "code",
   "execution_count": 6,
   "id": "304e64db-3866-4700-a35e-3c1e568e6c4b",
   "metadata": {},
   "outputs": [
    {
     "data": {
      "text/plain": [
       "[1, 2, 3, 'Apple', 'Ball', 'Cat', True, False]"
      ]
     },
     "execution_count": 6,
     "metadata": {},
     "output_type": "execute_result"
    }
   ],
   "source": [
    "l4=[1,2,3,'Apple','Ball','Cat',True,False]\n",
    "l4"
   ]
  },
  {
   "cell_type": "code",
   "execution_count": 7,
   "id": "9eb25f5f-b3b4-4be1-8d41-0f39231477aa",
   "metadata": {},
   "outputs": [
    {
     "data": {
      "text/plain": [
       "['naresh it']"
      ]
     },
     "execution_count": 7,
     "metadata": {},
     "output_type": "execute_result"
    }
   ],
   "source": [
    "name='naresh it'\n",
    "l5=[name]\n",
    "l5"
   ]
  },
  {
   "cell_type": "code",
   "execution_count": 8,
   "id": "ede78e9b-2728-4033-9feb-ee4899dda583",
   "metadata": {},
   "outputs": [
    {
     "data": {
      "text/plain": [
       "[100, 100, 100]"
      ]
     },
     "execution_count": 8,
     "metadata": {},
     "output_type": "execute_result"
    }
   ],
   "source": [
    "l6=[100,100,100]\n",
    "l6"
   ]
  },
  {
   "cell_type": "code",
   "execution_count": 10,
   "id": "c0bf5707-6646-4ca5-88dc-8fc995d6772a",
   "metadata": {},
   "outputs": [
    {
     "data": {
      "text/plain": [
       "[100, 'Apple', ['A', 2]]"
      ]
     },
     "execution_count": 10,
     "metadata": {},
     "output_type": "execute_result"
    }
   ],
   "source": [
    "l7=[100,'Apple',['A',2]]\n",
    "l7"
   ]
  },
  {
   "cell_type": "markdown",
   "id": "d4982036-86a7-48c6-a066-da2ecb40ae4d",
   "metadata": {},
   "source": [
    "- list are array of elements\n",
    "\n",
    "- list elements are heterogenous all the data types we can represent in alist\n",
    "\n",
    "- list elements are allowed duplicates\n",
    "\n",
    "- list in list is possible\n",
    "\n",
    "- variable asssignment also possible in the list"
   ]
  },
  {
   "cell_type": "markdown",
   "id": "1f3ae6df-4b64-4b61-a5c8-8cc142d9fd5f",
   "metadata": {},
   "source": [
    "- len \n",
    "- max"
   ]
  },
  {
   "cell_type": "code",
   "execution_count": 18,
   "id": "ef478f2e-4ab7-4434-8967-facf94f72d5b",
   "metadata": {},
   "outputs": [
    {
     "data": {
      "text/plain": [
       "4"
      ]
     },
     "execution_count": 18,
     "metadata": {},
     "output_type": "execute_result"
    }
   ],
   "source": [
    "l7=[1,2,3,4]\n",
    "len(l7)"
   ]
  },
  {
   "cell_type": "code",
   "execution_count": 19,
   "id": "5271e7b4-8964-445e-9d3a-c936acfaa9b4",
   "metadata": {},
   "outputs": [
    {
     "data": {
      "text/plain": [
       "4"
      ]
     },
     "execution_count": 19,
     "metadata": {},
     "output_type": "execute_result"
    }
   ],
   "source": [
    "l8=[1,2,3,4]\n",
    "max(l8)"
   ]
  },
  {
   "cell_type": "code",
   "execution_count": 23,
   "id": "afe8d202-37cc-4c99-b226-9b13e7fe475e",
   "metadata": {},
   "outputs": [
    {
     "data": {
      "text/plain": [
       "1"
      ]
     },
     "execution_count": 23,
     "metadata": {},
     "output_type": "execute_result"
    }
   ],
   "source": [
    "l9=[1,2,3,4]\n",
    "min(l9)"
   ]
  },
  {
   "cell_type": "code",
   "execution_count": 14,
   "id": "1b5d7c74-005b-4f08-a90f-1c541a91ff74",
   "metadata": {},
   "outputs": [
    {
     "data": {
      "text/plain": [
       "[1, 2, 3, 4]"
      ]
     },
     "execution_count": 14,
     "metadata": {},
     "output_type": "execute_result"
    }
   ],
   "source": [
    "l1=[1,2,3,4]\n",
    "sorted(l1)"
   ]
  },
  {
   "cell_type": "code",
   "execution_count": 22,
   "id": "1ad66670-f867-445a-9366-2a754bc82476",
   "metadata": {},
   "outputs": [
    {
     "data": {
      "text/plain": [
       "[4, 3, 2, 1]"
      ]
     },
     "execution_count": 22,
     "metadata": {},
     "output_type": "execute_result"
    }
   ],
   "source": [
    "l1=[1,2,3,4]\n",
    "sorted(l1,reverse=True)"
   ]
  },
  {
   "cell_type": "code",
   "execution_count": 25,
   "id": "33995e88-1df1-4e3c-8e2d-20d20b927579",
   "metadata": {},
   "outputs": [
    {
     "name": "stdout",
     "output_type": "stream",
     "text": [
      "4\n",
      "3\n",
      "2\n",
      "1\n"
     ]
    }
   ],
   "source": [
    "k=reversed(l1)\n",
    "for i in k:\n",
    "    print(i)"
   ]
  },
  {
   "cell_type": "code",
   "execution_count": 26,
   "id": "a02afe00-fa3d-4703-a1ae-a179b863b403",
   "metadata": {},
   "outputs": [
    {
     "name": "stdout",
     "output_type": "stream",
     "text": [
      "False\n",
      "True\n",
      "Cat\n",
      "Ball\n",
      "Apple\n",
      "3\n",
      "2\n",
      "1\n"
     ]
    }
   ],
   "source": [
    "for i in reversed(l4):\n",
    "    print(i)"
   ]
  },
  {
   "cell_type": "code",
   "execution_count": 27,
   "id": "b7925f5f-e178-4ca1-8505-83c219cd3604",
   "metadata": {},
   "outputs": [
    {
     "data": {
      "text/plain": [
       "[False, True, 'Cat', 'Ball', 'Apple', 3, 2, 1]"
      ]
     },
     "execution_count": 27,
     "metadata": {},
     "output_type": "execute_result"
    }
   ],
   "source": [
    "list(reversed(l4))"
   ]
  },
  {
   "cell_type": "code",
   "execution_count": 29,
   "id": "8ddd8be4-c8a2-4d15-9c70-beb7ff3dd7fe",
   "metadata": {},
   "outputs": [
    {
     "data": {
      "text/plain": [
       "'banu'"
      ]
     },
     "execution_count": 29,
     "metadata": {},
     "output_type": "execute_result"
    }
   ],
   "source": [
    "name=['adithya','aadithya','banu']\n",
    "max(name)\n",
    "#first compare all first\n",
    "# if all first letters ascii values same\n"
   ]
  },
  {
   "cell_type": "code",
   "execution_count": 32,
   "id": "19251a0b-ddb8-4e4c-a2da-a2056da7f23d",
   "metadata": {},
   "outputs": [
    {
     "data": {
      "text/plain": [
       "['Apple', 1, ['x']]"
      ]
     },
     "execution_count": 32,
     "metadata": {},
     "output_type": "execute_result"
    }
   ],
   "source": [
    "list1=['Apple',\n",
    "       1,\n",
    "       ['x'\n",
    "       ]]\n",
    "list1"
   ]
  },
  {
   "cell_type": "code",
   "execution_count": 1,
   "id": "a4c6891b-52f7-4cdf-add8-dadede1bc7e0",
   "metadata": {},
   "outputs": [
    {
     "data": {
      "text/plain": [
       "'A'"
      ]
     },
     "execution_count": 1,
     "metadata": {},
     "output_type": "execute_result"
    }
   ],
   "source": [
    "list1=['65','A']\n",
    "max(list1)"
   ]
  },
  {
   "cell_type": "markdown",
   "id": "742a1e75-706f-45e7-b39e-e59eea72c267",
   "metadata": {},
   "source": [
    "**index**"
   ]
  },
  {
   "cell_type": "code",
   "execution_count": null,
   "id": "8482f4b8-3537-4a2f-9e72-bbfa21eb6001",
   "metadata": {},
   "outputs": [],
   "source": [
    "l4=[1,2,3,'Apple','Ball','Cat',True,False]\n",
    "\n",
    "# -8  -7  -6  -5 "
   ]
  },
  {
   "cell_type": "code",
   "execution_count": 34,
   "id": "ad79a27c-d5dd-4f0f-ae6a-53fbaee766d9",
   "metadata": {},
   "outputs": [
    {
     "data": {
      "text/plain": [
       "('Apple', 'Apple')"
      ]
     },
     "execution_count": 34,
     "metadata": {},
     "output_type": "execute_result"
    }
   ],
   "source": [
    "l4[3],l4[-5]"
   ]
  },
  {
   "cell_type": "code",
   "execution_count": 35,
   "id": "6481f044-41b3-406d-8c74-619c71e643c5",
   "metadata": {},
   "outputs": [
    {
     "data": {
      "text/plain": [
       "'A'"
      ]
     },
     "execution_count": 35,
     "metadata": {},
     "output_type": "execute_result"
    }
   ],
   "source": [
    "l1=[1,[2,'A']]\n",
    "l1[1][1]\n",
    "\n",
    "#'A' is presented at index 1\n",
    "# so we given "
   ]
  },
  {
   "cell_type": "code",
   "execution_count": 36,
   "id": "0c315d2c-4df7-4426-a5b6-dcea40a065ba",
   "metadata": {},
   "outputs": [
    {
     "data": {
      "text/plain": [
       "'B'"
      ]
     },
     "execution_count": 36,
     "metadata": {},
     "output_type": "execute_result"
    }
   ],
   "source": [
    "l1=[1,\n",
    "    [2,['A','B']]\n",
    "   ]\n",
    "len(l1)\n",
    "l1[1][1][1]"
   ]
  },
  {
   "cell_type": "code",
   "execution_count": 38,
   "id": "579ab17c-ef46-4f72-9af3-5bbf0afbcc51",
   "metadata": {},
   "outputs": [
    {
     "data": {
      "text/plain": [
       "'C'"
      ]
     },
     "execution_count": 38,
     "metadata": {},
     "output_type": "execute_result"
    }
   ],
   "source": [
    "l1=[2,\n",
    "    ['A',['B','C']]\n",
    "   ]\n",
    "l1[1][1][1]"
   ]
  },
  {
   "cell_type": "code",
   "execution_count": 46,
   "id": "a24181d6-581c-4c5c-ba77-edbb69d4ede8",
   "metadata": {},
   "outputs": [
    {
     "data": {
      "text/plain": [
       "'Apple'"
      ]
     },
     "execution_count": 46,
     "metadata": {},
     "output_type": "execute_result"
    }
   ],
   "source": [
    "l1=[1,2,[3,[4,[5,['Apple']]]]]\n",
    "l1[2][1][1][1][0]"
   ]
  },
  {
   "cell_type": "code",
   "execution_count": 53,
   "id": "53154567-4d13-4f77-9d01-f22f03c5445c",
   "metadata": {},
   "outputs": [
    {
     "data": {
      "text/plain": [
       "'Banana'"
      ]
     },
     "execution_count": 53,
     "metadata": {},
     "output_type": "execute_result"
    }
   ],
   "source": [
    "list1=['Apple',1,'Solapur',['cherry','papaya',70,[123,'Banana'],'tomato'],'python'] #get banana\n",
    "list1[3][3][1]"
   ]
  },
  {
   "cell_type": "code",
   "execution_count": 59,
   "id": "8cf43980-cd2e-4cb9-a232-cede8c1a6e76",
   "metadata": {},
   "outputs": [
    {
     "data": {
      "text/plain": [
       "'cherry'"
      ]
     },
     "execution_count": 59,
     "metadata": {},
     "output_type": "execute_result"
    }
   ],
   "source": [
    "list=[[[[[[[1,'cherry']]]]]]]\n",
    "list[0][0][0][0][0][0][1]"
   ]
  },
  {
   "cell_type": "code",
   "execution_count": 29,
   "id": "1875ed2e-5ee5-4ba7-97da-ae86d2455c65",
   "metadata": {},
   "outputs": [
    {
     "data": {
      "text/plain": [
       "'shambaji'"
      ]
     },
     "execution_count": 29,
     "metadata": {},
     "output_type": "execute_result"
    }
   ],
   "source": [
    "l=['MH',\n",
    "    ['Nagpur',['Orange',['Likes',['King',['Shivaji',['son',['shambaji']]]]]]]]\n",
    "l[1][1][1][1][1][1][1][0]"
   ]
  },
  {
   "cell_type": "code",
   "execution_count": 36,
   "id": "eae90e0e-7d83-47ec-b0df-366f066786c8",
   "metadata": {},
   "outputs": [
    {
     "data": {
      "text/plain": [
       "['Akhil', 'A']"
      ]
     },
     "execution_count": 36,
     "metadata": {},
     "output_type": "execute_result"
    }
   ],
   "source": [
    "l=['Akhil','Banana']\n",
    "l[1]='A'\n",
    "l"
   ]
  },
  {
   "cell_type": "markdown",
   "id": "9f6a1046-a203-43ac-a599-fe2ce0e62665",
   "metadata": {},
   "source": [
    "**List Methods**"
   ]
  },
  {
   "cell_type": "code",
   "execution_count": 9,
   "id": "4f9cf8db-8152-4fd2-80fc-9952ad1f468a",
   "metadata": {},
   "outputs": [
    {
     "data": {
      "text/plain": [
       "['__add__',\n",
       " '__class__',\n",
       " '__class_getitem__',\n",
       " '__contains__',\n",
       " '__delattr__',\n",
       " '__delitem__',\n",
       " '__dir__',\n",
       " '__doc__',\n",
       " '__eq__',\n",
       " '__format__',\n",
       " '__ge__',\n",
       " '__getattribute__',\n",
       " '__getitem__',\n",
       " '__getstate__',\n",
       " '__gt__',\n",
       " '__hash__',\n",
       " '__iadd__',\n",
       " '__imul__',\n",
       " '__init__',\n",
       " '__init_subclass__',\n",
       " '__iter__',\n",
       " '__le__',\n",
       " '__len__',\n",
       " '__lt__',\n",
       " '__mul__',\n",
       " '__ne__',\n",
       " '__new__',\n",
       " '__reduce__',\n",
       " '__reduce_ex__',\n",
       " '__repr__',\n",
       " '__reversed__',\n",
       " '__rmul__',\n",
       " '__setattr__',\n",
       " '__setitem__',\n",
       " '__sizeof__',\n",
       " '__str__',\n",
       " '__subclasshook__',\n",
       " 'append',\n",
       " 'clear',\n",
       " 'copy',\n",
       " 'count',\n",
       " 'extend',\n",
       " 'index',\n",
       " 'insert',\n",
       " 'pop',\n",
       " 'remove',\n",
       " 'reverse',\n",
       " 'sort']"
      ]
     },
     "execution_count": 9,
     "metadata": {},
     "output_type": "execute_result"
    }
   ],
   "source": [
    "dir([''])"
   ]
  },
  {
   "cell_type": "code",
   "execution_count": 34,
   "id": "d983358d-b036-49cc-a858-85a33c7bde29",
   "metadata": {},
   "outputs": [
    {
     "name": "stdout",
     "output_type": "stream",
     "text": [
      "[1, 2, 3, 4, 5]\n",
      "[]\n",
      "[]\n"
     ]
    }
   ],
   "source": [
    "l1=[1,2,3,4]\n",
    "l1.append(5)\n",
    "print(l1)\n",
    "l1.clear()\n",
    "print(l1)\n",
    "l1.copy()\n",
    "print(l1)"
   ]
  },
  {
   "cell_type": "code",
   "execution_count": 38,
   "id": "f1004ee0-4b97-480f-9194-748125b6b194",
   "metadata": {},
   "outputs": [
    {
     "data": {
      "text/plain": [
       "[1, 2, 3, 4]"
      ]
     },
     "execution_count": 38,
     "metadata": {},
     "output_type": "execute_result"
    }
   ],
   "source": [
    "l1.count(1)\n",
    "l1"
   ]
  },
  {
   "cell_type": "code",
   "execution_count": 44,
   "id": "30c147f9-2ef9-4b5c-b5f9-3f7c6a232aea",
   "metadata": {},
   "outputs": [
    {
     "data": {
      "text/plain": [
       "[4]"
      ]
     },
     "execution_count": 44,
     "metadata": {},
     "output_type": "execute_result"
    }
   ],
   "source": [
    "l=[1,2,3,4,5,6,'A','B','C','D','E','F','G']\n",
    "l[3:-9:2]"
   ]
  },
  {
   "cell_type": "code",
   "execution_count": 45,
   "id": "e4c8ab82-8983-4d49-99d5-e23c246ff2d4",
   "metadata": {},
   "outputs": [
    {
     "data": {
      "text/plain": [
       "['E', 'C', 'A']"
      ]
     },
     "execution_count": 45,
     "metadata": {},
     "output_type": "execute_result"
    }
   ],
   "source": [
    "l[-3:-9:-2]"
   ]
  },
  {
   "cell_type": "code",
   "execution_count": 46,
   "id": "31d03ede-ad01-43fb-aa77-ba961ea6f7e0",
   "metadata": {},
   "outputs": [
    {
     "data": {
      "text/plain": [
       "['__add__',\n",
       " '__class__',\n",
       " '__class_getitem__',\n",
       " '__contains__',\n",
       " '__delattr__',\n",
       " '__delitem__',\n",
       " '__dir__',\n",
       " '__doc__',\n",
       " '__eq__',\n",
       " '__format__',\n",
       " '__ge__',\n",
       " '__getattribute__',\n",
       " '__getitem__',\n",
       " '__getstate__',\n",
       " '__gt__',\n",
       " '__hash__',\n",
       " '__iadd__',\n",
       " '__imul__',\n",
       " '__init__',\n",
       " '__init_subclass__',\n",
       " '__iter__',\n",
       " '__le__',\n",
       " '__len__',\n",
       " '__lt__',\n",
       " '__mul__',\n",
       " '__ne__',\n",
       " '__new__',\n",
       " '__reduce__',\n",
       " '__reduce_ex__',\n",
       " '__repr__',\n",
       " '__reversed__',\n",
       " '__rmul__',\n",
       " '__setattr__',\n",
       " '__setitem__',\n",
       " '__sizeof__',\n",
       " '__str__',\n",
       " '__subclasshook__',\n",
       " 'append',\n",
       " 'clear',\n",
       " 'copy',\n",
       " 'count',\n",
       " 'extend',\n",
       " 'index',\n",
       " 'insert',\n",
       " 'pop',\n",
       " 'remove',\n",
       " 'reverse',\n",
       " 'sort']"
      ]
     },
     "execution_count": 46,
     "metadata": {},
     "output_type": "execute_result"
    }
   ],
   "source": [
    "dir([''])"
   ]
  },
  {
   "cell_type": "markdown",
   "id": "3684d820-3340-402b-9549-82d3f7b3c4c5",
   "metadata": {},
   "source": [
    "**append**\n",
    "\n",
    "- adding elments in a list at last index\n",
    "\n",
    "- append method is very important\n",
    "\n",
    "- most of the time we will use append in the real time\n",
    "\n",
    "- when you add the value the original list will be overwrite "
   ]
  },
  {
   "cell_type": "code",
   "execution_count": 52,
   "id": "12839fec-40ca-49e7-b347-61509fac421b",
   "metadata": {},
   "outputs": [
    {
     "data": {
      "text/plain": [
       "['Apple', 'Banana', 'Cat', 'Doll']"
      ]
     },
     "execution_count": 52,
     "metadata": {},
     "output_type": "execute_result"
    }
   ],
   "source": [
    "l=['Apple','Banana','Cat']\n",
    "l.append('Doll')\n",
    "l"
   ]
  },
  {
   "cell_type": "code",
   "execution_count": 53,
   "id": "61801a5c-a179-4dd1-86f4-26b53872ca3f",
   "metadata": {},
   "outputs": [
    {
     "data": {
      "text/plain": [
       "[10, 20, 'apple', ['A', 1], True]"
      ]
     },
     "execution_count": 53,
     "metadata": {},
     "output_type": "execute_result"
    }
   ],
   "source": [
    "l1=[]\n",
    "l1.append(10)\n",
    "l1.append(20)\n",
    "l1.append('apple')\n",
    "l1.append(['A',1])\n",
    "l1.append(True)\n",
    "l1"
   ]
  },
  {
   "cell_type": "code",
   "execution_count": 57,
   "id": "d12298e2-7ec7-48de-af49-21a1aaea7e48",
   "metadata": {},
   "outputs": [
    {
     "data": {
      "text/plain": [
       "['Billa', 'Bahubali', 'kalki', 'saaho']"
      ]
     },
     "execution_count": 57,
     "metadata": {},
     "output_type": "execute_result"
    }
   ],
   "source": [
    "l1=[]\n",
    "l1.append('Billa')\n",
    "l1.append('Bahubali')\n",
    "l1.append('kalki')\n",
    "l1.append('saaho')\n",
    "l1"
   ]
  },
  {
   "cell_type": "markdown",
   "id": "48f1effd-af98-438e-88c3-b669d864bcf3",
   "metadata": {},
   "source": [
    "**Append method used to save the outputin a list**"
   ]
  },
  {
   "cell_type": "code",
   "execution_count": 58,
   "id": "9f385813-1581-4b01-a33b-9445b5df0c3f",
   "metadata": {},
   "outputs": [
    {
     "name": "stdout",
     "output_type": "stream",
     "text": [
      "1\n",
      "4\n",
      "9\n",
      "16\n",
      "25\n"
     ]
    }
   ],
   "source": [
    "for i in range(1,6):\n",
    "    print(i*i)"
   ]
  },
  {
   "cell_type": "code",
   "execution_count": 61,
   "id": "27f2fb8e-9973-44d5-b7a6-2919713c56cc",
   "metadata": {},
   "outputs": [
    {
     "name": "stdout",
     "output_type": "stream",
     "text": [
      "1\n",
      "4\n",
      "9\n",
      "16\n",
      "25\n"
     ]
    },
    {
     "data": {
      "text/plain": [
       "[1, 4, 9, 16, 25]"
      ]
     },
     "execution_count": 61,
     "metadata": {},
     "output_type": "execute_result"
    }
   ],
   "source": [
    "square_list=[]\n",
    "for i in range(1,6):\n",
    "    print(i*i)\n",
    "    square_list.append(i*i)\n",
    "square_list"
   ]
  },
  {
   "cell_type": "code",
   "execution_count": 62,
   "id": "efc67991-ed7f-4db5-8c70-db40366639f9",
   "metadata": {},
   "outputs": [
    {
     "name": "stdout",
     "output_type": "stream",
     "text": [
      "2\n",
      "4\n",
      "6\n",
      "8\n",
      "10\n",
      "12\n",
      "14\n",
      "16\n",
      "18\n",
      "20\n",
      "22\n"
     ]
    },
    {
     "data": {
      "text/plain": [
       "[2, 4, 6, 8, 10, 12, 14, 16, 18, 20, 22]"
      ]
     },
     "execution_count": 62,
     "metadata": {},
     "output_type": "execute_result"
    }
   ],
   "source": [
    "square_list=[]\n",
    "for i in range(1,12):\n",
    "    print(i+i)\n",
    "    square_list.append(i+i)\n",
    "square_list"
   ]
  },
  {
   "cell_type": "code",
   "execution_count": 75,
   "id": "af5d54ab-9068-406a-b75b-3c9c69267282",
   "metadata": {},
   "outputs": [
    {
     "data": {
      "text/plain": [
       "[1, 5, 9]"
      ]
     },
     "execution_count": 75,
     "metadata": {},
     "output_type": "execute_result"
    }
   ],
   "source": [
    "s='hai hai hai'\n",
    "id_list=[]\n",
    "for i in range(len(s)):\n",
    "    if s[i]=='a':\n",
    "     id_list.append(i)\n",
    "        \n",
    "id_list"
   ]
  },
  {
   "cell_type": "code",
   "execution_count": 73,
   "id": "4530b806-a2c9-4e40-9a16-20229a7b32d1",
   "metadata": {},
   "outputs": [
    {
     "data": {
      "text/plain": [
       "15"
      ]
     },
     "execution_count": 73,
     "metadata": {},
     "output_type": "execute_result"
    }
   ],
   "source": [
    "summ=0\n",
    "str1='hai hai hai'\n",
    "for i in range(len(str1)):\n",
    "    if str1[i]=='a':\n",
    "        summ=summ+i\n",
    "summ"
   ]
  },
  {
   "cell_type": "code",
   "execution_count": 9,
   "id": "9cb0cb62-dd08-4666-b54a-938dc586d8f4",
   "metadata": {},
   "outputs": [
    {
     "name": "stdin",
     "output_type": "stream",
     "text": [
      "What is capital of India Delhi\n",
      "Who is PM of india Modi\n",
      "Who is ICT ODI captian Rohit\n"
     ]
    },
    {
     "name": "stdout",
     "output_type": "stream",
     "text": [
      "the total marks 0\n"
     ]
    }
   ],
   "source": [
    "qns_list=['What is capital of India',\n",
    "       'Who is PM of india',\n",
    "        'Who is ICT ODI captian']\n",
    "ans_list=['Delhi','Modi','Rohit']\n",
    "marks=0\n",
    "for i in range(len(qns_list)):\n",
    "    ans=input(qns_list[i])\n",
    "    if ans.lower()==ans_list[i].lower:\n",
    "      marks=marks+1\n",
    "\n",
    "print(\"the total marks\",marks)"
   ]
  },
  {
   "cell_type": "code",
   "execution_count": 7,
   "id": "16e85d88-eb9a-4039-9db3-9c544086051b",
   "metadata": {},
   "outputs": [
    {
     "data": {
      "text/plain": [
       "['__add__',\n",
       " '__class__',\n",
       " '__class_getitem__',\n",
       " '__contains__',\n",
       " '__delattr__',\n",
       " '__delitem__',\n",
       " '__dir__',\n",
       " '__doc__',\n",
       " '__eq__',\n",
       " '__format__',\n",
       " '__ge__',\n",
       " '__getattribute__',\n",
       " '__getitem__',\n",
       " '__getstate__',\n",
       " '__gt__',\n",
       " '__hash__',\n",
       " '__iadd__',\n",
       " '__imul__',\n",
       " '__init__',\n",
       " '__init_subclass__',\n",
       " '__iter__',\n",
       " '__le__',\n",
       " '__len__',\n",
       " '__lt__',\n",
       " '__mul__',\n",
       " '__ne__',\n",
       " '__new__',\n",
       " '__reduce__',\n",
       " '__reduce_ex__',\n",
       " '__repr__',\n",
       " '__reversed__',\n",
       " '__rmul__',\n",
       " '__setattr__',\n",
       " '__setitem__',\n",
       " '__sizeof__',\n",
       " '__str__',\n",
       " '__subclasshook__',\n",
       " 'append',\n",
       " 'clear',\n",
       " 'copy',\n",
       " 'count',\n",
       " 'extend',\n",
       " 'index',\n",
       " 'insert',\n",
       " 'pop',\n",
       " 'remove',\n",
       " 'reverse',\n",
       " 'sort']"
      ]
     },
     "execution_count": 7,
     "metadata": {},
     "output_type": "execute_result"
    }
   ],
   "source": [
    "dir([''])"
   ]
  },
  {
   "cell_type": "markdown",
   "id": "28ff8d6d-6904-4b38-8c20-f4e5030cfc27",
   "metadata": {},
   "source": [
    "**Clear**"
   ]
  },
  {
   "cell_type": "code",
   "execution_count": 55,
   "id": "d06a4283-3228-43b0-915e-93c6245d1949",
   "metadata": {},
   "outputs": [
    {
     "data": {
      "text/plain": [
       "[]"
      ]
     },
     "execution_count": 55,
     "metadata": {},
     "output_type": "execute_result"
    }
   ],
   "source": [
    "s=['Apple']\n",
    "s.clear()\n",
    "s"
   ]
  },
  {
   "cell_type": "markdown",
   "id": "fc6c1345-660d-40cd-bda3-28b2c4751aa2",
   "metadata": {},
   "source": [
    "**Copy**"
   ]
  },
  {
   "cell_type": "code",
   "execution_count": 56,
   "id": "c064c699-4194-4d18-a384-e7a1c85a4b6a",
   "metadata": {},
   "outputs": [
    {
     "data": {
      "text/plain": [
       "['Apple', 'Ball']"
      ]
     },
     "execution_count": 56,
     "metadata": {},
     "output_type": "execute_result"
    }
   ],
   "source": [
    "s=['Apple','Ball']\n",
    "s1=s.copy()\n",
    "s1"
   ]
  },
  {
   "cell_type": "code",
   "execution_count": 57,
   "id": "8a815585-c773-4e68-b4c6-c42431f9c39a",
   "metadata": {},
   "outputs": [
    {
     "data": {
      "text/plain": [
       "['Apple', 'Ball']"
      ]
     },
     "execution_count": 57,
     "metadata": {},
     "output_type": "execute_result"
    }
   ],
   "source": [
    "s1"
   ]
  },
  {
   "cell_type": "code",
   "execution_count": 58,
   "id": "b436dd40-0ede-44fb-bec7-3c72894fbfdc",
   "metadata": {},
   "outputs": [
    {
     "data": {
      "text/plain": [
       "(['Apple', 'Ball'], ['Apple', 'Ball'])"
      ]
     },
     "execution_count": 58,
     "metadata": {},
     "output_type": "execute_result"
    }
   ],
   "source": [
    "s1,s"
   ]
  },
  {
   "cell_type": "markdown",
   "id": "ff606bd5-c6a0-4e8c-a8c1-3625f5dbfb66",
   "metadata": {},
   "source": [
    "**Count**"
   ]
  },
  {
   "cell_type": "code",
   "execution_count": 19,
   "id": "ba87bb52-6c6e-4bd1-9762-8150812ecf6e",
   "metadata": {},
   "outputs": [
    {
     "data": {
      "text/plain": [
       "['Apple', 'cat', 'Dhoni']"
      ]
     },
     "execution_count": 19,
     "metadata": {},
     "output_type": "execute_result"
    }
   ],
   "source": [
    "s=['Apple','cat','Dhoni']\n",
    "s.count(1)\n",
    "s"
   ]
  },
  {
   "cell_type": "markdown",
   "id": "881c6099-95e4-463d-931e-64b7cb945c66",
   "metadata": {},
   "source": [
    "**Extend**"
   ]
  },
  {
   "cell_type": "code",
   "execution_count": 23,
   "id": "84464c92-e02c-4f32-b446-69718546c42c",
   "metadata": {},
   "outputs": [
    {
     "data": {
      "text/plain": [
       "['Apple', 'Bat', 'Cat', '1']"
      ]
     },
     "execution_count": 23,
     "metadata": {},
     "output_type": "execute_result"
    }
   ],
   "source": [
    "s=['Apple','Bat','Cat']\n",
    "s.extend('1')\n",
    "s"
   ]
  },
  {
   "cell_type": "markdown",
   "id": "b2f4bc86-5104-478a-8bbc-fe0baba7e4e4",
   "metadata": {},
   "source": [
    "**Index**"
   ]
  },
  {
   "cell_type": "code",
   "execution_count": 32,
   "id": "f5cd48ce-7543-4739-80b1-76b996d60da7",
   "metadata": {},
   "outputs": [
    {
     "data": {
      "text/plain": [
       "['Apple', 'Banana', 'Cat']"
      ]
     },
     "execution_count": 32,
     "metadata": {},
     "output_type": "execute_result"
    }
   ],
   "source": [
    "s=['Apple','Banana','Cat']\n",
    "s.index('Apple')\n",
    "s"
   ]
  },
  {
   "cell_type": "markdown",
   "id": "f12f8bf3-9118-453f-9371-aeb54fc9eeb1",
   "metadata": {},
   "source": [
    "**Insert**"
   ]
  },
  {
   "cell_type": "code",
   "execution_count": 35,
   "id": "d1302319-7944-41e5-930d-136d67d92933",
   "metadata": {},
   "outputs": [
    {
     "data": {
      "text/plain": [
       "['Apple', 2, 'Banana', 'Cat']"
      ]
     },
     "execution_count": 35,
     "metadata": {},
     "output_type": "execute_result"
    }
   ],
   "source": [
    "s=['Apple','Banana','Cat']\n",
    "s.insert(1,2)\n",
    "s"
   ]
  },
  {
   "cell_type": "markdown",
   "id": "a0bc2ce2-8ef4-4480-8a3f-29caae8f8aee",
   "metadata": {},
   "source": [
    "**pop**"
   ]
  },
  {
   "cell_type": "code",
   "execution_count": 36,
   "id": "4e51f462-0c13-477d-ab44-b8abddfa924b",
   "metadata": {},
   "outputs": [
    {
     "data": {
      "text/plain": [
       "'Cat'"
      ]
     },
     "execution_count": 36,
     "metadata": {},
     "output_type": "execute_result"
    }
   ],
   "source": [
    "s=['Apple','Banana','Cat']\n",
    "s.pop()"
   ]
  },
  {
   "cell_type": "markdown",
   "id": "5978dbb8-3c93-4ed6-8cee-53ed072a19ef",
   "metadata": {},
   "source": [
    "**Remove**"
   ]
  },
  {
   "cell_type": "code",
   "execution_count": 45,
   "id": "0972db2d-e7a1-4ef1-9f4d-25342f897e48",
   "metadata": {},
   "outputs": [
    {
     "data": {
      "text/plain": [
       "['Banana', 'Cat']"
      ]
     },
     "execution_count": 45,
     "metadata": {},
     "output_type": "execute_result"
    }
   ],
   "source": [
    "s=['Apple','Banana','Cat']\n",
    "s.remove('Apple')\n",
    "s"
   ]
  },
  {
   "cell_type": "code",
   "execution_count": 47,
   "id": "13cb3a0c-8386-4178-907e-d865a8c22e1c",
   "metadata": {},
   "outputs": [
    {
     "data": {
      "text/plain": [
       "['Cat', 'Banana', 'Apple']"
      ]
     },
     "execution_count": 47,
     "metadata": {},
     "output_type": "execute_result"
    }
   ],
   "source": [
    "s=['Apple','Banana','Cat']\n",
    "s.reverse()\n",
    "s"
   ]
  },
  {
   "cell_type": "code",
   "execution_count": 52,
   "id": "1ace4793-7415-40ac-9b48-c9ff690dc264",
   "metadata": {},
   "outputs": [
    {
     "data": {
      "text/plain": [
       "['Apple', 'Banana', 'Cat']"
      ]
     },
     "execution_count": 52,
     "metadata": {},
     "output_type": "execute_result"
    }
   ],
   "source": [
    "s=['Cat','Banana','Apple']\n",
    "s.sort()\n",
    "s"
   ]
  },
  {
   "cell_type": "markdown",
   "id": "5af03776-24fc-4656-b477-9f6ffdf6ce06",
   "metadata": {},
   "source": [
    "**Concenation**"
   ]
  },
  {
   "cell_type": "code",
   "execution_count": 67,
   "id": "09c081f3-ddbf-491c-a7ac-aed9d02fb483",
   "metadata": {},
   "outputs": [
    {
     "data": {
      "text/plain": [
       "['A', 'B', 'C', 'D', 1, 2, 3, 4]"
      ]
     },
     "execution_count": 67,
     "metadata": {},
     "output_type": "execute_result"
    }
   ],
   "source": [
    "l1=['A','B','C','D']\n",
    "l2=[1,2,3,4]\n",
    "l1+l2"
   ]
  },
  {
   "cell_type": "code",
   "execution_count": 66,
   "id": "e3cf9496-ceb8-466a-84a2-9382630dce0e",
   "metadata": {},
   "outputs": [
    {
     "name": "stdout",
     "output_type": "stream",
     "text": [
      "['A', 'B', 'C', 'D', 1, 2, 3, 4]\n"
     ]
    }
   ],
   "source": [
    "l1=['A','B','C','D']\n",
    "l2=[1,2,3,4]\n",
    "l1.extend(l2)\n",
    "print(l1)"
   ]
  },
  {
   "cell_type": "code",
   "execution_count": 68,
   "id": "5fd9a9f5-9951-4504-a044-01ce26ec3fc9",
   "metadata": {},
   "outputs": [
    {
     "name": "stdout",
     "output_type": "stream",
     "text": [
      "['A', 'B', 'C', 'D', 1, 2, 3, 4]\n",
      "['A', 'B', 'C', 'D', 1, 2, 3, 4, 1, 2, 3, 4]\n",
      "[1, 2, 3, 4, 'A', 'B', 'C', 'D', 1, 2, 3, 4]\n",
      "[1, 2, 3, 4]\n"
     ]
    }
   ],
   "source": [
    "l1=['A','B','C','D']\n",
    "l2=[1,2,3,4]\n",
    "l1.extend(l2)\n",
    "print(l1)\n",
    "print(l1+l2)\n",
    "print(l2+l1)\n",
    "print(l2)"
   ]
  },
  {
   "cell_type": "code",
   "execution_count": 70,
   "id": "384e5695-0eeb-461b-9614-4028d0a1395f",
   "metadata": {},
   "outputs": [
    {
     "data": {
      "text/plain": [
       "[1, 2, 3, 4, 10, 20, 30, 40]"
      ]
     },
     "execution_count": 70,
     "metadata": {},
     "output_type": "execute_result"
    }
   ],
   "source": [
    "l1=[1,2,3,4]\n",
    "l1.extend([10,20,30,40])\n",
    "l1"
   ]
  },
  {
   "cell_type": "markdown",
   "id": "d696f6f1-4b2e-4a94-a616-5af7aa9e01da",
   "metadata": {},
   "source": [
    "- append just append the value with base data type\n",
    "\n",
    "- extend is concatenate the value, and the list will be overwrite with new values\n",
    "\n",
    "- extend can take any iterable format type i.e. string, list, tuple\n",
    "\n",
    "- extend an concatination both are same\n",
    "\n",
    "- the list will not overwrite in concatenation"
   ]
  },
  {
   "cell_type": "code",
   "execution_count": 74,
   "id": "25cdfcaf-3f47-4afa-a388-8820e53489a8",
   "metadata": {},
   "outputs": [
    {
     "name": "stdout",
     "output_type": "stream",
     "text": [
      "3 6\n"
     ]
    }
   ],
   "source": [
    "l1=[1,2,3,'Apple',10,20,'Apple',40]\n",
    "i1=l1.index('Apple')\n",
    "i2=l1.index('Apple',i1+1)\n",
    "print(i1,i2)"
   ]
  },
  {
   "cell_type": "markdown",
   "id": "05dc92ee-5bd4-496c-a0a4-ffd1cce156a2",
   "metadata": {},
   "source": [
    "- case-1: Directly get the index\n",
    "\n",
    "- case-2: next value index,by providing start \n",
    "\n",
    "- case-3: between values"
   ]
  },
  {
   "cell_type": "code",
   "execution_count": null,
   "id": "04908431-5c77-4c03-86f3-830b918bb133",
   "metadata": {},
   "outputs": [],
   "source": []
  }
 ],
 "metadata": {
  "kernelspec": {
   "display_name": "Python 3 (ipykernel)",
   "language": "python",
   "name": "python3"
  },
  "language_info": {
   "codemirror_mode": {
    "name": "ipython",
    "version": 3
   },
   "file_extension": ".py",
   "mimetype": "text/x-python",
   "name": "python",
   "nbconvert_exporter": "python",
   "pygments_lexer": "ipython3",
   "version": "3.11.7"
  }
 },
 "nbformat": 4,
 "nbformat_minor": 5
}
