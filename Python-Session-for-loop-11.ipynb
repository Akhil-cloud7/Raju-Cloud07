{
 "cells": [
  {
   "cell_type": "code",
   "execution_count": 1,
   "id": "f5631202-76f1-4a62-9dbf-c8b47d86bddf",
   "metadata": {},
   "outputs": [
    {
     "name": "stdout",
     "output_type": "stream",
     "text": [
      "the total number of evens are: 4\n",
      "the total number of odds are :1\n"
     ]
    }
   ],
   "source": [
    "import random\n",
    "even_count,odd_count=0,0\n",
    "for i in range (5):\n",
    "    num=random.randint(1,100)\n",
    "    if num%2==0:\n",
    "     even_count=even_count+1\n",
    "    else:\n",
    "      odd_count=odd_count+1\n",
    "print(f\"the total number of evens are: {even_count}\")\n",
    "print(f\"the total number of odds are :{odd_count}\")"
   ]
  },
  {
   "cell_type": "code",
   "execution_count": 3,
   "id": "375abbe1-ee34-4b9f-b271-5a37b39acde7",
   "metadata": {},
   "outputs": [
    {
     "name": "stdout",
     "output_type": "stream",
     "text": [
      "the total number of evens are: 0\n",
      "the total number of odds are :2\n",
      "the total number of even are :88\n",
      "the total number of odds are :112\n"
     ]
    }
   ],
   "source": [
    "import random\n",
    "even_count,odd_count=0,0\n",
    "even_sum,odd_sum=0,0\n",
    "for i in range (5):\n",
    "    num=random.randint(1,100)\n",
    "    if num%2==0:\n",
    "      even_sum=even_sum+num\n",
    "    else:\n",
    "      odd_count=odd_count+1\n",
    "      odd_sum=odd_sum+num\n",
    "print(f\"the total number of evens are: {even_count}\")\n",
    "print(f\"the total number of odds are :{odd_count}\")\n",
    "print(f\"the total number of even are :{even_sum}\")\n",
    "print(f\"the total number of odds are :{odd_sum}\")"
   ]
  },
  {
   "cell_type": "code",
   "execution_count": 21,
   "id": "e0b8e9a0-12ad-4378-8be3-78731c064349",
   "metadata": {},
   "outputs": [
    {
     "name": "stdout",
     "output_type": "stream",
     "text": [
      "the total number of evens are: 0\n",
      "the total number of odds are :1\n",
      "the summation  number of even are :0\n",
      "the summation number of odds are :65\n"
     ]
    }
   ],
   "source": [
    "\n",
    "import random\n",
    "even_count,odd_count=0,0\n",
    "even_sum,odd_sum=0,0\n",
    "for i in range (5):\n",
    "   num=random.randint(1,100)\n",
    "if num%2==0:\n",
    "      even_sum=even_sum+num\n",
    "else:\n",
    "      odd_count=odd_count+1\n",
    "      odd_sum=odd_sum+num\n",
    "print(f\"the total number of evens are: {even_count}\")\n",
    "print(f\"the total number of odds are :{odd_count}\")\n",
    "print(f\"the summation  number of even are :{even_sum}\")\n",
    "print(f\"the summation number of odds are :{odd_sum}\")\n"
   ]
  },
  {
   "cell_type": "markdown",
   "id": "001a6a52-dd3f-42a2-bcc1-34174fc5e61c",
   "metadata": {},
   "source": [
    "**in oprator**"
   ]
  },
  {
   "cell_type": "code",
   "execution_count": 5,
   "id": "f48c76c9-1251-4a6f-920b-559cc62844c1",
   "metadata": {},
   "outputs": [
    {
     "ename": "TypeError",
     "evalue": "'in <string>' requires string as left operand, not int",
     "output_type": "error",
     "traceback": [
      "\u001b[1;31m---------------------------------------------------------------------------\u001b[0m",
      "\u001b[1;31mTypeError\u001b[0m                                 Traceback (most recent call last)",
      "Cell \u001b[1;32mIn[5], line 8\u001b[0m\n\u001b[0;32m      6\u001b[0m \u001b[38;5;124m'\u001b[39m\u001b[38;5;124mo\u001b[39m\u001b[38;5;124m'\u001b[39m \u001b[38;5;129;01min\u001b[39;00m string1\n\u001b[0;32m      7\u001b[0m \u001b[38;5;124m'\u001b[39m\u001b[38;5;124mn\u001b[39m\u001b[38;5;124m'\u001b[39m \u001b[38;5;129;01min\u001b[39;00m string1\n\u001b[1;32m----> 8\u001b[0m i \u001b[38;5;129;01min\u001b[39;00m string1\n",
      "\u001b[1;31mTypeError\u001b[0m: 'in <string>' requires string as left operand, not int"
     ]
    }
   ],
   "source": [
    "string1='python'\n",
    "'p' in string1\n",
    "'y' in string1\n",
    "'t' in string1\n",
    "'h' in string1\n",
    "'o' in string1\n",
    "'n' in string1\n",
    "i in string1"
   ]
  },
  {
   "cell_type": "code",
   "execution_count": 6,
   "id": "908b33bf-cfd8-4a8e-ab9f-83d4b3d2bf29",
   "metadata": {},
   "outputs": [
    {
     "name": "stdout",
     "output_type": "stream",
     "text": [
      "p\n",
      "y\n",
      "t\n",
      "h\n",
      "o\n",
      "n\n"
     ]
    }
   ],
   "source": [
    "for i in string1:\n",
    "    print(i)"
   ]
  },
  {
   "cell_type": "markdown",
   "id": "076e9b43-c65f-4ad4-9c52-0a31e823c5ea",
   "metadata": {},
   "source": [
    "**Differeence between in operator and range operator**\n",
    "\n",
    "- range belongs to math family\n",
    "\n",
    "- inside range we need to keep numbers only\n",
    "\n",
    "- whenever if we want iterate through a english letters\n",
    "\n",
    "- we need  to choose in operator\n",
    "\n",
    "- range means Numbers\n",
    "\n",
    "- in means strings"
   ]
  },
  {
   "cell_type": "markdown",
   "id": "63bfb5cd-081d-44f3-a0c7-0ed9889cdf44",
   "metadata": {},
   "source": [
    "**ord-chr**"
   ]
  },
  {
   "cell_type": "code",
   "execution_count": null,
   "id": "3c570f81-48c8-4c48-b5a4-e3fbeeb0a134",
   "metadata": {},
   "outputs": [],
   "source": [
    "A=== 65 ===0b100001"
   ]
  },
  {
   "cell_type": "code",
   "execution_count": 7,
   "id": "81316a54-644a-46a7-a69f-7a09548896dc",
   "metadata": {},
   "outputs": [
    {
     "data": {
      "text/plain": [
       "(65, 97)"
      ]
     },
     "execution_count": 7,
     "metadata": {},
     "output_type": "execute_result"
    }
   ],
   "source": [
    "ord('A'),ord('a')"
   ]
  },
  {
   "cell_type": "code",
   "execution_count": 8,
   "id": "6a315b5d-cc01-4a98-a03d-444d865d42a2",
   "metadata": {},
   "outputs": [
    {
     "data": {
      "text/plain": [
       "(80, 112)"
      ]
     },
     "execution_count": 8,
     "metadata": {},
     "output_type": "execute_result"
    }
   ],
   "source": [
    "ord('P'),ord('p')"
   ]
  },
  {
   "cell_type": "code",
   "execution_count": 11,
   "id": "bbb7ef19-83b7-4406-96ae-e305da2f5160",
   "metadata": {},
   "outputs": [
    {
     "data": {
      "text/plain": [
       "False"
      ]
     },
     "execution_count": 11,
     "metadata": {},
     "output_type": "execute_result"
    }
   ],
   "source": [
    "'P'>'p'   #112>80"
   ]
  },
  {
   "cell_type": "code",
   "execution_count": 12,
   "id": "9139442d-9f94-4ff0-9f13-6e75eda3fe82",
   "metadata": {},
   "outputs": [
    {
     "data": {
      "text/plain": [
       "('p', 'P', 'A', 'a')"
      ]
     },
     "execution_count": 12,
     "metadata": {},
     "output_type": "execute_result"
    }
   ],
   "source": [
    "chr(112),chr(80),chr(65),chr(97)"
   ]
  },
  {
   "cell_type": "code",
   "execution_count": 13,
   "id": "eb224fb3-3eba-488b-9b07-e88225acfe26",
   "metadata": {},
   "outputs": [
    {
     "name": "stdout",
     "output_type": "stream",
     "text": [
      "p 112\n",
      "y 121\n",
      "t 116\n",
      "h 104\n",
      "o 111\n",
      "n 110\n"
     ]
    }
   ],
   "source": [
    "for i in 'python':\n",
    "    print(i,ord(i))"
   ]
  },
  {
   "cell_type": "code",
   "execution_count": 15,
   "id": "2012653f-82e8-4dd1-935d-5e610273930f",
   "metadata": {},
   "outputs": [
    {
     "name": "stdout",
     "output_type": "stream",
     "text": [
      "The ASCII number for p is 112\n",
      "The ASCII number for y is 121\n",
      "The ASCII number for t is 116\n",
      "The ASCII number for h is 104\n",
      "The ASCII number for o is 111\n",
      "The ASCII number for n is 110\n"
     ]
    }
   ],
   "source": [
    "for i in 'python':\n",
    "    print(f\"The ASCII number for {i} is {ord(i)}\" )"
   ]
  },
  {
   "cell_type": "code",
   "execution_count": 18,
   "id": "9ed87f4d-bed1-4ae6-acdc-1e6d55c17d76",
   "metadata": {},
   "outputs": [
    {
     "name": "stdout",
     "output_type": "stream",
     "text": [
      "The ASCII summation of numbers is p is 112 \n",
      "The ASCII summation of numbers is y is 233 \n",
      "The ASCII summation of numbers is t is 349 \n",
      "The ASCII summation of numbers is h is 453 \n",
      "The ASCII summation of numbers is o is 564 \n",
      "The ASCII summation of numbers is n is 674 \n"
     ]
    }
   ],
   "source": [
    "ascii_sum=0\n",
    "for i in 'python':\n",
    "    ascii_sum=ascii_sum+ord(i)\n",
    "    print(f\"The ASCII summation of numbers is {i} is {ascii_sum} \")"
   ]
  },
  {
   "cell_type": "code",
   "execution_count": 20,
   "id": "d2aacdaa-4071-41a6-8950-532a80a6b1db",
   "metadata": {},
   "outputs": [],
   "source": [
    "#package called all ascii number for A to Z"
   ]
  },
  {
   "cell_type": "code",
   "execution_count": null,
   "id": "513ea234-250f-4e25-8e53-668cbe642545",
   "metadata": {},
   "outputs": [],
   "source": [
    "#package callled :string\n",
    "#import"
   ]
  },
  {
   "cell_type": "code",
   "execution_count": 26,
   "id": "4cbcf53e-4400-478b-b991-a8b3832f2c9c",
   "metadata": {},
   "outputs": [],
   "source": [
    "import string"
   ]
  },
  {
   "cell_type": "code",
   "execution_count": 28,
   "id": "dbfb60d5-3048-4a52-a25c-e6a9496f3645",
   "metadata": {},
   "outputs": [
    {
     "data": {
      "text/plain": [
       "['Formatter',\n",
       " 'Template',\n",
       " '_ChainMap',\n",
       " '__all__',\n",
       " '__builtins__',\n",
       " '__cached__',\n",
       " '__doc__',\n",
       " '__file__',\n",
       " '__loader__',\n",
       " '__name__',\n",
       " '__package__',\n",
       " '__spec__',\n",
       " '_re',\n",
       " '_sentinel_dict',\n",
       " '_string',\n",
       " 'ascii_letters',\n",
       " 'ascii_lowercase',\n",
       " 'ascii_uppercase',\n",
       " 'capwords',\n",
       " 'digits',\n",
       " 'hexdigits',\n",
       " 'octdigits',\n",
       " 'printable',\n",
       " 'punctuation',\n",
       " 'whitespace']"
      ]
     },
     "execution_count": 28,
     "metadata": {},
     "output_type": "execute_result"
    }
   ],
   "source": [
    "dir (string)"
   ]
  },
  {
   "cell_type": "code",
   "execution_count": 38,
   "id": "787e1746-fba1-4b64-81b1-2e285d6fda80",
   "metadata": {},
   "outputs": [
    {
     "data": {
      "text/plain": [
       "'abcdefghijklmnopqrstuvwxyzABCDEFGHIJKLMNOPQRSTUVWXYZ'"
      ]
     },
     "execution_count": 38,
     "metadata": {},
     "output_type": "execute_result"
    }
   ],
   "source": [
    "string.ascii_letters"
   ]
  },
  {
   "cell_type": "code",
   "execution_count": 39,
   "id": "e4c0b123-1832-4bdc-bd24-da92d92a6f68",
   "metadata": {},
   "outputs": [
    {
     "data": {
      "text/plain": [
       "'ABCDEFGHIJKLMNOPQRSTUVWXYZ'"
      ]
     },
     "execution_count": 39,
     "metadata": {},
     "output_type": "execute_result"
    }
   ],
   "source": [
    "string.ascii_uppercase"
   ]
  },
  {
   "cell_type": "code",
   "execution_count": 40,
   "id": "7b570d3e-7e95-4bfc-8333-b64c2b92f679",
   "metadata": {},
   "outputs": [
    {
     "name": "stdout",
     "output_type": "stream",
     "text": [
      "The ASCII for A is ABCDEFGHIJKLMNOPQRSTUVWXYZ\n",
      "The ASCII for B is ABCDEFGHIJKLMNOPQRSTUVWXYZ\n",
      "The ASCII for C is ABCDEFGHIJKLMNOPQRSTUVWXYZ\n",
      "The ASCII for D is ABCDEFGHIJKLMNOPQRSTUVWXYZ\n",
      "The ASCII for E is ABCDEFGHIJKLMNOPQRSTUVWXYZ\n",
      "The ASCII for F is ABCDEFGHIJKLMNOPQRSTUVWXYZ\n",
      "The ASCII for G is ABCDEFGHIJKLMNOPQRSTUVWXYZ\n",
      "The ASCII for H is ABCDEFGHIJKLMNOPQRSTUVWXYZ\n",
      "The ASCII for I is ABCDEFGHIJKLMNOPQRSTUVWXYZ\n",
      "The ASCII for J is ABCDEFGHIJKLMNOPQRSTUVWXYZ\n",
      "The ASCII for K is ABCDEFGHIJKLMNOPQRSTUVWXYZ\n",
      "The ASCII for L is ABCDEFGHIJKLMNOPQRSTUVWXYZ\n",
      "The ASCII for M is ABCDEFGHIJKLMNOPQRSTUVWXYZ\n",
      "The ASCII for N is ABCDEFGHIJKLMNOPQRSTUVWXYZ\n",
      "The ASCII for O is ABCDEFGHIJKLMNOPQRSTUVWXYZ\n",
      "The ASCII for P is ABCDEFGHIJKLMNOPQRSTUVWXYZ\n",
      "The ASCII for Q is ABCDEFGHIJKLMNOPQRSTUVWXYZ\n",
      "The ASCII for R is ABCDEFGHIJKLMNOPQRSTUVWXYZ\n",
      "The ASCII for S is ABCDEFGHIJKLMNOPQRSTUVWXYZ\n",
      "The ASCII for T is ABCDEFGHIJKLMNOPQRSTUVWXYZ\n",
      "The ASCII for U is ABCDEFGHIJKLMNOPQRSTUVWXYZ\n",
      "The ASCII for V is ABCDEFGHIJKLMNOPQRSTUVWXYZ\n",
      "The ASCII for W is ABCDEFGHIJKLMNOPQRSTUVWXYZ\n",
      "The ASCII for X is ABCDEFGHIJKLMNOPQRSTUVWXYZ\n",
      "The ASCII for Y is ABCDEFGHIJKLMNOPQRSTUVWXYZ\n",
      "The ASCII for Z is ABCDEFGHIJKLMNOPQRSTUVWXYZ\n"
     ]
    }
   ],
   "source": [
    "import string\n",
    "letters=string.ascii_uppercase\n",
    "for i in letters:\n",
    "    print(f\"The ASCII for {i} is {letters}\")"
   ]
  },
  {
   "cell_type": "code",
   "execution_count": 41,
   "id": "1784955f-9925-4a2c-96ec-716e32ae3bf5",
   "metadata": {},
   "outputs": [
    {
     "data": {
      "text/plain": [
       "'abcdefghijklmnopqrstuvwxyz'"
      ]
     },
     "execution_count": 41,
     "metadata": {},
     "output_type": "execute_result"
    }
   ],
   "source": [
    "string.ascii_lowercase"
   ]
  },
  {
   "cell_type": "code",
   "execution_count": 43,
   "id": "4e6a7ebe-7e78-4bfa-825f-b754b4e641a1",
   "metadata": {},
   "outputs": [
    {
     "data": {
      "text/plain": [
       "'!\"#$%&\\'()*+,-./:;<=>?@[\\\\]^_`{|}~'"
      ]
     },
     "execution_count": 43,
     "metadata": {},
     "output_type": "execute_result"
    }
   ],
   "source": [
    "string.punctuation"
   ]
  },
  {
   "cell_type": "code",
   "execution_count": 44,
   "id": "78b9f895-f892-4176-a7dd-68e931aed475",
   "metadata": {},
   "outputs": [
    {
     "name": "stdout",
     "output_type": "stream",
     "text": [
      "The ASCII for ! is 33\n",
      "The ASCII for \" is 34\n",
      "The ASCII for # is 35\n",
      "The ASCII for $ is 36\n",
      "The ASCII for % is 37\n",
      "The ASCII for & is 38\n",
      "The ASCII for ' is 39\n",
      "The ASCII for ( is 40\n",
      "The ASCII for ) is 41\n",
      "The ASCII for * is 42\n",
      "The ASCII for + is 43\n",
      "The ASCII for , is 44\n",
      "The ASCII for - is 45\n",
      "The ASCII for . is 46\n",
      "The ASCII for / is 47\n",
      "The ASCII for : is 58\n",
      "The ASCII for ; is 59\n",
      "The ASCII for < is 60\n",
      "The ASCII for = is 61\n",
      "The ASCII for > is 62\n",
      "The ASCII for ? is 63\n",
      "The ASCII for @ is 64\n",
      "The ASCII for [ is 91\n",
      "The ASCII for \\ is 92\n",
      "The ASCII for ] is 93\n",
      "The ASCII for ^ is 94\n",
      "The ASCII for _ is 95\n",
      "The ASCII for ` is 96\n",
      "The ASCII for { is 123\n",
      "The ASCII for | is 124\n",
      "The ASCII for } is 125\n",
      "The ASCII for ~ is 126\n"
     ]
    }
   ],
   "source": [
    "import string\n",
    "letters=string.punctuation\n",
    "for i in letters:\n",
    "    print(f\"The ASCII for {i} is {ord(i)}\")"
   ]
  },
  {
   "cell_type": "code",
   "execution_count": 3,
   "id": "f301d6f8-0bc0-4dd6-a11d-4227141b2baf",
   "metadata": {},
   "outputs": [
    {
     "name": "stdout",
     "output_type": "stream",
     "text": [
      "2000 ߐ==>2001 ߑ==>2002 ߒ==>2003 ߓ==>2004 ߔ==>2005 ߕ==>2006 ߖ==>2007 ߗ==>2008 ߘ==>2009 ߙ==>2010 ߚ==>2011 ߛ==>2012 ߜ==>2013 ߝ==>2014 ߞ==>2015 ߟ==>2016 ߠ==>2017 ߡ==>2018 ߢ==>2019 ߣ==>2020 ߤ==>2021 ߥ==>2022 ߦ==>2023 ߧ==>2024 ߨ==>2025 ߩ==>2026 ߪ==>2027 ߫==>2028 ߬==>2029 ߭==>2030 ߮==>2031 ߯==>2032 ߰==>2033 ߱==>2034 ߲==>2035 ߳==>2036 ߴ==>2037 ߵ==>2038 ߶==>2039 ߷==>2040 ߸==>2041 ߹==>2042 ߺ==>2043 ߻==>2044 ߼==>2045 ߽==>2046 ߾==>2047 ߿==>2048 ࠀ==>2049 ࠁ==>2050 ࠂ==>2051 ࠃ==>2052 ࠄ==>2053 ࠅ==>2054 ࠆ==>2055 ࠇ==>2056 ࠈ==>2057 ࠉ==>2058 ࠊ==>2059 ࠋ==>2060 ࠌ==>2061 ࠍ==>2062 ࠎ==>2063 ࠏ==>2064 ࠐ==>2065 ࠑ==>2066 ࠒ==>2067 ࠓ==>2068 ࠔ==>2069 ࠕ==>2070 ࠖ==>2071 ࠗ==>2072 ࠘==>2073 ࠙==>2074 ࠚ==>2075 ࠛ==>2076 ࠜ==>2077 ࠝ==>2078 ࠞ==>2079 ࠟ==>2080 ࠠ==>2081 ࠡ==>2082 ࠢ==>2083 ࠣ==>2084 ࠤ==>2085 ࠥ==>2086 ࠦ==>2087 ࠧ==>2088 ࠨ==>2089 ࠩ==>2090 ࠪ==>2091 ࠫ==>2092 ࠬ==>2093 ࠭==>2094 ࠮==>2095 ࠯==>2096 ࠰==>2097 ࠱==>2098 ࠲==>2099 ࠳==>2100 ࠴==>2101 ࠵==>2102 ࠶==>2103 ࠷==>2104 ࠸==>2105 ࠹==>2106 ࠺==>2107 ࠻==>2108 ࠼==>2109 ࠽==>2110 ࠾==>2111 ࠿==>2112 ࡀ==>2113 ࡁ==>2114 ࡂ==>2115 ࡃ==>2116 ࡄ==>2117 ࡅ==>2118 ࡆ==>2119 ࡇ==>2120 ࡈ==>2121 ࡉ==>2122 ࡊ==>2123 ࡋ==>2124 ࡌ==>2125 ࡍ==>2126 ࡎ==>2127 ࡏ==>2128 ࡐ==>2129 ࡑ==>2130 ࡒ==>2131 ࡓ==>2132 ࡔ==>2133 ࡕ==>2134 ࡖ==>2135 ࡗ==>2136 ࡘ==>2137 ࡙==>2138 ࡚==>2139 ࡛==>2140 ࡜==>2141 ࡝==>2142 ࡞==>2143 ࡟==>2144 ࡠ==>2145 ࡡ==>2146 ࡢ==>2147 ࡣ==>2148 ࡤ==>2149 ࡥ==>2150 ࡦ==>2151 ࡧ==>2152 ࡨ==>2153 ࡩ==>2154 ࡪ==>2155 ࡫==>2156 ࡬==>2157 ࡭==>2158 ࡮==>2159 ࡯==>2160 ࡰ==>2161 ࡱ==>2162 ࡲ==>2163 ࡳ==>2164 ࡴ==>2165 ࡵ==>2166 ࡶ==>2167 ࡷ==>2168 ࡸ==>2169 ࡹ==>2170 ࡺ==>2171 ࡻ==>2172 ࡼ==>2173 ࡽ==>2174 ࡾ==>2175 ࡿ==>"
     ]
    }
   ],
   "source": [
    "# A-Z a-z \n",
    "#A =====> 65\n",
    "#Z =====> 90\n",
    "for i in range(2000,2176):\n",
    "    print(i,chr(i),end='==>')"
   ]
  },
  {
   "cell_type": "code",
   "execution_count": 2,
   "id": "66714b35-8107-483f-960c-36bc3633dd7e",
   "metadata": {},
   "outputs": [
    {
     "name": "stdout",
     "output_type": "stream",
     "text": [
      "3078 ఆ==>3079 ఇ==>3080 ఈ==>3081 ఉ==>3082 ఊ==>3083 ఋ==>3084 ఌ==>3085 ఍==>3086 ఎ==>3087 ఏ==>3088 ఐ==>3089 ఑==>3090 ఒ==>3091 ఓ==>3092 ఔ==>3093 క==>3094 ఖ==>3095 గ==>3096 ఘ==>3097 ఙ==>3098 చ==>3099 ఛ==>3100 జ==>3101 ఝ==>3102 ఞ==>3103 ట==>3104 ఠ==>3105 డ==>3106 ఢ==>3107 ణ==>3108 త==>3109 థ==>3110 ద==>3111 ధ==>3112 న==>3113 ఩==>3114 ప==>3115 ఫ==>3116 బ==>3117 భ==>3118 మ==>3119 య==>3120 ర==>3121 ఱ==>3122 ల==>3123 ళ==>3124 ఴ==>3125 వ==>3126 శ==>3127 ష==>3128 స==>3129 హ==>3130 ఺==>3131 ఻==>3132 ఼==>3133 ఽ==>3134 ా==>3135 ి==>3136 ీ==>3137 ు==>3138 ూ==>3139 ృ==>3140 ౄ==>3141 ౅==>3142 ె==>3143 ే==>3144 ై==>3145 ౉==>3146 ొ==>3147 ో==>3148 ౌ==>3149 ్==>3150 ౎==>3151 ౏==>3152 ౐==>3153 ౑==>3154 ౒==>3155 ౓==>3156 ౔==>3157 ౕ==>3158 ౖ==>3159 ౗==>3160 ౘ==>3161 ౙ==>3162 ౚ==>3163 ౛==>3164 ౜==>3165 ౝ==>3166 ౞==>3167 ౟==>3168 ౠ==>3169 ౡ==>3170 ౢ==>3171 ౣ==>3172 ౤==>3173 ౥==>3174 ౦==>3175 ౧==>3176 ౨==>3177 ౩==>"
     ]
    }
   ],
   "source": [
    "for i in range(3078,3178):\n",
    "    print(i,chr(i),end='==>')"
   ]
  },
  {
   "cell_type": "code",
   "execution_count": 4,
   "id": "4785b7ff-d93e-41ea-9828-d5817903c57c",
   "metadata": {},
   "outputs": [],
   "source": [
    "import random"
   ]
  },
  {
   "cell_type": "code",
   "execution_count": 6,
   "id": "e7e912fa-4098-400e-8f2d-8d0316b24184",
   "metadata": {},
   "outputs": [
    {
     "data": {
      "text/plain": [
       "['BPF',\n",
       " 'LOG4',\n",
       " 'NV_MAGICCONST',\n",
       " 'RECIP_BPF',\n",
       " 'Random',\n",
       " 'SG_MAGICCONST',\n",
       " 'SystemRandom',\n",
       " 'TWOPI',\n",
       " '_ONE',\n",
       " '_Sequence',\n",
       " '_Set',\n",
       " '__all__',\n",
       " '__builtins__',\n",
       " '__cached__',\n",
       " '__doc__',\n",
       " '__file__',\n",
       " '__loader__',\n",
       " '__name__',\n",
       " '__package__',\n",
       " '__spec__',\n",
       " '_accumulate',\n",
       " '_acos',\n",
       " '_bisect',\n",
       " '_ceil',\n",
       " '_cos',\n",
       " '_e',\n",
       " '_exp',\n",
       " '_floor',\n",
       " '_index',\n",
       " '_inst',\n",
       " '_isfinite',\n",
       " '_log',\n",
       " '_os',\n",
       " '_pi',\n",
       " '_random',\n",
       " '_repeat',\n",
       " '_sha512',\n",
       " '_sin',\n",
       " '_sqrt',\n",
       " '_test',\n",
       " '_test_generator',\n",
       " '_urandom',\n",
       " '_warn',\n",
       " 'betavariate',\n",
       " 'choice',\n",
       " 'choices',\n",
       " 'expovariate',\n",
       " 'gammavariate',\n",
       " 'gauss',\n",
       " 'getrandbits',\n",
       " 'getstate',\n",
       " 'lognormvariate',\n",
       " 'normalvariate',\n",
       " 'paretovariate',\n",
       " 'randbytes',\n",
       " 'randint',\n",
       " 'random',\n",
       " 'randrange',\n",
       " 'sample',\n",
       " 'seed',\n",
       " 'setstate',\n",
       " 'shuffle',\n",
       " 'triangular',\n",
       " 'uniform',\n",
       " 'vonmisesvariate',\n",
       " 'weibullvariate']"
      ]
     },
     "execution_count": 6,
     "metadata": {},
     "output_type": "execute_result"
    }
   ],
   "source": [
    "dir (random)"
   ]
  },
  {
   "cell_type": "code",
   "execution_count": null,
   "id": "3a8d1a77-3353-4884-8ee0-f79f05f7df0c",
   "metadata": {},
   "outputs": [],
   "source": [
    "randrange."
   ]
  }
 ],
 "metadata": {
  "kernelspec": {
   "display_name": "Python 3 (ipykernel)",
   "language": "python",
   "name": "python3"
  },
  "language_info": {
   "codemirror_mode": {
    "name": "ipython",
    "version": 3
   },
   "file_extension": ".py",
   "mimetype": "text/x-python",
   "name": "python",
   "nbconvert_exporter": "python",
   "pygments_lexer": "ipython3",
   "version": "3.11.7"
  }
 },
 "nbformat": 4,
 "nbformat_minor": 5
}
