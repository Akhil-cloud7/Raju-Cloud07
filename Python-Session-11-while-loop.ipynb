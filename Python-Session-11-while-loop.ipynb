{
 "cells": [
  {
   "cell_type": "markdown",
   "id": "a675bc7e-c206-4d3c-943d-1a42c90d4307",
   "metadata": {},
   "source": [
    "**Loops**\n",
    "\n",
    "- for loop\n",
    "\n",
    "- while loop:if you want to run at an infinite iterations will choose while loop\n",
    "\n",
    "- Every time we need three things\n",
    "   \n",
    "  - Intial point (starting point)\n",
    "\n",
    "  - Increment or Decrement\n",
    "\n",
    "  - condition (stop point)"
   ]
  },
  {
   "cell_type": "markdown",
   "id": "19bbb48c-a203-492a-8954-4ed88cc3bd54",
   "metadata": {},
   "source": [
    "- In for loop  all three things mentioned in a single line:range(start,stop,step)\n",
    "\n",
    "- In while loop we will use these three things, in as a three lines"
   ]
  },
  {
   "cell_type": "code",
   "execution_count": null,
   "id": "8ea3b691-2238-47df-a630-8b691b2ba99d",
   "metadata": {},
   "outputs": [],
   "source": [
    "<start point>\n",
    "while <how to stop>:\n",
    "      code line1\n",
    "      code line2\n",
    "      <Increment or decrement>"
   ]
  },
  {
   "cell_type": "code",
   "execution_count": null,
   "id": "d77ab455-e3ca-4329-8d34-314144149b7a",
   "metadata": {},
   "outputs": [],
   "source": [
    " i=1                                    \n",
    "while i<2:                   #step1: i=1  while   i<2   true  print(1) i=1+1  i=2\n",
    "   print(i)                  #step2: i=2\n",
    "   i=i+1"
   ]
  },
  {
   "cell_type": "code",
   "execution_count": null,
   "id": "c818cce6-3d6b-40d9-8daa-20f61f40e6fc",
   "metadata": {},
   "outputs": [],
   "source": [
    "i=3                                #infinite loop\n",
    "while i<12:\n",
    "   print(i,end=' ')\n",
    "   i=i-1\n",
    "   if i==-10:\n",
    "        break"
   ]
  },
  {
   "cell_type": "code",
   "execution_count": 1,
   "id": "6509ca1a-6960-4a3d-8bfc-9c0c456d9774",
   "metadata": {},
   "outputs": [
    {
     "name": "stdout",
     "output_type": "stream",
     "text": [
      "20 19 18 17 16 15 14 13 12 11 10 9 8 7 6 5 4 3 2 1 "
     ]
    }
   ],
   "source": [
    "i=20\n",
    "while i>0:                        \n",
    "    print(i,end=' ')\n",
    "    i=i-1"
   ]
  },
  {
   "cell_type": "code",
   "execution_count": 8,
   "id": "e6e7a854-8f38-471a-b0c8-b3c3becdb4a6",
   "metadata": {},
   "outputs": [],
   "source": [
    "i=20\n",
    "while i<0:\n",
    "    print(i,end=' ')\n",
    "    i=i+1\n",
    "    \n",
    "     "
   ]
  },
  {
   "cell_type": "markdown",
   "id": "cee3abcf-a995-462d-93da-6cbdb1c993b9",
   "metadata": {},
   "source": [
    "**True**\n",
    "\n",
    "- If you want know about valid condition enter inside while loop\n",
    "\n",
    "- then use **True**\n",
    "\n",
    "- TRUE will give entry pass "
   ]
  },
  {
   "cell_type": "code",
   "execution_count": null,
   "id": "6df99a84-a28d-4965-a6a5-a401a27a45a6",
   "metadata": {},
   "outputs": [],
   "source": [
    "#step1:  i=1   while 1<11 \n"
   ]
  },
  {
   "cell_type": "code",
   "execution_count": 1,
   "id": "0bdbb53d-08fa-48bc-b840-d528ec285fc3",
   "metadata": {},
   "outputs": [
    {
     "name": "stdout",
     "output_type": "stream",
     "text": [
      "20 19 18 17 16 15 14 13 12 11 10 9 8 7 6 5 4 3 2 1 "
     ]
    }
   ],
   "source": [
    "i=20\n",
    "while True:                        \n",
    "    print(i,end=' ')\n",
    "    i=i-1\n",
    "    if i==0:\n",
    "     break\n"
   ]
  },
  {
   "cell_type": "code",
   "execution_count": 2,
   "id": "f4721b44-7180-4620-abb0-3de16509d765",
   "metadata": {},
   "outputs": [
    {
     "name": "stdout",
     "output_type": "stream",
     "text": [
      "-20 -19 -18 -17 -16 -15 -14 -13 -12 -11 -10 -9 -8 -7 -6 -5 -4 -3 -2 -1 0 "
     ]
    }
   ],
   "source": [
    "i=-20\n",
    "while i<1:\n",
    "    print(i,end=' ')\n",
    "    i=i+1"
   ]
  },
  {
   "cell_type": "code",
   "execution_count": 6,
   "id": "2a4f7243-2b08-42dc-9092-ec485203a4ed",
   "metadata": {},
   "outputs": [
    {
     "name": "stdout",
     "output_type": "stream",
     "text": [
      "-19  -18  -17  -16  -15  -14  -13  -12  -11  -10  -9  -8  -7  -6  -5  -4  -3  -2  -1  0  1  "
     ]
    }
   ],
   "source": [
    "i=-20\n",
    "while i<1:\n",
    "     i=i+1\n",
    "     print(i,end='  ')\n"
   ]
  },
  {
   "cell_type": "code",
   "execution_count": 9,
   "id": "2b4011f9-f52e-4cce-98ff-f6dcc5d14859",
   "metadata": {},
   "outputs": [
    {
     "name": "stdout",
     "output_type": "stream",
     "text": [
      "number is even 58\n",
      "number is odd 58\n",
      "number is even 58\n"
     ]
    }
   ],
   "source": [
    "import random\n",
    "num=random.randint(1,100)\n",
    "for i in range(3):\n",
    "    if i%2==0:\n",
    "     print(f\"number is even {num}\")\n",
    "    else:\n",
    "        print(f\"number is odd {num}\")"
   ]
  },
  {
   "cell_type": "code",
   "execution_count": 11,
   "id": "421ff03b-80aa-4af5-8f81-6d3a685ad8f3",
   "metadata": {},
   "outputs": [
    {
     "name": "stdout",
     "output_type": "stream",
     "text": [
      "number is even 0\n",
      "number is odd 1\n",
      "number is even 2\n"
     ]
    }
   ],
   "source": [
    "i=0\n",
    "while i<3:\n",
    "    num=i\n",
    "    if i%2==0:\n",
    "     print(f\"number is even {num}\")\n",
    "    else:\n",
    "        print(f\"number is odd {num}\")\n",
    "    i=i+1"
   ]
  },
  {
   "cell_type": "code",
   "execution_count": 13,
   "id": "9f49d9a0-056f-4367-ac04-28387dc08959",
   "metadata": {},
   "outputs": [
    {
     "name": "stdout",
     "output_type": "stream",
     "text": [
      "the number is even\n",
      "the number is odd\n"
     ]
    }
   ],
   "source": [
    "i=0\n",
    "while i<2:\n",
    "    num=random.randint(10,20)\n",
    "    if num%2==0:\n",
    "        print(\"the number is even\")\n",
    "    else:\n",
    "        print(\"the number is odd\")\n",
    "    i=i+1"
   ]
  },
  {
   "cell_type": "code",
   "execution_count": 14,
   "id": "68e7277b-fb55-4776-9bf2-00eadb37f53a",
   "metadata": {},
   "outputs": [
    {
     "name": "stdout",
     "output_type": "stream",
     "text": [
      "the square of the number is 576\n",
      "the square of the number is 625\n"
     ]
    }
   ],
   "source": [
    "i=0\n",
    "while i<2:\n",
    "    num=random.randint(20,25)\n",
    "    int=num*num\n",
    "    print(f\"the square of the number is {int}\")\n",
    "    i=i+1"
   ]
  },
  {
   "cell_type": "code",
   "execution_count": 15,
   "id": "91048fa8-6f3d-4544-ae3f-52af14a4b511",
   "metadata": {},
   "outputs": [
    {
     "name": "stdin",
     "output_type": "stream",
     "text": [
      "Enter a number:  23\n"
     ]
    },
    {
     "name": "stdout",
     "output_type": "stream",
     "text": [
      "The square of 23 is 529\n"
     ]
    },
    {
     "name": "stdin",
     "output_type": "stream",
     "text": [
      "Enter a number:  26\n"
     ]
    },
    {
     "name": "stdout",
     "output_type": "stream",
     "text": [
      "The square of 26 is 676\n"
     ]
    },
    {
     "name": "stdin",
     "output_type": "stream",
     "text": [
      "Enter a number:  67\n"
     ]
    },
    {
     "name": "stdout",
     "output_type": "stream",
     "text": [
      "The square of 67 is 4489\n"
     ]
    }
   ],
   "source": [
    "i=0\n",
    "while i<3:\n",
    "    num = eval(input(\"Enter a number: \"))\n",
    "    square = num ** 2\n",
    "    print(f\"The square of {num} is {square}\")\n",
    "    i=i+1"
   ]
  },
  {
   "cell_type": "code",
   "execution_count": 19,
   "id": "937af70c-c6d6-4b92-8728-5574d616f957",
   "metadata": {},
   "outputs": [
    {
     "name": "stdout",
     "output_type": "stream",
     "text": [
      "19 * 0 =0\n",
      "19 * 1 =19\n",
      "19 * 2 =38\n",
      "19 * 3 =57\n",
      "19 * 4 =76\n",
      "19 * 5 =95\n",
      "19 * 6 =114\n",
      "19 * 7 =133\n",
      "19 * 8 =152\n",
      "19 * 9 =171\n",
      "19 * 10 =190\n"
     ]
    }
   ],
   "source": [
    "i=0\n",
    "while i<11:\n",
    "    num=19\n",
    "    val=i*num\n",
    "    print(f\"{num} * {i} ={val}\")\n",
    "    i=i+1"
   ]
  },
  {
   "cell_type": "code",
   "execution_count": 3,
   "id": "c4878a06-17d1-4846-80f1-a8f4f4bf52a2",
   "metadata": {},
   "outputs": [
    {
     "name": "stdin",
     "output_type": "stream",
     "text": [
      "enter the number 45\n"
     ]
    },
    {
     "name": "stdout",
     "output_type": "stream",
     "text": [
      "1 is the divisor of 45\n",
      "3 is the divisor of 45\n",
      "5 is the divisor of 45\n",
      "9 is the divisor of 45\n",
      "15 is the divisor of 45\n",
      "45 is the divisor of 45\n"
     ]
    }
   ],
   "source": [
    "i=1\n",
    "num=eval(input(\"enter the number\"))\n",
    "while i<num+1:\n",
    "    if num%i==0:\n",
    "      print(f\"{i} is the divisor of {num}\")\n",
    "    i=i+1"
   ]
  },
  {
   "cell_type": "code",
   "execution_count": null,
   "id": "2520745c-0fbe-4d06-9e99-17fa88135ea8",
   "metadata": {},
   "outputs": [],
   "source": []
  }
 ],
 "metadata": {
  "kernelspec": {
   "display_name": "Python 3 (ipykernel)",
   "language": "python",
   "name": "python3"
  },
  "language_info": {
   "codemirror_mode": {
    "name": "ipython",
    "version": 3
   },
   "file_extension": ".py",
   "mimetype": "text/x-python",
   "name": "python",
   "nbconvert_exporter": "python",
   "pygments_lexer": "ipython3",
   "version": "3.11.7"
  }
 },
 "nbformat": 4,
 "nbformat_minor": 5
}
