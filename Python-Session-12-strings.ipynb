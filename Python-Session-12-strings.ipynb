{
 "cells": [
  {
   "cell_type": "markdown",
   "id": "7d8ab41d-42d5-4d17-b3bd-7cbabc5ae38c",
   "metadata": {},
   "source": [
    "#=============================\n",
    "- Intialisation\n",
    "\n",
    "- type \n",
    "\n",
    "- len\n",
    "\n",
    "- max\n",
    "\n",
    "- min\n",
    "\n",
    "- sorted\n",
    "\n",
    "- reversed\n",
    "\n",
    "- in \n",
    "\n",
    "- for loop\n",
    "\n",
    "- index\n",
    "\n",
    "- for loop\n",
    "\n",
    "- for loop using index\n",
    "\n",
    "- mutuable\n",
    "\n",
    "- concatination\n",
    "\n",
    "#======================part2============"
   ]
  },
  {
   "cell_type": "markdown",
   "id": "d3476aae-3e07-4208-85ec-3919d5de9fdd",
   "metadata": {},
   "source": [
    "**Intialisation**"
   ]
  },
  {
   "cell_type": "code",
   "execution_count": 1,
   "id": "768e8b46-5611-4ff9-b0e2-75e4962011a5",
   "metadata": {},
   "outputs": [
    {
     "data": {
      "text/plain": [
       "'python'"
      ]
     },
     "execution_count": 1,
     "metadata": {},
     "output_type": "execute_result"
    }
   ],
   "source": [
    "str1='python'\n",
    "str1"
   ]
  },
  {
   "cell_type": "code",
   "execution_count": 2,
   "id": "1cd4d13c-227c-4e7d-b6b3-5e260fd4f9e5",
   "metadata": {},
   "outputs": [
    {
     "data": {
      "text/plain": [
       "'python'"
      ]
     },
     "execution_count": 2,
     "metadata": {},
     "output_type": "execute_result"
    }
   ],
   "source": [
    "str2='python'\n",
    "str2"
   ]
  },
  {
   "cell_type": "code",
   "execution_count": 5,
   "id": "b58b86e3-b289-4530-a5a3-8cda672330ea",
   "metadata": {},
   "outputs": [
    {
     "name": "stdout",
     "output_type": "stream",
     "text": [
      "python\n"
     ]
    }
   ],
   "source": [
    "print(str1) #Do not confuse Im not seeing the quotes"
   ]
  },
  {
   "cell_type": "markdown",
   "id": "57cfce5c-7ee0-4daa-af6b-42c1a7411630",
   "metadata": {},
   "source": [
    "**Note**\n",
    "\n",
    "- If we mentioned single quotes or double quotes by default python provides in single quotes only\n",
    "\n",
    "- If we print the strings,we will answer with out quotes\n",
    "\n",
    "- Triple quotes are using for doc string\n",
    "\n",
    "- In order to convey the information about coding part we will use doc string\n",
    "\n",
    "- Anything inside the single quote or double quote is considered as string in python "
   ]
  },
  {
   "cell_type": "markdown",
   "id": "ecb74cc7-cdc5-4baf-b0a5-217273d080d5",
   "metadata": {},
   "source": [
    "**Triple quotes**"
   ]
  },
  {
   "cell_type": "code",
   "execution_count": 2,
   "id": "46ce3017-6156-419f-b19d-23f708a8a80f",
   "metadata": {},
   "outputs": [
    {
     "data": {
      "text/plain": [
       "'hi how are you\\n          im good '"
      ]
     },
     "execution_count": 2,
     "metadata": {},
     "output_type": "execute_result"
    }
   ],
   "source": [
    "str3 =\"\"\"hi how are you\n",
    "          im good \"\"\"\n",
    "str3"
   ]
  },
  {
   "cell_type": "markdown",
   "id": "2808ae1d-e97c-4d83-81ea-f3485c22571a",
   "metadata": {},
   "source": [
    "**Type**\n",
    "\n"
   ]
  },
  {
   "cell_type": "code",
   "execution_count": 7,
   "id": "b8df5461-d75a-4071-9488-c889af0c7911",
   "metadata": {},
   "outputs": [
    {
     "data": {
      "text/plain": [
       "str"
      ]
     },
     "execution_count": 7,
     "metadata": {},
     "output_type": "execute_result"
    }
   ],
   "source": [
    "type(str1) #type is string time"
   ]
  },
  {
   "cell_type": "code",
   "execution_count": 8,
   "id": "f3736476-b0b4-4630-8d89-a0d4f813406f",
   "metadata": {},
   "outputs": [],
   "source": [
    "str4='10'\n",
    "str5='10.5'\n",
    "str6='123abc'\n",
    "str7='sinx'"
   ]
  },
  {
   "cell_type": "markdown",
   "id": "4e011222-8088-4e9f-9590-b05ad14c9b55",
   "metadata": {},
   "source": [
    "**len**"
   ]
  },
  {
   "cell_type": "code",
   "execution_count": 9,
   "id": "0ab64411-3de0-49d4-bedd-dae6a014adac",
   "metadata": {},
   "outputs": [
    {
     "data": {
      "text/plain": [
       "6"
      ]
     },
     "execution_count": 9,
     "metadata": {},
     "output_type": "execute_result"
    }
   ],
   "source": [
    "str1='python'\n",
    "len(str1)"
   ]
  },
  {
   "cell_type": "code",
   "execution_count": 10,
   "id": "41c3151f-cd2f-4fe6-8088-d25f572ad5be",
   "metadata": {},
   "outputs": [
    {
     "data": {
      "text/plain": [
       "5"
      ]
     },
     "execution_count": 10,
     "metadata": {},
     "output_type": "execute_result"
    }
   ],
   "source": [
    "str2='Akhil'\n",
    "len(str2)"
   ]
  },
  {
   "cell_type": "markdown",
   "id": "f1c0859f-9cd7-4e14-bd93-bc4f8c9cff7a",
   "metadata": {},
   "source": [
    "**max**"
   ]
  },
  {
   "cell_type": "code",
   "execution_count": 11,
   "id": "dc92f9b1-e285-436b-8110-2559619e594a",
   "metadata": {},
   "outputs": [
    {
     "data": {
      "text/plain": [
       "'l'"
      ]
     },
     "execution_count": 11,
     "metadata": {},
     "output_type": "execute_result"
    }
   ],
   "source": [
    "str1='Akhil'\n",
    "max(str1)"
   ]
  },
  {
   "cell_type": "code",
   "execution_count": 12,
   "id": "15df64a7-1fef-4189-9483-483d41448079",
   "metadata": {},
   "outputs": [
    {
     "data": {
      "text/plain": [
       "'t'"
      ]
     },
     "execution_count": 12,
     "metadata": {},
     "output_type": "execute_result"
    }
   ],
   "source": [
    "str3='Naresh it'\n",
    "max(str3)"
   ]
  },
  {
   "cell_type": "code",
   "execution_count": 17,
   "id": "31f2de38-0a44-4992-8af1-d433c84995bd",
   "metadata": {},
   "outputs": [
    {
     "data": {
      "text/plain": [
       "'y'"
      ]
     },
     "execution_count": 17,
     "metadata": {},
     "output_type": "execute_result"
    }
   ],
   "source": [
    "str5='python'\n",
    "max(str5)"
   ]
  },
  {
   "cell_type": "code",
   "execution_count": 19,
   "id": "646dc017-c510-463a-8a2f-598c66d03775",
   "metadata": {},
   "outputs": [
    {
     "data": {
      "text/plain": [
       "(112, 121, 116, 104, 111, 110)"
      ]
     },
     "execution_count": 19,
     "metadata": {},
     "output_type": "execute_result"
    }
   ],
   "source": [
    "ord('p'),ord('y'),ord('t'),ord('h'),ord('o'),ord('n')"
   ]
  },
  {
   "cell_type": "markdown",
   "id": "f4aa97b4-bab0-4499-8311-63411ab5589e",
   "metadata": {},
   "source": [
    "**min**"
   ]
  },
  {
   "cell_type": "code",
   "execution_count": 13,
   "id": "982ab55a-55d0-4190-b336-70cd8bd4bd43",
   "metadata": {},
   "outputs": [
    {
     "data": {
      "text/plain": [
       "'h'"
      ]
     },
     "execution_count": 13,
     "metadata": {},
     "output_type": "execute_result"
    }
   ],
   "source": [
    "str2='python'\n",
    "min(str2)"
   ]
  },
  {
   "cell_type": "code",
   "execution_count": 15,
   "id": "6fc27453-72ce-4956-89dc-77fca5a08018",
   "metadata": {},
   "outputs": [
    {
     "data": {
      "text/plain": [
       "'N'"
      ]
     },
     "execution_count": 15,
     "metadata": {},
     "output_type": "execute_result"
    }
   ],
   "source": [
    "str4=\"Nareshit\"\n",
    "min(str4)"
   ]
  },
  {
   "cell_type": "markdown",
   "id": "a7a19a33-b273-46f0-820a-4da97e4826ab",
   "metadata": {},
   "source": [
    "**keywords vs methods**"
   ]
  },
  {
   "cell_type": "code",
   "execution_count": null,
   "id": "eda36950-8952-4bf8-9032-ebe9a5f2228a",
   "metadata": {},
   "outputs": [],
   "source": [
    "type(<>)\n",
    "print(<>)\n",
    "len(<>)\n",
    "max(<>)\n",
    "min(<>)\n",
    "eval(<>)\n",
    "input(<>)"
   ]
  },
  {
   "cell_type": "markdown",
   "id": "6e3e94e4-976b-4ab4-9c1c-6d42e21bfd49",
   "metadata": {},
   "source": [
    "- In order to use method we need to call package\n",
    "\n",
    "import random\n",
    "random.randint()\n",
    "\n",
    "import math\n",
    "math.sqrt()\n",
    "\n",
    "import time\n",
    "time.sleep()"
   ]
  },
  {
   "cell_type": "code",
   "execution_count": null,
   "id": "8d26332d-11de-447d-8de8-cf346957dcf4",
   "metadata": {},
   "outputs": [],
   "source": [
    "str1='python123'\n",
    "max(str1)"
   ]
  },
  {
   "cell_type": "markdown",
   "id": "99229fcb-b949-46f3-9276-de93d1a03b0b",
   "metadata": {},
   "source": [
    "**Sum**\n"
   ]
  },
  {
   "cell_type": "code",
   "execution_count": 22,
   "id": "40b81f4b-9951-4a24-babc-1e1f771e2be3",
   "metadata": {},
   "outputs": [
    {
     "ename": "TypeError",
     "evalue": "unsupported operand type(s) for +: 'int' and 'str'",
     "output_type": "error",
     "traceback": [
      "\u001b[1;31m---------------------------------------------------------------------------\u001b[0m",
      "\u001b[1;31mTypeError\u001b[0m                                 Traceback (most recent call last)",
      "Cell \u001b[1;32mIn[22], line 2\u001b[0m\n\u001b[0;32m      1\u001b[0m str1\u001b[38;5;241m=\u001b[39m\u001b[38;5;124m'\u001b[39m\u001b[38;5;124mpython\u001b[39m\u001b[38;5;124m'\u001b[39m\u001b[38;5;241m+\u001b[39m\u001b[38;5;124m'\u001b[39m\u001b[38;5;124msum\u001b[39m\u001b[38;5;124m'\u001b[39m\n\u001b[1;32m----> 2\u001b[0m \u001b[38;5;28msum\u001b[39m(str1)\n",
      "\u001b[1;31mTypeError\u001b[0m: unsupported operand type(s) for +: 'int' and 'str'"
     ]
    }
   ],
   "source": [
    "str1='python'+'sum'\n",
    "sum(str1)"
   ]
  },
  {
   "cell_type": "code",
   "execution_count": 23,
   "id": "756809f6-e5d4-4eef-94ef-b5bd14c6d988",
   "metadata": {},
   "outputs": [
    {
     "data": {
      "text/plain": [
       "6"
      ]
     },
     "execution_count": 23,
     "metadata": {},
     "output_type": "execute_result"
    }
   ],
   "source": [
    "sum([1,2,3])"
   ]
  },
  {
   "cell_type": "markdown",
   "id": "e31297e9-e8d2-4285-b6aa-9a5f34829451",
   "metadata": {},
   "source": [
    "**Sorted**"
   ]
  },
  {
   "cell_type": "code",
   "execution_count": 25,
   "id": "9a12577e-fe47-432b-991d-8dfd8a6ee309",
   "metadata": {},
   "outputs": [
    {
     "data": {
      "text/plain": [
       "['h', 'n', 'o', 'p', 't', 'y']"
      ]
     },
     "execution_count": 25,
     "metadata": {},
     "output_type": "execute_result"
    }
   ],
   "source": [
    "str1='python'\n",
    "sorted(str1)\n"
   ]
  },
  {
   "cell_type": "markdown",
   "id": "5f91dd0d-f8e9-4d20-a4e2-e40cf436eb79",
   "metadata": {},
   "source": [
    "- sorted gives ascending order based on ASCII values\n",
    "\n",
    "- sorted is kind of a function\n",
    "\n",
    "- Every function we have arguments\n",
    "\n",
    "- In thatone default argument is **reverse=False**\n",
    "\n",
    "- By default sorted output gives **ascending order**\n",
    "\n",
    "- we can change the order by providing **reverse=True**\n"
   ]
  },
  {
   "cell_type": "code",
   "execution_count": 35,
   "id": "61542108-a167-44b2-8372-180236f0a5f4",
   "metadata": {},
   "outputs": [
    {
     "data": {
      "text/plain": [
       "['y', 't', 'p', 'o', 'n', 'h']"
      ]
     },
     "execution_count": 35,
     "metadata": {},
     "output_type": "execute_result"
    }
   ],
   "source": [
    "sorted('python',reverse=True)"
   ]
  },
  {
   "cell_type": "code",
   "execution_count": 31,
   "id": "da34ca66-c096-4640-b582-4bd361d90a39",
   "metadata": {},
   "outputs": [
    {
     "data": {
      "text/plain": [
       "0j"
      ]
     },
     "execution_count": 31,
     "metadata": {},
     "output_type": "execute_result"
    }
   ],
   "source": [
    "complex()"
   ]
  },
  {
   "cell_type": "code",
   "execution_count": 32,
   "id": "c693f2bb-7982-4be2-a876-dce796ce354f",
   "metadata": {},
   "outputs": [
    {
     "data": {
      "text/plain": [
       "(10+20j)"
      ]
     },
     "execution_count": 32,
     "metadata": {},
     "output_type": "execute_result"
    }
   ],
   "source": [
    "complex(10,20)"
   ]
  },
  {
   "cell_type": "code",
   "execution_count": 34,
   "id": "99946d9c-4d24-406c-8eed-9f5322937903",
   "metadata": {},
   "outputs": [
    {
     "data": {
      "text/plain": [
       "(10+30j)"
      ]
     },
     "execution_count": 34,
     "metadata": {},
     "output_type": "execute_result"
    }
   ],
   "source": [
    "complex(real=10,imag=30)"
   ]
  },
  {
   "cell_type": "code",
   "execution_count": 36,
   "id": "a0edf6ff-04ac-4986-a846-d379f53506ef",
   "metadata": {},
   "outputs": [
    {
     "ename": "TypeError",
     "evalue": "Random.randint() missing 2 required positional arguments: 'a' and 'b'",
     "output_type": "error",
     "traceback": [
      "\u001b[1;31m---------------------------------------------------------------------------\u001b[0m",
      "\u001b[1;31mTypeError\u001b[0m                                 Traceback (most recent call last)",
      "Cell \u001b[1;32mIn[36], line 2\u001b[0m\n\u001b[0;32m      1\u001b[0m \u001b[38;5;28;01mimport\u001b[39;00m \u001b[38;5;21;01mrandom\u001b[39;00m\n\u001b[1;32m----> 2\u001b[0m random\u001b[38;5;241m.\u001b[39mrandint()\n",
      "\u001b[1;31mTypeError\u001b[0m: Random.randint() missing 2 required positional arguments: 'a' and 'b'"
     ]
    }
   ],
   "source": [
    "import random\n",
    "random.randint()"
   ]
  },
  {
   "cell_type": "code",
   "execution_count": null,
   "id": "e354f02f-8b02-4d7e-ad58-2350b9e2a812",
   "metadata": {},
   "outputs": [],
   "source": [
    "function() #Answer\n",
    "function(a,b)## this might not be return,if we dont give the values \n",
    "function(a=10,b=20)#ans"
   ]
  },
  {
   "cell_type": "code",
   "execution_count": 41,
   "id": "d64b8231-525e-441f-aeb6-08e14c637358",
   "metadata": {},
   "outputs": [
    {
     "data": {
      "text/plain": [
       "0.6389220625098957"
      ]
     },
     "execution_count": 41,
     "metadata": {},
     "output_type": "execute_result"
    }
   ],
   "source": [
    "import random\n",
    "random.random()"
   ]
  },
  {
   "cell_type": "code",
   "execution_count": 46,
   "id": "fb5e981d-ee55-4aca-bf41-9b211010eec0",
   "metadata": {},
   "outputs": [
    {
     "data": {
      "text/plain": [
       "18"
      ]
     },
     "execution_count": 46,
     "metadata": {},
     "output_type": "execute_result"
    }
   ],
   "source": [
    "import random\n",
    "random.randint(10,20) #answer we can change"
   ]
  },
  {
   "cell_type": "code",
   "execution_count": 43,
   "id": "412a85c9-545b-4201-a432-f026b174e22a",
   "metadata": {},
   "outputs": [
    {
     "data": {
      "text/plain": [
       "(10+20j)"
      ]
     },
     "execution_count": 43,
     "metadata": {},
     "output_type": "execute_result"
    }
   ],
   "source": [
    "complex(10,20)"
   ]
  },
  {
   "cell_type": "code",
   "execution_count": 45,
   "id": "0c9df27b-ddcc-4452-aa28-4b2ce822cced",
   "metadata": {},
   "outputs": [
    {
     "data": {
      "text/plain": [
       "0j"
      ]
     },
     "execution_count": 45,
     "metadata": {},
     "output_type": "execute_result"
    }
   ],
   "source": [
    "complex()  #By default 0,0"
   ]
  },
  {
   "cell_type": "code",
   "execution_count": 48,
   "id": "0bd4ccde-53e6-4d24-a8f3-938ed81acf73",
   "metadata": {},
   "outputs": [
    {
     "ename": "TypeError",
     "evalue": "sorted expected 1 argument, got 0",
     "output_type": "error",
     "traceback": [
      "\u001b[1;31m---------------------------------------------------------------------------\u001b[0m",
      "\u001b[1;31mTypeError\u001b[0m                                 Traceback (most recent call last)",
      "Cell \u001b[1;32mIn[48], line 1\u001b[0m\n\u001b[1;32m----> 1\u001b[0m \u001b[38;5;28msorted\u001b[39m(iterable\u001b[38;5;241m=\u001b[39m\u001b[38;5;124m'\u001b[39m\u001b[38;5;124mpython\u001b[39m\u001b[38;5;124m'\u001b[39m)\n\u001b[0;32m      2\u001b[0m random\u001b[38;5;241m.\u001b[39mrandint(a\u001b[38;5;241m=\u001b[39m\u001b[38;5;241m10\u001b[39m,b\u001b[38;5;241m=\u001b[39m\u001b[38;5;241m20\u001b[39m)\n",
      "\u001b[1;31mTypeError\u001b[0m: sorted expected 1 argument, got 0"
     ]
    }
   ],
   "source": [
    "sorted(iterable='python')\n",
    "random.randint(a=10,b=20)"
   ]
  },
  {
   "cell_type": "markdown",
   "id": "ac7a691a-e084-4218-984b-8f7f0b69100f",
   "metadata": {},
   "source": [
    "**Note**\n",
    "\n",
    "- we have argumets before / and after slash\n",
    "\n",
    "- we can use the argument names after / only\n",
    "\n",
    "- for example sorted has two arguments one is iterable and another one is reverse\n",
    "\n",
    "- iterable is mentioned before / symbol\n",
    "\n",
    "- reverse mentioned after / symbol\n",
    "\n",
    "- so we can use only reverse argument name while we are doing work\n",
    "\n",
    "- we can not use iterable arguments name\n"
   ]
  },
  {
   "cell_type": "markdown",
   "id": "5d03aef9-d3c3-4933-85b1-a99ff1f941ed",
   "metadata": {},
   "source": [
    "**Reversed**"
   ]
  },
  {
   "cell_type": "code",
   "execution_count": 49,
   "id": "3d4b41c8-7418-4b5e-8389-0d94d9c40add",
   "metadata": {},
   "outputs": [
    {
     "data": {
      "text/plain": [
       "<reversed at 0x1b49272f550>"
      ]
     },
     "execution_count": 49,
     "metadata": {},
     "output_type": "execute_result"
    }
   ],
   "source": [
    "reversed('python')"
   ]
  },
  {
   "cell_type": "markdown",
   "id": "dc9e2163-c485-486a-a963-dbb0693d8aae",
   "metadata": {},
   "source": [
    "- I already done my work\n",
    "\n",
    "- your output is sorted in that memory location\n",
    "\n",
    "- whenever you see this kind of answer less than and greater than \n",
    "\n",
    "- use for loop see thye answer"
   ]
  },
  {
   "cell_type": "code",
   "execution_count": 50,
   "id": "98548a1b-0193-40b5-8584-760c80c5097d",
   "metadata": {},
   "outputs": [
    {
     "name": "stdout",
     "output_type": "stream",
     "text": [
      "n\n",
      "o\n",
      "h\n",
      "t\n",
      "y\n",
      "p\n"
     ]
    }
   ],
   "source": [
    "str1='python'\n",
    "output=reversed(str1)\n",
    "for i in output:\n",
    "    print(i)"
   ]
  },
  {
   "cell_type": "code",
   "execution_count": 7,
   "id": "8584b098-555a-4570-aacb-a86e53e94e98",
   "metadata": {},
   "outputs": [
    {
     "name": "stdout",
     "output_type": "stream",
     "text": [
      "l\n",
      "i\n",
      "h\n",
      "k\n",
      "a\n"
     ]
    }
   ],
   "source": [
    "str2='akhil'\n",
    "output=reversed(str2)\n",
    "for i in output: \n",
    "     print(i)"
   ]
  },
  {
   "cell_type": "code",
   "execution_count": 11,
   "id": "2c124aec-751a-4753-a73b-ae9f519f0ecb",
   "metadata": {},
   "outputs": [
    {
     "data": {
      "text/plain": [
       "['a', 'e', 'h', 'n', 'r', 's']"
      ]
     },
     "execution_count": 11,
     "metadata": {},
     "output_type": "execute_result"
    }
   ],
   "source": [
    "#sorted means ascending to descending order\n",
    "sorted('naresh')"
   ]
  },
  {
   "cell_type": "code",
   "execution_count": 13,
   "id": "0c250242-927c-4b48-afe2-149e54899132",
   "metadata": {},
   "outputs": [
    {
     "data": {
      "text/plain": [
       "['s', 'r', 'n', 'h', 'e', 'a']"
      ]
     },
     "execution_count": 13,
     "metadata": {},
     "output_type": "execute_result"
    }
   ],
   "source": [
    "sorted('naresh',reverse=True)\n"
   ]
  },
  {
   "cell_type": "code",
   "execution_count": 14,
   "id": "b23abcda-69f7-46da-b1e7-420e807c9bfe",
   "metadata": {},
   "outputs": [
    {
     "name": "stdout",
     "output_type": "stream",
     "text": [
      "h\n",
      "s\n",
      "e\n",
      "r\n",
      "a\n",
      "n\n"
     ]
    }
   ],
   "source": [
    "for i in reversed('naresh'):\n",
    "    print(i)"
   ]
  },
  {
   "cell_type": "code",
   "execution_count": 15,
   "id": "dae192b1-46ec-4886-8370-e218caa0dc5e",
   "metadata": {},
   "outputs": [
    {
     "data": {
      "text/plain": [
       "[1, 20, 30, 40]"
      ]
     },
     "execution_count": 15,
     "metadata": {},
     "output_type": "execute_result"
    }
   ],
   "source": [
    "sorted([1,20,30,40])"
   ]
  },
  {
   "cell_type": "code",
   "execution_count": 16,
   "id": "9c1dba51-4c95-4f62-9598-296bf0fdbdae",
   "metadata": {},
   "outputs": [
    {
     "data": {
      "text/plain": [
       "[40, 30, 20, 1]"
      ]
     },
     "execution_count": 16,
     "metadata": {},
     "output_type": "execute_result"
    }
   ],
   "source": [
    "sorted([1,20,30,40],reverse=True)"
   ]
  },
  {
   "cell_type": "markdown",
   "id": "0ce736b5-f94c-44a9-a359-39d0da45bcf8",
   "metadata": {},
   "source": [
    "**in**"
   ]
  },
  {
   "cell_type": "code",
   "execution_count": 19,
   "id": "7dc7c6bc-a296-4899-b56e-d8e5cc9ef5a4",
   "metadata": {},
   "outputs": [
    {
     "data": {
      "text/plain": [
       "True"
      ]
     },
     "execution_count": 19,
     "metadata": {},
     "output_type": "execute_result"
    }
   ],
   "source": [
    "str1='naresh'\n",
    "'n' in str1"
   ]
  },
  {
   "cell_type": "code",
   "execution_count": 20,
   "id": "26e8fdca-b2a3-4d3f-8020-157b82b14194",
   "metadata": {},
   "outputs": [
    {
     "data": {
      "text/plain": [
       "False"
      ]
     },
     "execution_count": 20,
     "metadata": {},
     "output_type": "execute_result"
    }
   ],
   "source": [
    "str1='naresh'\n",
    "'n' not in str1"
   ]
  },
  {
   "cell_type": "markdown",
   "id": "5436a7f0-0dee-4300-aa89-19174ac76504",
   "metadata": {},
   "source": [
    "**Note**\n",
    "\n",
    "- in operator directly access the letters"
   ]
  },
  {
   "cell_type": "code",
   "execution_count": 21,
   "id": "34173f49-b302-41b1-817e-b86266c69a44",
   "metadata": {},
   "outputs": [
    {
     "name": "stdout",
     "output_type": "stream",
     "text": [
      "n\n",
      "a\n",
      "r\n",
      "e\n",
      "s\n",
      "h\n"
     ]
    }
   ],
   "source": [
    "for i in str1:\n",
    "    print(i)\n",
    "          "
   ]
  },
  {
   "cell_type": "code",
   "execution_count": 27,
   "id": "3038e49a-734a-4664-a049-3550aa7e373e",
   "metadata": {},
   "outputs": [
    {
     "name": "stdout",
     "output_type": "stream",
     "text": [
      "3\n"
     ]
    }
   ],
   "source": [
    "#1q)\n",
    "#step1: count=0\n",
    "#step2: using for loop in operator \n",
    "str1='hai naresh how are you'\n",
    "count=0\n",
    "for i in str1:\n",
    "    if i=='a':\n",
    "        count=count+1\n",
    "print(count)\n",
    "    "
   ]
  },
  {
   "cell_type": "code",
   "execution_count": 33,
   "id": "0928371a-9c6a-4f12-97b1-c9b99492ec70",
   "metadata": {},
   "outputs": [
    {
     "name": "stdout",
     "output_type": "stream",
     "text": [
      "9\n"
     ]
    }
   ],
   "source": [
    "str1='hai naresh how are you'\n",
    "str2='aeiou'\n",
    "count=0\n",
    "for i in str1:\n",
    "    if i in str2:\n",
    "        count=count+1\n",
    "print(count)\n",
    "    "
   ]
  },
  {
   "cell_type": "code",
   "execution_count": 7,
   "id": "0e1f0de3-597b-49ba-9d6f-7cfb33f43632",
   "metadata": {},
   "outputs": [
    {
     "name": "stdout",
     "output_type": "stream",
     "text": [
      "5\n"
     ]
    }
   ],
   "source": [
    "#Q3)\n",
    "#str2='hai naresh how are you'\n",
    "# repeated vowels are there\n",
    "# \n",
    "\n",
    "str1='hai naresh how are you'\n",
    "str2=' '\n",
    "count=0\n",
    "for i in str1:\n",
    "    if i in 'aeiou':\n",
    "     if i not in str2:\n",
    "        str2=str2+i\n",
    "        count=count+1\n",
    "        \n",
    "print(count)\n",
    "\n",
    "\n",
    "\n",
    "#step1;  count=0\n",
    "#step2; take empty string ;s2=''\n",
    "#step3; use for loop through given string\n",
    "#step4: condition-1 the letter not avaliable ins2\n",
    "#step5: condition2:vowel check\n",
    "#step6: count=count+1\n",
    "#step7: updatethe s2= s2=s2+<letter>"
   ]
  },
  {
   "cell_type": "markdown",
   "id": "86318ca6-dc51-427d-8473-1bb8374798d6",
   "metadata": {},
   "source": [
    "**How to update the empty strings**"
   ]
  },
  {
   "cell_type": "code",
   "execution_count": 35,
   "id": "083992be-92a5-4544-a7c0-dc7014fba800",
   "metadata": {},
   "outputs": [
    {
     "data": {
      "text/plain": [
       "'python'"
      ]
     },
     "execution_count": 35,
     "metadata": {},
     "output_type": "execute_result"
    }
   ],
   "source": [
    "s1='python'\n",
    "s2=''\n",
    "\n",
    "for i in s1:\n",
    "    s2=s2+i   #concatenation\n",
    "s2"
   ]
  },
  {
   "cell_type": "markdown",
   "id": "4297bb71-bb29-4ea5-b5fb-8ea2024ffaf1",
   "metadata": {},
   "source": [
    "**concentation**"
   ]
  },
  {
   "cell_type": "code",
   "execution_count": 41,
   "id": "9defcbc9-8b09-453a-bf63-0970af3b1e73",
   "metadata": {},
   "outputs": [
    {
     "data": {
      "text/plain": [
       "'hellobye'"
      ]
     },
     "execution_count": 41,
     "metadata": {},
     "output_type": "execute_result"
    }
   ],
   "source": [
    "s1='hello'\n",
    "s2='bye'\n",
    "s1 + s2"
   ]
  },
  {
   "cell_type": "code",
   "execution_count": 42,
   "id": "db2deb51-81ab-421e-8341-83f25e7342b8",
   "metadata": {},
   "outputs": [
    {
     "data": {
      "text/plain": [
       "'hello bye'"
      ]
     },
     "execution_count": 42,
     "metadata": {},
     "output_type": "execute_result"
    }
   ],
   "source": [
    "s1='hello '\n",
    "s2='bye'\n",
    "s1 + s2"
   ]
  },
  {
   "cell_type": "code",
   "execution_count": 43,
   "id": "2977524c-f7d0-44c9-af55-0c4dc8bd2a37",
   "metadata": {},
   "outputs": [
    {
     "data": {
      "text/plain": [
       "'hello bye'"
      ]
     },
     "execution_count": 43,
     "metadata": {},
     "output_type": "execute_result"
    }
   ],
   "source": [
    "s1='hello'\n",
    "s2=' bye'\n",
    "s1 + s2"
   ]
  },
  {
   "cell_type": "code",
   "execution_count": 46,
   "id": "f99ff561-f779-45c1-a425-4d45ca309a9d",
   "metadata": {},
   "outputs": [
    {
     "data": {
      "text/plain": [
       "'hello bye'"
      ]
     },
     "execution_count": 46,
     "metadata": {},
     "output_type": "execute_result"
    }
   ],
   "source": [
    "s1='hello'\n",
    "s2=' '\n",
    "s3='bye'\n",
    "s1+s2+s3"
   ]
  },
  {
   "cell_type": "code",
   "execution_count": 47,
   "id": "5157be58-4add-4b31-bc81-407beb8741bf",
   "metadata": {},
   "outputs": [
    {
     "ename": "TypeError",
     "evalue": "can't multiply sequence by non-int of type 'str'",
     "output_type": "error",
     "traceback": [
      "\u001b[1;31m---------------------------------------------------------------------------\u001b[0m",
      "\u001b[1;31mTypeError\u001b[0m                                 Traceback (most recent call last)",
      "Cell \u001b[1;32mIn[47], line 3\u001b[0m\n\u001b[0;32m      1\u001b[0m s1\u001b[38;5;241m=\u001b[39m\u001b[38;5;124m'\u001b[39m\u001b[38;5;124mhello\u001b[39m\u001b[38;5;124m'\u001b[39m\n\u001b[0;32m      2\u001b[0m s2\u001b[38;5;241m=\u001b[39m\u001b[38;5;124m'\u001b[39m\u001b[38;5;124mbye\u001b[39m\u001b[38;5;124m'\u001b[39m\n\u001b[1;32m----> 3\u001b[0m s1\u001b[38;5;241m*\u001b[39ms2\n",
      "\u001b[1;31mTypeError\u001b[0m: can't multiply sequence by non-int of type 'str'"
     ]
    }
   ],
   "source": [
    "s1='hello'\n",
    "s2='bye'\n",
    "s1*s2"
   ]
  },
  {
   "cell_type": "code",
   "execution_count": 48,
   "id": "3fe25ea9-fba8-42e1-8e28-845e59886a5b",
   "metadata": {},
   "outputs": [
    {
     "ename": "TypeError",
     "evalue": "unsupported operand type(s) for /: 'str' and 'str'",
     "output_type": "error",
     "traceback": [
      "\u001b[1;31m---------------------------------------------------------------------------\u001b[0m",
      "\u001b[1;31mTypeError\u001b[0m                                 Traceback (most recent call last)",
      "Cell \u001b[1;32mIn[48], line 3\u001b[0m\n\u001b[0;32m      1\u001b[0m s1\u001b[38;5;241m=\u001b[39m\u001b[38;5;124m'\u001b[39m\u001b[38;5;124mhello\u001b[39m\u001b[38;5;124m'\u001b[39m\n\u001b[0;32m      2\u001b[0m s2\u001b[38;5;241m=\u001b[39m\u001b[38;5;124m'\u001b[39m\u001b[38;5;124mbye\u001b[39m\u001b[38;5;124m'\u001b[39m\n\u001b[1;32m----> 3\u001b[0m s1\u001b[38;5;241m/\u001b[39ms2\n",
      "\u001b[1;31mTypeError\u001b[0m: unsupported operand type(s) for /: 'str' and 'str'"
     ]
    }
   ],
   "source": [
    "s1='hello'\n",
    "s2='bye'\n",
    "s1/s2"
   ]
  },
  {
   "cell_type": "code",
   "execution_count": 49,
   "id": "70adf197-65a7-44d1-bf9c-0c0cd784aae1",
   "metadata": {},
   "outputs": [
    {
     "ename": "TypeError",
     "evalue": "unsupported operand type(s) for -: 'str' and 'str'",
     "output_type": "error",
     "traceback": [
      "\u001b[1;31m---------------------------------------------------------------------------\u001b[0m",
      "\u001b[1;31mTypeError\u001b[0m                                 Traceback (most recent call last)",
      "Cell \u001b[1;32mIn[49], line 3\u001b[0m\n\u001b[0;32m      1\u001b[0m s1\u001b[38;5;241m=\u001b[39m\u001b[38;5;124m'\u001b[39m\u001b[38;5;124mhello\u001b[39m\u001b[38;5;124m'\u001b[39m\n\u001b[0;32m      2\u001b[0m s2\u001b[38;5;241m=\u001b[39m\u001b[38;5;124m'\u001b[39m\u001b[38;5;124mbye\u001b[39m\u001b[38;5;124m'\u001b[39m\n\u001b[1;32m----> 3\u001b[0m s1\u001b[38;5;241m-\u001b[39ms2\n",
      "\u001b[1;31mTypeError\u001b[0m: unsupported operand type(s) for -: 'str' and 'str'"
     ]
    }
   ],
   "source": [
    "s1='hello'\n",
    "s2='bye'\n",
    "s1-s2"
   ]
  },
  {
   "cell_type": "code",
   "execution_count": 53,
   "id": "01afeee9-8a44-457a-a6e7-8e700752fe0c",
   "metadata": {},
   "outputs": [
    {
     "data": {
      "text/plain": [
       "'hellohello'"
      ]
     },
     "execution_count": 53,
     "metadata": {},
     "output_type": "execute_result"
    }
   ],
   "source": [
    "s1='hello'\n",
    "s2=2\n",
    "s1*s2"
   ]
  },
  {
   "cell_type": "code",
   "execution_count": null,
   "id": "8d3be4ba-dd33-41b7-a8ce-9f2b2bb56191",
   "metadata": {},
   "outputs": [],
   "source": [
    "s1+s2=====>s1*2"
   ]
  },
  {
   "cell_type": "markdown",
   "id": "dd0054cf-2661-49d0-bb6c-9b1b3ccd347f",
   "metadata": {},
   "source": [
    "**Index**\n",
    "\n",
    "- Index meaning a number attatched to a letter\n",
    "\n",
    "- in python index starts with zero\n",
    "\n",
    "- we have 2 directions\n",
    "\n",
    "     - positive direction\n",
    "\n",
    "        - positive numbers start with zero\n",
    "\n",
    "    - negative direction\n",
    "\n",
    "         - negative direction starts with -1,applicable last letter"
   ]
  },
  {
   "cell_type": "code",
   "execution_count": null,
   "id": "f60d848d-c339-48b0-a97e-14c80a53f1ba",
   "metadata": {
    "jp-MarkdownHeadingCollapsed": true
   },
   "outputs": [],
   "source": [
    "s1='python'\n",
    "\n",
    "p   y   t    h   0    n\n",
    "0   1   2    3   4     5"
   ]
  },
  {
   "cell_type": "code",
   "execution_count": 54,
   "id": "ab66e970-66b8-4e44-a96a-a0d37eb15528",
   "metadata": {},
   "outputs": [
    {
     "data": {
      "text/plain": [
       "('p', 'y', 't', 'h', 'o', 'n')"
      ]
     },
     "execution_count": 54,
     "metadata": {},
     "output_type": "execute_result"
    }
   ],
   "source": [
    "s1='python'\n",
    "s1[0],s1[1],s1[2],s1[3],s1[4],s1[5]"
   ]
  },
  {
   "cell_type": "code",
   "execution_count": 4,
   "id": "b55688c8-6ea1-4ccd-85ed-06fd60a7515e",
   "metadata": {},
   "outputs": [
    {
     "data": {
      "text/plain": [
       "('n', 'o', 'h', 't', 'y', 'p')"
      ]
     },
     "execution_count": 4,
     "metadata": {},
     "output_type": "execute_result"
    }
   ],
   "source": [
    "s1='python'\n",
    "s1[-1],s1[-2],s1[-3],s1[-4],s1[-5],s1[-6]"
   ]
  },
  {
   "cell_type": "markdown",
   "id": "3b82df7a-4d25-45ac-9e60-f5a28acd808c",
   "metadata": {},
   "source": [
    "**mutuable-immutable**\n",
    "\n",
    "- mutuable: can change\n",
    "\n",
    "   - we can change using indexing\n",
    "\n",
    "\n",
    "- immutable: can not change\n",
    "\n",
    "    - we cannot change using indexing\n"
   ]
  },
  {
   "cell_type": "code",
   "execution_count": 2,
   "id": "5eb80d0c-7fab-4e2d-b36b-a0a527488c57",
   "metadata": {},
   "outputs": [
    {
     "ename": "TypeError",
     "evalue": "'str' object does not support item assignment",
     "output_type": "error",
     "traceback": [
      "\u001b[1;31m---------------------------------------------------------------------------\u001b[0m",
      "\u001b[1;31mTypeError\u001b[0m                                 Traceback (most recent call last)",
      "Cell \u001b[1;32mIn[2], line 3\u001b[0m\n\u001b[0;32m      1\u001b[0m s\u001b[38;5;241m=\u001b[39m\u001b[38;5;124m'\u001b[39m\u001b[38;5;124mwelcome\u001b[39m\u001b[38;5;124m'\u001b[39m\n\u001b[0;32m      2\u001b[0m \u001b[38;5;66;03m#i want to replace 'l' with 'L'\u001b[39;00m\n\u001b[1;32m----> 3\u001b[0m s[\u001b[38;5;241m2\u001b[39m]\u001b[38;5;241m=\u001b[39m\u001b[38;5;124m'\u001b[39m\u001b[38;5;124mL\u001b[39m\u001b[38;5;124m'\u001b[39m\n",
      "\u001b[1;31mTypeError\u001b[0m: 'str' object does not support item assignment"
     ]
    }
   ],
   "source": [
    "s='welcome'\n",
    "#i want to replace 'l' with 'L'\n",
    "s[2]='L'\n",
    "#string objects are immutable"
   ]
  },
  {
   "cell_type": "markdown",
   "id": "c3835089-f0c2-4b32-8881-e43c1bc7e091",
   "metadata": {},
   "source": [
    "**STRINGS are Immutable**"
   ]
  },
  {
   "cell_type": "code",
   "execution_count": 4,
   "id": "ec80256c-cec0-480b-acba-78161c2377f6",
   "metadata": {},
   "outputs": [
    {
     "data": {
      "text/plain": [
       "[1, 200, 3, 4]"
      ]
     },
     "execution_count": 4,
     "metadata": {},
     "output_type": "execute_result"
    }
   ],
   "source": [
    "l=[1,2,3,4]   #2=200\n",
    "l[1]=200\n",
    "l"
   ]
  },
  {
   "cell_type": "code",
   "execution_count": null,
   "id": "083ff1d6-5789-4bcf-9194-f5343cfd138a",
   "metadata": {},
   "outputs": [],
   "source": [
    "s='welcome'\n",
    "s[2]='L'\n",
    "########################\n",
    "l=[1,2,3,4]   \n",
    "l[1]=200\n",
    "l"
   ]
  },
  {
   "cell_type": "markdown",
   "id": "cf9c592b-89fc-4e14-98bf-3033981bcfbf",
   "metadata": {},
   "source": [
    "- range belongs to which family\n",
    "\n",
    "   - math family\n",
    "\n",
    "- inside range bracket what we need to provide \n",
    "\n",
    "   - number\n",
    "\n",
    "- how many numbers are we need to provide\n",
    "\n",
    "\n",
    "   - Number of letter:len(string)\n",
    "\n",
    "\n",
    "- How to access the letter using number\n",
    "\n",
    "  - by using index"
   ]
  },
  {
   "cell_type": "code",
   "execution_count": 7,
   "id": "f9c897ca-3647-4de1-b1bc-2f333ee0f068",
   "metadata": {},
   "outputs": [
    {
     "name": "stdout",
     "output_type": "stream",
     "text": [
      "w\n",
      "e\n",
      "l\n",
      "c\n",
      "o\n",
      "m\n",
      "e\n"
     ]
    }
   ],
   "source": [
    "#Q4)\n",
    "s='welcome'\n",
    "#range belongs to math family\n",
    "#inside brackets\n",
    "for i in range(7):\n",
    "    print(s[i])"
   ]
  },
  {
   "cell_type": "code",
   "execution_count": 3,
   "id": "ce68e067-4b1a-471c-9cd9-b1dc481ad93e",
   "metadata": {},
   "outputs": [
    {
     "name": "stdout",
     "output_type": "stream",
     "text": [
      "w\n",
      "e\n",
      "l\n",
      "c\n",
      "o\n",
      "m\n",
      "e\n",
      " \n",
      "t\n",
      "o\n",
      " \n",
      "n\n",
      "a\n",
      "r\n",
      "e\n",
      "s\n",
      "h\n",
      " \n",
      "i\n",
      "t\n"
     ]
    }
   ],
   "source": [
    "s='welcome to naresh it'\n",
    "n=len(s)\n",
    "for i in range(n):\n",
    "    print(s[i])\n"
   ]
  },
  {
   "cell_type": "markdown",
   "id": "9e1c2577-1e43-4c0d-9d53-9163eb77bad1",
   "metadata": {},
   "source": [
    "- **for -in** directly access the letter\n",
    "\n",
    "- **for-range** will access using index"
   ]
  },
  {
   "cell_type": "code",
   "execution_count": 14,
   "id": "a2c9608e-1a30-4b04-b58a-93d3c8842177",
   "metadata": {},
   "outputs": [
    {
     "name": "stdout",
     "output_type": "stream",
     "text": [
      "A\n",
      "k\n",
      "h\n",
      "i\n",
      "l\n"
     ]
    }
   ],
   "source": [
    "s='Akhil'\n",
    "for i in range(5):\n",
    "    print(s[i])"
   ]
  },
  {
   "cell_type": "code",
   "execution_count": 33,
   "id": "fea5cf22-e77d-4a88-b839-5236c0ffb5d6",
   "metadata": {},
   "outputs": [
    {
     "name": "stdout",
     "output_type": "stream",
     "text": [
      "0 w\n",
      "the positive index of w is:w\n",
      "1 e\n",
      "the positive index of w is:e\n",
      "2 l\n",
      "the positive index of w is:l\n",
      "3 c\n",
      "the positive index of w is:c\n",
      "4 o\n",
      "the positive index of w is:o\n",
      "5 m\n",
      "the positive index of w is:m\n",
      "6 e\n",
      "the positive index of w is:e\n"
     ]
    }
   ],
   "source": [
    "#Q5)\n",
    "#string='welcome'\n",
    "# print the positive index of w is 0\n",
    "#      the positive index of e is 1\n",
    "#  the positive index of l is 1\n",
    "\n",
    "s='welcome'\n",
    "for i in range(len(s)):\n",
    "     print(i,s[i])\n",
    "     print(f\"the positive index of w is:{s[i]}\")"
   ]
  },
  {
   "cell_type": "code",
   "execution_count": 29,
   "id": "869c8576-fe34-41ec-b203-c72dfc9c4fa8",
   "metadata": {},
   "outputs": [
    {
     "name": "stdout",
     "output_type": "stream",
     "text": [
      "0 -7\n",
      "the length of index w is -7\n",
      "1 -6\n",
      "the length of index e is -6\n",
      "2 -5\n",
      "the length of index l is -5\n",
      "3 -4\n",
      "the length of index c is -4\n",
      "4 -3\n",
      "the length of index o is -3\n",
      "5 -2\n",
      "the length of index m is -2\n",
      "6 -1\n",
      "the length of index e is -1\n"
     ]
    }
   ],
   "source": [
    "#Q6)\n",
    "s='welcome'\n",
    "for i in range(len(s)):\n",
    "    print(i,i-len(s))\n",
    "    print(f\"the length of index {s[i]} is {i-len(s)}\")"
   ]
  },
  {
   "cell_type": "code",
   "execution_count": 34,
   "id": "b9fd986d-b3f1-40e3-9e31-39d016eb6ffe",
   "metadata": {},
   "outputs": [
    {
     "name": "stdout",
     "output_type": "stream",
     "text": [
      "the positive index is0 and the negative index -7 for w\n",
      "the positive index is1 and the negative index -6 for e\n",
      "the positive index is2 and the negative index -5 for l\n",
      "the positive index is3 and the negative index -4 for c\n",
      "the positive index is4 and the negative index -3 for o\n",
      "the positive index is5 and the negative index -2 for m\n",
      "the positive index is6 and the negative index -1 for e\n"
     ]
    }
   ],
   "source": [
    "#Q7)\n",
    "s='welcome'\n",
    "for i in range (len(s)):\n",
    "    print(f\"the positive index is{i} and the negative index {i-len(s)} for {s[i]}\")"
   ]
  },
  {
   "cell_type": "code",
   "execution_count": 11,
   "id": "fdd1717b-187c-4f04-a078-d5bce6b0ac6d",
   "metadata": {},
   "outputs": [
    {
     "name": "stdout",
     "output_type": "stream",
     "text": [
      "1\n",
      "8\n",
      "18\n",
      "a\n",
      "a\n",
      "a\n"
     ]
    }
   ],
   "source": [
    "#Q8)\n",
    "#s='hai how are you i am good'\n",
    "s='hai how are you i am good'\n",
    "for i in range(len(s)):\n",
    "    if s[i]=='a':\n",
    "     print(i)\n",
    "\n",
    "s='hai how are you i am good'\n",
    "for i in s:\n",
    "    if i=='a':\n",
    "     print(i)"
   ]
  },
  {
   "cell_type": "code",
   "execution_count": 4,
   "id": "f8ff07a4-0df0-40cf-a257-7ce2589b9bd5",
   "metadata": {},
   "outputs": [
    {
     "data": {
      "text/plain": [
       "3"
      ]
     },
     "execution_count": 4,
     "metadata": {},
     "output_type": "execute_result"
    }
   ],
   "source": [
    "#Q9) wap ask the user to get count of 'a' in a given string\n",
    "# using for- range\n",
    "s='hai how are you i am good'\n",
    "count=0\n",
    "for i  in range(len(s)):\n",
    "       if s[i]=='a':\n",
    "           count=count+1\n",
    "count"
   ]
  },
  {
   "cell_type": "code",
   "execution_count": 8,
   "id": "5ad7a3d0-0d70-435a-94c1-c32fa129114e",
   "metadata": {},
   "outputs": [
    {
     "data": {
      "text/plain": [
       "3"
      ]
     },
     "execution_count": 8,
     "metadata": {},
     "output_type": "execute_result"
    }
   ],
   "source": [
    "#Q10) wap ask the user to get count of 'a' in a given string\n",
    "# using for- range\n",
    "s='hai how are you i am good'\n",
    "summ=0\n",
    "for i  in range(len(s)):\n",
    "       if s[i]=='a':\n",
    "           summ=summ+1\n",
    "           \n",
    "summ"
   ]
  },
  {
   "cell_type": "code",
   "execution_count": 58,
   "id": "228152a4-c59e-4b8a-98a4-4b47f8264124",
   "metadata": {},
   "outputs": [
    {
     "name": "stdout",
     "output_type": "stream",
     "text": [
      "a\n",
      "i\n",
      "o\n",
      "a\n",
      "e\n",
      "o\n",
      "u\n",
      "i\n",
      "a\n",
      "o\n",
      "o\n",
      "the number of vowels are 11\n"
     ]
    }
   ],
   "source": [
    "#Q11)\n",
    "s='hai how are you i am good'\n",
    "count=0\n",
    "for i  in range(len(s)):\n",
    "       if s[i] in 'aeiou':\n",
    "            print(s[i])\n",
    "            count=count+1\n",
    "print(\"the number of vowels are\",count)"
   ]
  },
  {
   "cell_type": "code",
   "execution_count": 65,
   "id": "6bd2abc5-3ea7-4513-aa62-bf836e24bd17",
   "metadata": {},
   "outputs": [
    {
     "name": "stdout",
     "output_type": "stream",
     "text": [
      "i\n",
      "o\n",
      "a\n",
      "e\n",
      "u\n",
      "The number of vowels are: 19\n"
     ]
    }
   ],
   "source": [
    "s='hi how are you i m good'\n",
    "s1=''\n",
    "count=0\n",
    "for i in range (len(s)):\n",
    "     if s[i] not in s1: # we are checking the letter is available in s1( It shou\n",
    "      if s[i] in 'aeiou': # we are checking vowel condition\n",
    "        print(s[i])\n",
    "        s1=s1+s[i] # we need to update the s1\n",
    "      count=count+1\n",
    "print(\"The number of vowels are:\",count)"
   ]
  },
  {
   "cell_type": "code",
   "execution_count": 68,
   "id": "b12c7416-23ba-44f4-9d88-3933384030c0",
   "metadata": {},
   "outputs": [
    {
     "name": "stdout",
     "output_type": "stream",
     "text": [
      "a\n",
      "i\n",
      "o\n",
      "e\n",
      "u\n",
      "the number of vowels are: 5\n"
     ]
    }
   ],
   "source": [
    "#13)\n",
    "s='hai how are you i am good'\n",
    "s1=''\n",
    "count=0\n",
    "for i in range(len(s)):\n",
    "    if s[i] not in s1 and s[i] in 'aeiou':\n",
    "     if s[i] in 'aeiou':\n",
    "        print(s[i])\n",
    "        s1=s1+s[i]\n",
    "        count=count+1\n",
    "\n",
    "print(\"the number of vowels are:\",count)"
   ]
  },
  {
   "cell_type": "code",
   "execution_count": 29,
   "id": "8c64da6f-3ff2-4c19-9f08-472b99b06d5e",
   "metadata": {},
   "outputs": [
    {
     "ename": "TypeError",
     "evalue": "'str' object cannot be interpreted as an integer",
     "output_type": "error",
     "traceback": [
      "\u001b[1;31m---------------------------------------------------------------------------\u001b[0m",
      "\u001b[1;31mTypeError\u001b[0m                                 Traceback (most recent call last)",
      "Cell \u001b[1;32mIn[29], line 4\u001b[0m\n\u001b[0;32m      1\u001b[0m \u001b[38;5;66;03m#Q14)\u001b[39;00m\n\u001b[0;32m      2\u001b[0m \u001b[38;5;66;03m#number of ola=3\u001b[39;00m\n\u001b[0;32m      3\u001b[0m s\u001b[38;5;241m=\u001b[39m\u001b[38;5;124m'\u001b[39m\u001b[38;5;124mola ola ola\u001b[39m\u001b[38;5;124m'\u001b[39m\n\u001b[1;32m----> 4\u001b[0m \u001b[38;5;28;01mfor\u001b[39;00m i \u001b[38;5;129;01min\u001b[39;00m \u001b[38;5;28mrange\u001b[39m(s):\n\u001b[0;32m      5\u001b[0m      \u001b[38;5;28mprint\u001b[39m(i)\n",
      "\u001b[1;31mTypeError\u001b[0m: 'str' object cannot be interpreted as an integer"
     ]
    }
   ],
   "source": [
    "#Q14)\n",
    "#number of ola=3\n",
    "s='ola ola ola'\n",
    "for i in range(s):\n",
    "     print(i)\n",
    "    \n",
    "\n",
    "\n",
    "\n",
    "\n",
    "#Q15) string='hello hello hello how how how are you'\n",
    "#what is the most repeated word:how\n",
    "\n",
    "\n",
    "\n",
    "\n",
    "#Q16)string1='hellooooo how aree u'\n",
    "#what is maximum length of word : helloooo\n",
    "#what is minimum  length of word :u\n",
    "\n",
    "#Q17) with out using sorted then sort the letters\n"
   ]
  },
  {
   "cell_type": "code",
   "execution_count": 24,
   "id": "82e03265-edff-42b2-aa78-af9a2d44d134",
   "metadata": {},
   "outputs": [
    {
     "data": {
      "text/plain": [
       "['e', 'h', 'l', 'l', 'o']"
      ]
     },
     "execution_count": 24,
     "metadata": {},
     "output_type": "execute_result"
    }
   ],
   "source": [
    "sorted('hello')"
   ]
  },
  {
   "cell_type": "code",
   "execution_count": 64,
   "id": "49d9501c-3fac-4f51-a919-86bf5934389d",
   "metadata": {},
   "outputs": [
    {
     "name": "stdout",
     "output_type": "stream",
     "text": [
      "o\n",
      "l\n",
      "a\n",
      "o\n",
      "l\n",
      "a\n",
      "o\n",
      "l\n",
      "a\n",
      "the numbers are 9\n"
     ]
    }
   ],
   "source": [
    "s='ola ola ola'\n",
    "count=0\n",
    "for i in range(len(s)):\n",
    "       if s[i] in 'ola': \n",
    "        print(s[i])\n",
    "        count=count+1\n",
    "print(\"the numbers are\",count)"
   ]
  },
  {
   "cell_type": "markdown",
   "id": "082f2dce-a39d-4f7b-b17d-d19ad9bff28e",
   "metadata": {},
   "source": [
    "**slice**"
   ]
  },
  {
   "cell_type": "markdown",
   "id": "7bc2e4b0-c366-4304-903e-1f11c7d440e7",
   "metadata": {},
   "source": [
    "- we can cut into pieces\n",
    "\n",
    "- similar to range concept\n",
    "\n",
    "- start,stop,stop here also"
   ]
  },
  {
   "cell_type": "code",
   "execution_count": null,
   "id": "b26e236b-85c1-4fb9-9168-d85b4995117d",
   "metadata": {},
   "outputs": [],
   "source": [
    "str1='hai how are you'"
   ]
  },
  {
   "cell_type": "code",
   "execution_count": null,
   "id": "172e848e-e7b3-460c-be35-f300fea05579",
   "metadata": {},
   "outputs": [],
   "source": [
    "# -15 -14 -13 -12  -11 -10 -9  -8  -7  -6   -5  -4  -3  -2   -1\n",
    "# h    a   i        h   o  w        a   r   e        y   o    u\n",
    "# 0    1   2   3   4    5  6   7    8   9   10  11  12  13   14"
   ]
  },
  {
   "cell_type": "code",
   "execution_count": null,
   "id": "4e63be35-9c65-4d6d-a4ab-7dd37203bcc1",
   "metadata": {},
   "outputs": [],
   "source": [
    "str1[start:stop:step]\n"
   ]
  },
  {
   "cell_type": "markdown",
   "id": "313e8a58-81a3-4740-88f5-149206a3c3ec",
   "metadata": {},
   "source": [
    "$pattern-1$\n",
    "\n",
    "**str1[start:]**\n",
    "\n",
    "- By default start value:start only\n",
    "\n",
    "- last value nothing mentioned automatically it will  go till=last only\n",
    "\n",
    "- step nothing mentioned means,it is a positive direction and incremented by 1"
   ]
  },
  {
   "cell_type": "code",
   "execution_count": 1,
   "id": "934661ee-f452-4dd7-8eca-1762dbe0f1fa",
   "metadata": {},
   "outputs": [
    {
     "data": {
      "text/plain": [
       "'ow are you'"
      ]
     },
     "execution_count": 1,
     "metadata": {},
     "output_type": "execute_result"
    }
   ],
   "source": [
    "str1='hai how are you'\n",
    "str1[5:]"
   ]
  },
  {
   "cell_type": "code",
   "execution_count": 3,
   "id": "cb4649d4-ce17-4403-a0ab-266cadf74612",
   "metadata": {},
   "outputs": [
    {
     "data": {
      "text/plain": [
       "'e you'"
      ]
     },
     "execution_count": 3,
     "metadata": {},
     "output_type": "execute_result"
    }
   ],
   "source": [
    "str1[10:]"
   ]
  },
  {
   "cell_type": "code",
   "execution_count": 4,
   "id": "cd70cdc1-d43d-4c16-b186-a32fad64130d",
   "metadata": {},
   "outputs": [
    {
     "data": {
      "text/plain": [
       "''"
      ]
     },
     "execution_count": 4,
     "metadata": {},
     "output_type": "execute_result"
    }
   ],
   "source": [
    "str1[15:]"
   ]
  },
  {
   "cell_type": "code",
   "execution_count": 6,
   "id": "fdf30bdb-df24-4056-98ea-c24f6eb70a8e",
   "metadata": {},
   "outputs": [
    {
     "data": {
      "text/plain": [
       "'e you'"
      ]
     },
     "execution_count": 6,
     "metadata": {},
     "output_type": "execute_result"
    }
   ],
   "source": [
    "str1[-5:]"
   ]
  },
  {
   "cell_type": "code",
   "execution_count": 18,
   "id": "2ef07f43-ee17-4983-9f07-6a4d92a8c3b2",
   "metadata": {},
   "outputs": [
    {
     "data": {
      "text/plain": [
       "('e you', 'e you')"
      ]
     },
     "execution_count": 18,
     "metadata": {},
     "output_type": "execute_result"
    }
   ],
   "source": [
    "str1[-5:],str1[10:] #Both will give same answer"
   ]
  },
  {
   "cell_type": "code",
   "execution_count": 9,
   "id": "0d07f493-c687-46ee-a207-482322c87f15",
   "metadata": {},
   "outputs": [
    {
     "data": {
      "text/plain": [
       "'ai how are you'"
      ]
     },
     "execution_count": 9,
     "metadata": {},
     "output_type": "execute_result"
    }
   ],
   "source": [
    "str1[1:]"
   ]
  },
  {
   "cell_type": "markdown",
   "id": "d1b31d12-c643-4de3-a10e-85123e2dd4d1",
   "metadata": {},
   "source": [
    "$pattern-2$\n",
    "\n",
    "**start[start:stop]**\n",
    "\n",
    "- start value means by default start only\n",
    "\n",
    "- step is not mentioned positive direction\n",
    "\n",
    "- last=step=1"
   ]
  },
  {
   "cell_type": "code",
   "execution_count": null,
   "id": "5e880db6-508c-4398-8c51-e6d530f761f5",
   "metadata": {},
   "outputs": [],
   "source": [
    "#  -15 -14 -13 -12  -11 -10 -9  -8  -7  -6   -5  -4  -3  -2   -1\n",
    "#  h    a   i        h   o  w        a   r   e        y   o    u\n",
    "#  0    1   2   3   4    5  6   7    8   9   10  11  12  13   14"
   ]
  },
  {
   "cell_type": "code",
   "execution_count": null,
   "id": "e1e27d05-8d36-492a-b23c-ea573a5531b0",
   "metadata": {},
   "outputs": [],
   "source": []
  },
  {
   "cell_type": "code",
   "execution_count": 11,
   "id": "08b8280c-063e-4eee-9021-ce5d29614f4c",
   "metadata": {},
   "outputs": [
    {
     "data": {
      "text/plain": [
       "'ow are yo'"
      ]
     },
     "execution_count": 11,
     "metadata": {},
     "output_type": "execute_result"
    }
   ],
   "source": [
    "str1='hai how are you'\n",
    "str1[5:14]"
   ]
  },
  {
   "cell_type": "code",
   "execution_count": 12,
   "id": "d291ed53-9af2-40d1-b972-a7edfde4cf88",
   "metadata": {},
   "outputs": [
    {
     "data": {
      "text/plain": [
       "'e yo'"
      ]
     },
     "execution_count": 12,
     "metadata": {},
     "output_type": "execute_result"
    }
   ],
   "source": [
    "str1[-5:14]"
   ]
  },
  {
   "cell_type": "code",
   "execution_count": 16,
   "id": "dc730f40-980e-48b9-9922-5cf362a2bdfa",
   "metadata": {},
   "outputs": [
    {
     "data": {
      "text/plain": [
       "'how are'"
      ]
     },
     "execution_count": 16,
     "metadata": {},
     "output_type": "execute_result"
    }
   ],
   "source": [
    "str1[4:-4]"
   ]
  },
  {
   "cell_type": "code",
   "execution_count": 17,
   "id": "5aeff1aa-2e12-4877-9b6e-1757b5ee0516",
   "metadata": {},
   "outputs": [
    {
     "data": {
      "text/plain": [
       "''"
      ]
     },
     "execution_count": 17,
     "metadata": {},
     "output_type": "execute_result"
    }
   ],
   "source": [
    "str1[-5:-14]"
   ]
  },
  {
   "cell_type": "code",
   "execution_count": 19,
   "id": "0869b09e-cd72-4a90-a5af-3ff8120ff727",
   "metadata": {},
   "outputs": [
    {
     "data": {
      "text/plain": [
       "' how are '"
      ]
     },
     "execution_count": 19,
     "metadata": {},
     "output_type": "execute_result"
    }
   ],
   "source": [
    "str1[-12:12]"
   ]
  },
  {
   "cell_type": "code",
   "execution_count": 21,
   "id": "b9fcd31d-4783-4f1c-927d-3b2f710cd313",
   "metadata": {},
   "outputs": [
    {
     "data": {
      "text/plain": [
       "'yo'"
      ]
     },
     "execution_count": 21,
     "metadata": {},
     "output_type": "execute_result"
    }
   ],
   "source": [
    "str1[-3:14]"
   ]
  },
  {
   "cell_type": "code",
   "execution_count": 25,
   "id": "1ed5ed94-3842-4a95-b7bd-6292bc499545",
   "metadata": {},
   "outputs": [
    {
     "data": {
      "text/plain": [
       "'ai how '"
      ]
     },
     "execution_count": 25,
     "metadata": {},
     "output_type": "execute_result"
    }
   ],
   "source": [
    "str1[-14:8]"
   ]
  },
  {
   "cell_type": "code",
   "execution_count": 26,
   "id": "23a9355f-5383-42f1-885d-ddc1a8b0538f",
   "metadata": {},
   "outputs": [
    {
     "data": {
      "text/plain": [
       "''"
      ]
     },
     "execution_count": 26,
     "metadata": {},
     "output_type": "execute_result"
    }
   ],
   "source": [
    "str1[-5:-14]"
   ]
  },
  {
   "cell_type": "code",
   "execution_count": 27,
   "id": "394d1980-0d9d-497a-980f-e1ebfcb3edd4",
   "metadata": {},
   "outputs": [
    {
     "data": {
      "text/plain": [
       "'ow are you'"
      ]
     },
     "execution_count": 27,
     "metadata": {},
     "output_type": "execute_result"
    }
   ],
   "source": [
    "str1[5:500]"
   ]
  },
  {
   "cell_type": "markdown",
   "id": "3efdfbc9-df66-4956-8226-7c9281a38293",
   "metadata": {},
   "source": [
    "**Truncation behaviour**\n",
    "\n",
    "- when ever string range is limited,but we provided unlimited number\n",
    "\n",
    "- string will consider till the range we have\n",
    "\n",
    "- In the above example our range only 15 letters\n",
    "\n",
    "- we provide 500,then 500 will truncate to till 15 letters only"
   ]
  },
  {
   "cell_type": "code",
   "execution_count": 32,
   "id": "df6e7646-7697-448a-99e9-45985bd79038",
   "metadata": {},
   "outputs": [
    {
     "data": {
      "text/plain": [
       "'ow are you'"
      ]
     },
     "execution_count": 32,
     "metadata": {},
     "output_type": "execute_result"
    }
   ],
   "source": [
    "str1[5:500]"
   ]
  },
  {
   "cell_type": "code",
   "execution_count": 33,
   "id": "98b23fc9-672b-4c74-a939-659a24a5f4a8",
   "metadata": {},
   "outputs": [
    {
     "data": {
      "text/plain": [
       "'hai how are you'"
      ]
     },
     "execution_count": 33,
     "metadata": {},
     "output_type": "execute_result"
    }
   ],
   "source": [
    "str1[-500:500]"
   ]
  },
  {
   "cell_type": "code",
   "execution_count": 30,
   "id": "f66d2e4c-7aca-4a29-841b-f8b1292d0cba",
   "metadata": {},
   "outputs": [
    {
     "data": {
      "text/plain": [
       "'u'"
      ]
     },
     "execution_count": 30,
     "metadata": {},
     "output_type": "execute_result"
    }
   ],
   "source": [
    "str1[-1:500]"
   ]
  },
  {
   "cell_type": "code",
   "execution_count": 31,
   "id": "65f9e347-ca40-4a8b-82fb-fa5e65138b3c",
   "metadata": {},
   "outputs": [
    {
     "data": {
      "text/plain": [
       "''"
      ]
     },
     "execution_count": 31,
     "metadata": {},
     "output_type": "execute_result"
    }
   ],
   "source": [
    "str1[500:]"
   ]
  },
  {
   "cell_type": "code",
   "execution_count": 34,
   "id": "b23b2fc0-ce88-4cb8-a3cb-755c669c8f7b",
   "metadata": {},
   "outputs": [
    {
     "data": {
      "text/plain": [
       "''"
      ]
     },
     "execution_count": 34,
     "metadata": {},
     "output_type": "execute_result"
    }
   ],
   "source": [
    "str1[-500:-100]"
   ]
  },
  {
   "cell_type": "markdown",
   "id": "d42e9ac2-04ec-4c6a-b3bb-daf01a2489dd",
   "metadata": {},
   "source": [
    "$pattern-3$\n",
    "\n",
    "**str1[star:stop:step]**\n",
    "\n",
    "- start value means start only\n",
    "\n",
    "- If step value positive only\n",
    "\n",
    "    - last value=stop=1\n",
    "\n",
    "- if step value negative only\n",
    "\n",
    "    - last value=stop=1"
   ]
  },
  {
   "cell_type": "code",
   "execution_count": 36,
   "id": "4a5ac5bd-c41d-4844-ab5a-3106d9370130",
   "metadata": {},
   "outputs": [
    {
     "data": {
      "text/plain": [
       "15"
      ]
     },
     "execution_count": 36,
     "metadata": {},
     "output_type": "execute_result"
    }
   ],
   "source": [
    "len(str1)"
   ]
  },
  {
   "cell_type": "code",
   "execution_count": null,
   "id": "9e6fc305-eb72-4405-a5e1-dbfab9621ebe",
   "metadata": {},
   "outputs": [],
   "source": [
    "#  -15 -14 -13 -12  -11 -10 -9  -8  -7  -6   -5  -4  -3  -2   -1\n",
    "#  h    a   i        h   o  w        a   r   e        y   o    u\n",
    "#  0    1   2   3   4    5  6   7    8   9   10  11  12  13   14"
   ]
  },
  {
   "cell_type": "code",
   "execution_count": 51,
   "id": "1f2f71e8-94da-41de-817f-ce01e994fb4d",
   "metadata": {},
   "outputs": [
    {
     "data": {
      "text/plain": [
       "'ihwaey'"
      ]
     },
     "execution_count": 51,
     "metadata": {},
     "output_type": "execute_result"
    }
   ],
   "source": [
    "str1='hai how are you'\n",
    "str1[2:13:2]"
   ]
  },
  {
   "cell_type": "code",
   "execution_count": 37,
   "id": "0036ae6f-68a3-4eae-9eea-4b4ed573d888",
   "metadata": {},
   "outputs": [
    {
     "data": {
      "text/plain": [
       "'ihwaey'"
      ]
     },
     "execution_count": 37,
     "metadata": {},
     "output_type": "execute_result"
    }
   ],
   "source": [
    "str1[2:13:2]"
   ]
  },
  {
   "cell_type": "code",
   "execution_count": 40,
   "id": "b6a6cf36-c3f1-4009-b47d-5eb1154a1c8d",
   "metadata": {},
   "outputs": [
    {
     "data": {
      "text/plain": [
       "''"
      ]
     },
     "execution_count": 40,
     "metadata": {},
     "output_type": "execute_result"
    }
   ],
   "source": [
    "str1[2:13:-2]"
   ]
  },
  {
   "cell_type": "code",
   "execution_count": 41,
   "id": "6ebe8b42-8c3d-4ca7-bc27-46cbff5f24e0",
   "metadata": {},
   "outputs": [
    {
     "data": {
      "text/plain": [
       "''"
      ]
     },
     "execution_count": 41,
     "metadata": {},
     "output_type": "execute_result"
    }
   ],
   "source": [
    "str1[2:-13:2]"
   ]
  },
  {
   "cell_type": "code",
   "execution_count": 42,
   "id": "0ff2c911-417d-4061-86e0-92c9f394c496",
   "metadata": {},
   "outputs": [
    {
     "data": {
      "text/plain": [
       "''"
      ]
     },
     "execution_count": 42,
     "metadata": {},
     "output_type": "execute_result"
    }
   ],
   "source": [
    "str1[2:-13:-2]"
   ]
  },
  {
   "cell_type": "code",
   "execution_count": 43,
   "id": "87f49d1f-96b9-4995-99da-f0fb0ec14171",
   "metadata": {},
   "outputs": [
    {
     "data": {
      "text/plain": [
       "''"
      ]
     },
     "execution_count": 43,
     "metadata": {},
     "output_type": "execute_result"
    }
   ],
   "source": [
    "str1[-2:-13:2]"
   ]
  },
  {
   "cell_type": "code",
   "execution_count": 44,
   "id": "11533845-ecef-4d8b-a835-768f700486e4",
   "metadata": {},
   "outputs": [
    {
     "data": {
      "text/plain": [
       "'o r o '"
      ]
     },
     "execution_count": 44,
     "metadata": {},
     "output_type": "execute_result"
    }
   ],
   "source": [
    "str1[-2:-13:-2]"
   ]
  },
  {
   "cell_type": "code",
   "execution_count": 45,
   "id": "367f9039-66b8-4afd-98c3-246b7d7e1cac",
   "metadata": {},
   "outputs": [
    {
     "data": {
      "text/plain": [
       "''"
      ]
     },
     "execution_count": 45,
     "metadata": {},
     "output_type": "execute_result"
    }
   ],
   "source": [
    "str1[13:2:2]"
   ]
  },
  {
   "cell_type": "code",
   "execution_count": 46,
   "id": "a7cb09a3-f2d0-4911-a9bf-01dbba910fc5",
   "metadata": {},
   "outputs": [
    {
     "data": {
      "text/plain": [
       "''"
      ]
     },
     "execution_count": 46,
     "metadata": {},
     "output_type": "execute_result"
    }
   ],
   "source": [
    "str1[-13:2:2]"
   ]
  },
  {
   "cell_type": "code",
   "execution_count": 47,
   "id": "6703eb35-07e0-468f-a606-33903741c944",
   "metadata": {},
   "outputs": [
    {
     "data": {
      "text/plain": [
       "'ihwaey'"
      ]
     },
     "execution_count": 47,
     "metadata": {},
     "output_type": "execute_result"
    }
   ],
   "source": [
    "str1[-13:-2:2]"
   ]
  },
  {
   "cell_type": "code",
   "execution_count": 48,
   "id": "b974ed48-e0d4-499f-8c81-d4b15838d6e6",
   "metadata": {},
   "outputs": [
    {
     "data": {
      "text/plain": [
       "''"
      ]
     },
     "execution_count": 48,
     "metadata": {},
     "output_type": "execute_result"
    }
   ],
   "source": [
    "str1[-13:-2:-2]"
   ]
  },
  {
   "cell_type": "code",
   "execution_count": 49,
   "id": "38f09297-287a-4a15-81d1-e28d266b8168",
   "metadata": {},
   "outputs": [
    {
     "data": {
      "text/plain": [
       "''"
      ]
     },
     "execution_count": 49,
     "metadata": {},
     "output_type": "execute_result"
    }
   ],
   "source": [
    "str1[-13:2:-2]"
   ]
  },
  {
   "cell_type": "code",
   "execution_count": 50,
   "id": "f3c4188a-c8a5-4043-89f8-261d14f6cd3d",
   "metadata": {},
   "outputs": [
    {
     "data": {
      "text/plain": [
       "'i'"
      ]
     },
     "execution_count": 50,
     "metadata": {},
     "output_type": "execute_result"
    }
   ],
   "source": [
    "str1[2:3:2]"
   ]
  },
  {
   "cell_type": "code",
   "execution_count": 52,
   "id": "5842518d-0ab1-4073-81e9-346168eb93ce",
   "metadata": {},
   "outputs": [
    {
     "data": {
      "text/plain": [
       "''"
      ]
     },
     "execution_count": 52,
     "metadata": {},
     "output_type": "execute_result"
    }
   ],
   "source": [
    "str1[2:2:2]"
   ]
  },
  {
   "cell_type": "code",
   "execution_count": 55,
   "id": "8189f567-18c6-4716-b48e-45a1a214915c",
   "metadata": {},
   "outputs": [
    {
     "data": {
      "text/plain": [
       "''"
      ]
     },
     "execution_count": 55,
     "metadata": {},
     "output_type": "execute_result"
    }
   ],
   "source": [
    "str1[2:-13:4]"
   ]
  },
  {
   "cell_type": "code",
   "execution_count": 59,
   "id": "15fcb06c-7648-4542-97c3-0b233fdd5d65",
   "metadata": {},
   "outputs": [
    {
     "data": {
      "text/plain": [
       "'uyeaw'"
      ]
     },
     "execution_count": 59,
     "metadata": {},
     "output_type": "execute_result"
    }
   ],
   "source": [
    "str1[:5:-2]"
   ]
  },
  {
   "cell_type": "code",
   "execution_count": 60,
   "id": "6717332f-a23f-42c7-b55b-3c9e3c2099e1",
   "metadata": {},
   "outputs": [
    {
     "data": {
      "text/plain": [
       "'hai how are you'"
      ]
     },
     "execution_count": 60,
     "metadata": {},
     "output_type": "execute_result"
    }
   ],
   "source": [
    "str1[:]  #complete string"
   ]
  },
  {
   "cell_type": "code",
   "execution_count": 61,
   "id": "ffc6ec69-77e9-445f-8a65-f37a2928a133",
   "metadata": {},
   "outputs": [
    {
     "data": {
      "text/plain": [
       "'hai how are you'"
      ]
     },
     "execution_count": 61,
     "metadata": {},
     "output_type": "execute_result"
    }
   ],
   "source": [
    "str1[::]  #complete string"
   ]
  },
  {
   "cell_type": "code",
   "execution_count": 62,
   "id": "088b441b-82ac-4bc9-8679-6e38175f6cb1",
   "metadata": {},
   "outputs": [
    {
     "data": {
      "text/plain": [
       "'uoy era woh iah'"
      ]
     },
     "execution_count": 62,
     "metadata": {},
     "output_type": "execute_result"
    }
   ],
   "source": [
    "str1[::-1]  ##Reverse  the string start value=-1"
   ]
  },
  {
   "cell_type": "code",
   "execution_count": null,
   "id": "fe0f82fd-5d3d-4eb5-8b0d-91a252d059bc",
   "metadata": {},
   "outputs": [],
   "source": [
    "========part-2========>"
   ]
  },
  {
   "cell_type": "markdown",
   "id": "aeea4569-8329-4a61-a035-b38f82e87a0b",
   "metadata": {},
   "source": [
    "**Methods**\n",
    "\n",
    "- String lists tuple dictonary  every data type has its own methods\n",
    "\n",
    "- we already seen that package has different method\n",
    "\n",
    "- For example random package : randint method\n",
    "\n",
    "- math package: sqrt\n",
    "\n",
    "- In the same way strings also have methods\n",
    "\n",
    "- In order to see methods for the packages\n",
    "\n",
    "    - we are importing the package\n",
    "\n",
    "    - we are applying dir\n",
    "\n",
    "- in similiar way in order to see the methods of string,we need to apply dir string"
   ]
  },
  {
   "cell_type": "code",
   "execution_count": 64,
   "id": "6998e2c6-b290-437f-8096-5cb22e56090d",
   "metadata": {},
   "outputs": [
    {
     "data": {
      "text/plain": [
       "['__add__',\n",
       " '__class__',\n",
       " '__contains__',\n",
       " '__delattr__',\n",
       " '__dir__',\n",
       " '__doc__',\n",
       " '__eq__',\n",
       " '__format__',\n",
       " '__ge__',\n",
       " '__getattribute__',\n",
       " '__getitem__',\n",
       " '__getnewargs__',\n",
       " '__getstate__',\n",
       " '__gt__',\n",
       " '__hash__',\n",
       " '__init__',\n",
       " '__init_subclass__',\n",
       " '__iter__',\n",
       " '__le__',\n",
       " '__len__',\n",
       " '__lt__',\n",
       " '__mod__',\n",
       " '__mul__',\n",
       " '__ne__',\n",
       " '__new__',\n",
       " '__reduce__',\n",
       " '__reduce_ex__',\n",
       " '__repr__',\n",
       " '__rmod__',\n",
       " '__rmul__',\n",
       " '__setattr__',\n",
       " '__sizeof__',\n",
       " '__str__',\n",
       " '__subclasshook__',\n",
       " 'capitalize',\n",
       " 'casefold',\n",
       " 'center',\n",
       " 'count',\n",
       " 'encode',\n",
       " 'endswith',\n",
       " 'expandtabs',\n",
       " 'find',\n",
       " 'format',\n",
       " 'format_map',\n",
       " 'index',\n",
       " 'isalnum',\n",
       " 'isalpha',\n",
       " 'isascii',\n",
       " 'isdecimal',\n",
       " 'isdigit',\n",
       " 'isidentifier',\n",
       " 'islower',\n",
       " 'isnumeric',\n",
       " 'isprintable',\n",
       " 'isspace',\n",
       " 'istitle',\n",
       " 'isupper',\n",
       " 'join',\n",
       " 'ljust',\n",
       " 'lower',\n",
       " 'lstrip',\n",
       " 'maketrans',\n",
       " 'partition',\n",
       " 'removeprefix',\n",
       " 'removesuffix',\n",
       " 'replace',\n",
       " 'rfind',\n",
       " 'rindex',\n",
       " 'rjust',\n",
       " 'rpartition',\n",
       " 'rsplit',\n",
       " 'rstrip',\n",
       " 'split',\n",
       " 'splitlines',\n",
       " 'startswith',\n",
       " 'strip',\n",
       " 'swapcase',\n",
       " 'title',\n",
       " 'translate',\n",
       " 'upper',\n",
       " 'zfill']"
      ]
     },
     "execution_count": 64,
     "metadata": {},
     "output_type": "execute_result"
    }
   ],
   "source": [
    "dir('')\n",
    "#dir('hai')\n",
    "#dir('hello')"
   ]
  },
  {
   "cell_type": "code",
   "execution_count": 65,
   "id": "8e3ba9d7-be7d-40d6-b92d-3288f2ffd126",
   "metadata": {},
   "outputs": [
    {
     "data": {
      "text/plain": [
       "['__add__',\n",
       " '__class__',\n",
       " '__contains__',\n",
       " '__delattr__',\n",
       " '__dir__',\n",
       " '__doc__',\n",
       " '__eq__',\n",
       " '__format__',\n",
       " '__ge__',\n",
       " '__getattribute__',\n",
       " '__getitem__',\n",
       " '__getnewargs__',\n",
       " '__getstate__',\n",
       " '__gt__',\n",
       " '__hash__',\n",
       " '__init__',\n",
       " '__init_subclass__',\n",
       " '__iter__',\n",
       " '__le__',\n",
       " '__len__',\n",
       " '__lt__',\n",
       " '__mod__',\n",
       " '__mul__',\n",
       " '__ne__',\n",
       " '__new__',\n",
       " '__reduce__',\n",
       " '__reduce_ex__',\n",
       " '__repr__',\n",
       " '__rmod__',\n",
       " '__rmul__',\n",
       " '__setattr__',\n",
       " '__sizeof__',\n",
       " '__str__',\n",
       " '__subclasshook__',\n",
       " 'capitalize',\n",
       " 'casefold',\n",
       " 'center',\n",
       " 'count',\n",
       " 'encode',\n",
       " 'endswith',\n",
       " 'expandtabs',\n",
       " 'find',\n",
       " 'format',\n",
       " 'format_map',\n",
       " 'index',\n",
       " 'isalnum',\n",
       " 'isalpha',\n",
       " 'isascii',\n",
       " 'isdecimal',\n",
       " 'isdigit',\n",
       " 'isidentifier',\n",
       " 'islower',\n",
       " 'isnumeric',\n",
       " 'isprintable',\n",
       " 'isspace',\n",
       " 'istitle',\n",
       " 'isupper',\n",
       " 'join',\n",
       " 'ljust',\n",
       " 'lower',\n",
       " 'lstrip',\n",
       " 'maketrans',\n",
       " 'partition',\n",
       " 'removeprefix',\n",
       " 'removesuffix',\n",
       " 'replace',\n",
       " 'rfind',\n",
       " 'rindex',\n",
       " 'rjust',\n",
       " 'rpartition',\n",
       " 'rsplit',\n",
       " 'rstrip',\n",
       " 'split',\n",
       " 'splitlines',\n",
       " 'startswith',\n",
       " 'strip',\n",
       " 'swapcase',\n",
       " 'title',\n",
       " 'translate',\n",
       " 'upper',\n",
       " 'zfill']"
      ]
     },
     "execution_count": 65,
     "metadata": {},
     "output_type": "execute_result"
    }
   ],
   "source": [
    "dir('hai')"
   ]
  },
  {
   "cell_type": "markdown",
   "id": "7bba7373-a9d7-487f-b5b9-e38e97c943f3",
   "metadata": {},
   "source": [
    "- lower\n",
    "\n",
    "- upper\n",
    "\n",
    "- case fold\n",
    "\n",
    "- center\n",
    "\n",
    "- title\n",
    "\n",
    "- capitalise"
   ]
  },
  {
   "cell_type": "markdown",
   "id": "c57414fe-7891-4f69-80de-1dfab343fc86",
   "metadata": {},
   "source": [
    "**upper**"
   ]
  },
  {
   "cell_type": "code",
   "execution_count": null,
   "id": "138c7b71-7140-47dc-8fe6-adec924be495",
   "metadata": {},
   "outputs": [],
   "source": [
    "str1='hai how are you'"
   ]
  },
  {
   "cell_type": "code",
   "execution_count": 67,
   "id": "e3990e65-9b4d-4f12-bc6c-95e0dd1107ea",
   "metadata": {},
   "outputs": [
    {
     "name": "stdout",
     "output_type": "stream",
     "text": [
      "Help on built-in function upper:\n",
      "\n",
      "upper() method of builtins.str instance\n",
      "    Return a copy of the string converted to uppercase.\n",
      "\n"
     ]
    }
   ],
   "source": [
    "type(str1)\n",
    "help(str1.upper)"
   ]
  },
  {
   "cell_type": "code",
   "execution_count": 68,
   "id": "9a531a7c-9878-444e-bc8f-c6b73d342892",
   "metadata": {},
   "outputs": [
    {
     "data": {
      "text/plain": [
       "'HAI HOW ARE YOU'"
      ]
     },
     "execution_count": 68,
     "metadata": {},
     "output_type": "execute_result"
    }
   ],
   "source": [
    "str1.upper()"
   ]
  },
  {
   "cell_type": "code",
   "execution_count": 69,
   "id": "3720da81-a643-4f0f-b9e4-5ce5a29a59ee",
   "metadata": {},
   "outputs": [
    {
     "data": {
      "text/plain": [
       "'hai how are you'"
      ]
     },
     "execution_count": 69,
     "metadata": {},
     "output_type": "execute_result"
    }
   ],
   "source": [
    "str1.lower()"
   ]
  },
  {
   "cell_type": "code",
   "execution_count": 71,
   "id": "7f0e4a0b-c013-4246-a2c0-2b180bce226e",
   "metadata": {},
   "outputs": [
    {
     "data": {
      "text/plain": [
       "'hai how are you'"
      ]
     },
     "execution_count": 71,
     "metadata": {},
     "output_type": "execute_result"
    }
   ],
   "source": [
    "str1.casefold()"
   ]
  },
  {
   "cell_type": "markdown",
   "id": "ad4657af-8d8b-412b-a70a-f74d9cddfc69",
   "metadata": {},
   "source": [
    "**lower**"
   ]
  },
  {
   "cell_type": "code",
   "execution_count": 72,
   "id": "5e2f1266-5743-41e1-9739-32e625f88053",
   "metadata": {},
   "outputs": [
    {
     "name": "stdout",
     "output_type": "stream",
     "text": [
      "Help on built-in function lower:\n",
      "\n",
      "lower() method of builtins.str instance\n",
      "    Return a copy of the string converted to lowercase.\n",
      "\n"
     ]
    }
   ],
   "source": [
    "help(str1.lower)"
   ]
  },
  {
   "cell_type": "code",
   "execution_count": 73,
   "id": "302040e4-fc2f-433e-82e5-99140e6c50c8",
   "metadata": {},
   "outputs": [
    {
     "data": {
      "text/plain": [
       "'hai how are you'"
      ]
     },
     "execution_count": 73,
     "metadata": {},
     "output_type": "execute_result"
    }
   ],
   "source": [
    "str1.lower()"
   ]
  },
  {
   "cell_type": "markdown",
   "id": "d6bfe5e4-ed9b-4efc-b18e-c34525421ec2",
   "metadata": {},
   "source": [
    "**capatalise**"
   ]
  },
  {
   "cell_type": "markdown",
   "id": "e01e831c-be95-470e-8b94-033ec83e1b05",
   "metadata": {},
   "source": [
    "**casefold**"
   ]
  },
  {
   "cell_type": "code",
   "execution_count": 79,
   "id": "e9fd8ba8-79af-4b9e-8de4-68707a8c16ee",
   "metadata": {},
   "outputs": [
    {
     "name": "stdout",
     "output_type": "stream",
     "text": [
      "Help on built-in function casefold:\n",
      "\n",
      "casefold() method of builtins.str instance\n",
      "    Return a version of the string suitable for caseless comparisons.\n",
      "\n"
     ]
    }
   ],
   "source": [
    "help(str1.casefold)"
   ]
  },
  {
   "cell_type": "code",
   "execution_count": 80,
   "id": "87f36733-ff9b-4f17-ad02-a6492207e5f1",
   "metadata": {},
   "outputs": [
    {
     "data": {
      "text/plain": [
       "'hai how are you'"
      ]
     },
     "execution_count": 80,
     "metadata": {},
     "output_type": "execute_result"
    }
   ],
   "source": [
    "str1.casefold()"
   ]
  },
  {
   "cell_type": "markdown",
   "id": "77787077-5c57-4358-94f6-84c0f6794e50",
   "metadata": {},
   "source": [
    "**center**"
   ]
  },
  {
   "cell_type": "code",
   "execution_count": 4,
   "id": "ce75f158-3690-45c8-b285-795688b08672",
   "metadata": {},
   "outputs": [
    {
     "name": "stdout",
     "output_type": "stream",
     "text": [
      "Help on built-in function center:\n",
      "\n",
      "center(width, fillchar=' ', /) method of builtins.str instance\n",
      "    Return a centered string of length width.\n",
      "    \n",
      "    Padding is done using the specified fill character (default is a space).\n",
      "\n"
     ]
    }
   ],
   "source": [
    "str1='hai how are you'\n",
    "help(str1.center)"
   ]
  },
  {
   "cell_type": "code",
   "execution_count": 4,
   "id": "02bb82f6-da93-466e-b804-c492e8ee3647",
   "metadata": {},
   "outputs": [
    {
     "data": {
      "text/plain": [
       "'hai how are you'"
      ]
     },
     "execution_count": 4,
     "metadata": {},
     "output_type": "execute_result"
    }
   ],
   "source": [
    "str1.center(1)"
   ]
  },
  {
   "cell_type": "markdown",
   "id": "e72775d2-5344-447b-a19c-40fec353c625",
   "metadata": {},
   "source": [
    "- center has two arguments \n",
    "\n",
    "    - width\n",
    "\n",
    "    - length\n",
    "\n",
    "- original string already :15 letters\n",
    "\n",
    "- we want to create a new string with 20 letters\n",
    "\n",
    "- remaining 5 letters by default empty\n",
    "\n",
    "- we can fill character also"
   ]
  },
  {
   "cell_type": "code",
   "execution_count": 5,
   "id": "bf07b651-a3c6-4fef-b3f2-fecbcdc4b4b3",
   "metadata": {},
   "outputs": [
    {
     "data": {
      "text/plain": [
       "'*****hai how are you******'"
      ]
     },
     "execution_count": 5,
     "metadata": {},
     "output_type": "execute_result"
    }
   ],
   "source": [
    "str1.center(26,'*')"
   ]
  },
  {
   "cell_type": "code",
   "execution_count": 5,
   "id": "054b320a-ca5b-4be2-8227-de725503bb54",
   "metadata": {},
   "outputs": [
    {
     "data": {
      "text/plain": [
       "'hai how are you'"
      ]
     },
     "execution_count": 5,
     "metadata": {},
     "output_type": "execute_result"
    }
   ],
   "source": [
    "str1.center(12,'*')"
   ]
  },
  {
   "cell_type": "markdown",
   "id": "aaaffeac-e1e9-4660-84b4-f96d001e7b13",
   "metadata": {},
   "source": [
    "**count**"
   ]
  },
  {
   "cell_type": "code",
   "execution_count": null,
   "id": "d9319dd8-213b-4d3f-8776-f18d1f4d0b50",
   "metadata": {},
   "outputs": [],
   "source": [
    "str1='hai how are you'\n",
    "#how many 'a's are there"
   ]
  },
  {
   "cell_type": "code",
   "execution_count": 10,
   "id": "58fb6e4f-c484-488e-a9ea-70502150a86e",
   "metadata": {},
   "outputs": [
    {
     "data": {
      "text/plain": [
       "2"
      ]
     },
     "execution_count": 10,
     "metadata": {},
     "output_type": "execute_result"
    }
   ],
   "source": [
    "str1.count('o')"
   ]
  },
  {
   "cell_type": "code",
   "execution_count": 11,
   "id": "6deed1f2-5968-44f8-87f6-deb38a3cd462",
   "metadata": {},
   "outputs": [
    {
     "data": {
      "text/plain": [
       "3"
      ]
     },
     "execution_count": 11,
     "metadata": {},
     "output_type": "execute_result"
    }
   ],
   "source": [
    "str1='hai hai hai'\n",
    "str1.count('a')"
   ]
  },
  {
   "cell_type": "markdown",
   "id": "3ef657a8-0936-46e5-b4ec-d21f7e3da32f",
   "metadata": {},
   "source": [
    "- we want a number of a from a specific index\n",
    "\n",
    "- we want number of a between two index"
   ]
  },
  {
   "cell_type": "code",
   "execution_count": 12,
   "id": "4e381b64-ff87-4ce0-a120-8f76d3881307",
   "metadata": {},
   "outputs": [
    {
     "data": {
      "text/plain": [
       "2"
      ]
     },
     "execution_count": 12,
     "metadata": {},
     "output_type": "execute_result"
    }
   ],
   "source": [
    "# h a i   h a i    h a i\n",
    "# 0 1 2 3 4 5 6 7 8 9 10\n",
    "str1.count('a')\n",
    "str1.count('a',5)"
   ]
  },
  {
   "cell_type": "code",
   "execution_count": 13,
   "id": "e0ad005f-75e2-4826-bfb8-dde2ef90610e",
   "metadata": {},
   "outputs": [
    {
     "data": {
      "text/plain": [
       "2"
      ]
     },
     "execution_count": 13,
     "metadata": {},
     "output_type": "execute_result"
    }
   ],
   "source": [
    "str1.count('a',3)"
   ]
  },
  {
   "cell_type": "code",
   "execution_count": 14,
   "id": "ea12212c-3509-46d8-b0fa-c49c8fe6a452",
   "metadata": {},
   "outputs": [
    {
     "data": {
      "text/plain": [
       "2"
      ]
     },
     "execution_count": 14,
     "metadata": {},
     "output_type": "execute_result"
    }
   ],
   "source": [
    "str1.count('a',5)"
   ]
  },
  {
   "cell_type": "code",
   "execution_count": 15,
   "id": "b84e2445-2bac-439e-aea6-5f72d325e601",
   "metadata": {},
   "outputs": [
    {
     "data": {
      "text/plain": [
       "1"
      ]
     },
     "execution_count": 15,
     "metadata": {},
     "output_type": "execute_result"
    }
   ],
   "source": [
    "# h a i   h a i    h a i\n",
    "# 0 1 2 3 4 5 6 7  8 9 10\n",
    "str1.count('a',4,8)"
   ]
  },
  {
   "cell_type": "code",
   "execution_count": 18,
   "id": "1811ce29-8b40-432d-af78-5f23e53c607c",
   "metadata": {},
   "outputs": [
    {
     "data": {
      "text/plain": [
       "1"
      ]
     },
     "execution_count": 18,
     "metadata": {},
     "output_type": "execute_result"
    }
   ],
   "source": [
    "str1.count('a',-5,-2)"
   ]
  },
  {
   "cell_type": "code",
   "execution_count": 16,
   "id": "241ac896-d2dc-4471-b705-4e1cd5f7c4f8",
   "metadata": {},
   "outputs": [
    {
     "data": {
      "text/plain": [
       "3"
      ]
     },
     "execution_count": 16,
     "metadata": {},
     "output_type": "execute_result"
    }
   ],
   "source": [
    "str1='ola ola ola'\n",
    "str1.count('ola')"
   ]
  },
  {
   "cell_type": "markdown",
   "id": "9d30c9d8-36d6-4b18-b84a-c5fcd7c76696",
   "metadata": {},
   "source": [
    "**Window Method**"
   ]
  },
  {
   "cell_type": "code",
   "execution_count": null,
   "id": "a5bba7b5-2d1a-4c65-a0be-d143bc616dfc",
   "metadata": {},
   "outputs": [],
   "source": [
    "str1[i:i+3]\n",
    "i=0\n",
    "i=1\n"
   ]
  },
  {
   "cell_type": "code",
   "execution_count": 25,
   "id": "2510902e-957b-4625-802f-08970d30e270",
   "metadata": {},
   "outputs": [
    {
     "name": "stdout",
     "output_type": "stream",
     "text": [
      "3\n"
     ]
    }
   ],
   "source": [
    "str1='ola ola ola'\n",
    "count=0\n",
    "for i in range(len(str1)):\n",
    "    if str1[i:i+3]=='ola':\n",
    "        count=count+1\n",
    "print(count)\n",
    "#step-1: count=0 i=0 str1[0:3]       "
   ]
  },
  {
   "cell_type": "code",
   "execution_count": 27,
   "id": "7b231339-1908-4a65-9214-53a131dd05dc",
   "metadata": {},
   "outputs": [
    {
     "data": {
      "text/plain": [
       "1"
      ]
     },
     "execution_count": 27,
     "metadata": {},
     "output_type": "execute_result"
    }
   ],
   "source": [
    "str1='ola ola ola'\n",
    "str1.count('ola ola ola')"
   ]
  },
  {
   "cell_type": "code",
   "execution_count": 28,
   "id": "832d4835-e657-4697-9f8e-32d40c4b3c02",
   "metadata": {},
   "outputs": [
    {
     "data": {
      "text/plain": [
       "1"
      ]
     },
     "execution_count": 28,
     "metadata": {},
     "output_type": "execute_result"
    }
   ],
   "source": [
    "str1='ola ola ola'\n",
    "str1.count(str1)"
   ]
  },
  {
   "cell_type": "code",
   "execution_count": 29,
   "id": "52a7377a-5e8e-45ef-a5a5-e66eccbfde84",
   "metadata": {},
   "outputs": [
    {
     "data": {
      "text/plain": [
       "0"
      ]
     },
     "execution_count": 29,
     "metadata": {},
     "output_type": "execute_result"
    }
   ],
   "source": [
    "str1.count('z')"
   ]
  },
  {
   "cell_type": "markdown",
   "id": "6e9eb2c8-a3ef-4f56-a036-d05006e5d4ac",
   "metadata": {},
   "source": [
    "**Replace**"
   ]
  },
  {
   "cell_type": "code",
   "execution_count": 31,
   "id": "f2d77225-e44a-48f4-b26a-736903dd6bbd",
   "metadata": {},
   "outputs": [],
   "source": [
    "str1='welcome'\n",
    "#I want to replace 'l' with 'L'"
   ]
  },
  {
   "cell_type": "code",
   "execution_count": null,
   "id": "f19cb7fb-8457-4dfe-a739-b7794c419388",
   "metadata": {},
   "outputs": [],
   "source": [
    "#we know that strings are immutable\n",
    "# we can not use index operations also\n",
    "# slice and concatenation\n",
    "#divide welcome: we   come\n",
    "#s1='we'\n",
    "#s2='come'\n",
    "#s1+'L'+s2"
   ]
  },
  {
   "cell_type": "code",
   "execution_count": 32,
   "id": "914ae14c-4189-4942-b124-5741e7a85b3a",
   "metadata": {},
   "outputs": [
    {
     "data": {
      "text/plain": [
       "'weLcome'"
      ]
     },
     "execution_count": 32,
     "metadata": {},
     "output_type": "execute_result"
    }
   ],
   "source": [
    "str1='welcome'\n",
    "s1=str1[0:2]\n",
    "s2=str1[3:]\n",
    "s1+'L'+s2\n"
   ]
  },
  {
   "cell_type": "code",
   "execution_count": 33,
   "id": "aa57676e-6465-4701-b08c-ff9f77a4c64b",
   "metadata": {},
   "outputs": [
    {
     "data": {
      "text/plain": [
       "'L'"
      ]
     },
     "execution_count": 33,
     "metadata": {},
     "output_type": "execute_result"
    }
   ],
   "source": [
    "chr(ord('l')-32)"
   ]
  },
  {
   "cell_type": "code",
   "execution_count": 34,
   "id": "3ff2f86a-8366-4ad1-91d2-5a47db156437",
   "metadata": {},
   "outputs": [
    {
     "data": {
      "text/plain": [
       "'weLcome'"
      ]
     },
     "execution_count": 34,
     "metadata": {},
     "output_type": "execute_result"
    }
   ],
   "source": [
    "str1='welcome'\n",
    "str1.replace('l','L')"
   ]
  },
  {
   "cell_type": "code",
   "execution_count": 35,
   "id": "8a0c4a5d-1b7a-4957-a214-3f6004d562d3",
   "metadata": {},
   "outputs": [
    {
     "data": {
      "text/plain": [
       "'weLLcome'"
      ]
     },
     "execution_count": 35,
     "metadata": {},
     "output_type": "execute_result"
    }
   ],
   "source": [
    "str1='wellcome'\n",
    "str1.replace('l','L')"
   ]
  },
  {
   "cell_type": "markdown",
   "id": "c880de32-78b1-4be2-8134-7e83de9658ab",
   "metadata": {},
   "source": [
    "- By default replace will change all tha occurences\n",
    "\n",
    "- count=-1 is responsible for that\n",
    "\n",
    "- which means we provide  count also ,which how many i want to change\n",
    "\n",
    "- give welcome and change  count=-1 and count=2 explore more it"
   ]
  },
  {
   "cell_type": "code",
   "execution_count": 36,
   "id": "f6699ef3-b901-429b-92a6-99fdfab824fb",
   "metadata": {},
   "outputs": [
    {
     "data": {
      "text/plain": [
       "'weLcome'"
      ]
     },
     "execution_count": 36,
     "metadata": {},
     "output_type": "execute_result"
    }
   ],
   "source": [
    "str1='welcome'\n",
    "str1.replace('l','L',1)"
   ]
  },
  {
   "cell_type": "code",
   "execution_count": 43,
   "id": "8cf64f9d-1b97-454b-be83-b4fef4b1e9a4",
   "metadata": {},
   "outputs": [
    {
     "data": {
      "text/plain": [
       "'resta$t'"
      ]
     },
     "execution_count": 43,
     "metadata": {},
     "output_type": "execute_result"
    }
   ],
   "source": [
    "str1='restart'\n",
    "s1=str1[:1]\n",
    "s2=str1[1:]\n",
    "s3=s2.replace('r','$',)\n",
    "s1+s3"
   ]
  },
  {
   "cell_type": "code",
   "execution_count": 46,
   "id": "2de2adf0-314e-469e-8a7d-8537d5afc93f",
   "metadata": {},
   "outputs": [
    {
     "data": {
      "text/plain": [
       "'resta$t'"
      ]
     },
     "execution_count": 46,
     "metadata": {},
     "output_type": "execute_result"
    }
   ],
   "source": [
    "#this is also\n",
    "str1='restart'\n",
    "str1[::-1].replace('r','$',1)[::-1]"
   ]
  },
  {
   "cell_type": "markdown",
   "id": "9ab6660b-34b2-463b-bdb5-6fe3c813ba2a",
   "metadata": {},
   "source": [
    "**index-find**"
   ]
  },
  {
   "cell_type": "markdown",
   "id": "05bc8a18-ef73-4c99-9239-f4fd2a389dd5",
   "metadata": {},
   "source": [
    "- Upper\n",
    "\n",
    "- title\n",
    "\n",
    "- capitalize\n",
    "\n",
    "- index-find\n",
    "\n",
    "- split\n",
    "\n",
    "- strip\n",
    "\n",
    "- start-with"
   ]
  },
  {
   "cell_type": "code",
   "execution_count": 47,
   "id": "a6ea2ff2-4225-4065-aec1-bae9d9e15a02",
   "metadata": {},
   "outputs": [
    {
     "data": {
      "text/plain": [
       "['__add__',\n",
       " '__class__',\n",
       " '__contains__',\n",
       " '__delattr__',\n",
       " '__dir__',\n",
       " '__doc__',\n",
       " '__eq__',\n",
       " '__format__',\n",
       " '__ge__',\n",
       " '__getattribute__',\n",
       " '__getitem__',\n",
       " '__getnewargs__',\n",
       " '__getstate__',\n",
       " '__gt__',\n",
       " '__hash__',\n",
       " '__init__',\n",
       " '__init_subclass__',\n",
       " '__iter__',\n",
       " '__le__',\n",
       " '__len__',\n",
       " '__lt__',\n",
       " '__mod__',\n",
       " '__mul__',\n",
       " '__ne__',\n",
       " '__new__',\n",
       " '__reduce__',\n",
       " '__reduce_ex__',\n",
       " '__repr__',\n",
       " '__rmod__',\n",
       " '__rmul__',\n",
       " '__setattr__',\n",
       " '__sizeof__',\n",
       " '__str__',\n",
       " '__subclasshook__',\n",
       " 'capitalize',\n",
       " 'casefold',\n",
       " 'center',\n",
       " 'count',\n",
       " 'encode',\n",
       " 'endswith',\n",
       " 'expandtabs',\n",
       " 'find',\n",
       " 'format',\n",
       " 'format_map',\n",
       " 'index',\n",
       " 'isalnum',\n",
       " 'isalpha',\n",
       " 'isascii',\n",
       " 'isdecimal',\n",
       " 'isdigit',\n",
       " 'isidentifier',\n",
       " 'islower',\n",
       " 'isnumeric',\n",
       " 'isprintable',\n",
       " 'isspace',\n",
       " 'istitle',\n",
       " 'isupper',\n",
       " 'join',\n",
       " 'ljust',\n",
       " 'lower',\n",
       " 'lstrip',\n",
       " 'maketrans',\n",
       " 'partition',\n",
       " 'removeprefix',\n",
       " 'removesuffix',\n",
       " 'replace',\n",
       " 'rfind',\n",
       " 'rindex',\n",
       " 'rjust',\n",
       " 'rpartition',\n",
       " 'rsplit',\n",
       " 'rstrip',\n",
       " 'split',\n",
       " 'splitlines',\n",
       " 'startswith',\n",
       " 'strip',\n",
       " 'swapcase',\n",
       " 'title',\n",
       " 'translate',\n",
       " 'upper',\n",
       " 'zfill']"
      ]
     },
     "execution_count": 47,
     "metadata": {},
     "output_type": "execute_result"
    }
   ],
   "source": [
    "dir('')"
   ]
  },
  {
   "cell_type": "code",
   "execution_count": 1,
   "id": "c1e36e01-0c9b-4df3-ba08-19285d1ec60f",
   "metadata": {},
   "outputs": [
    {
     "data": {
      "text/plain": [
       "'hELLO'"
      ]
     },
     "execution_count": 1,
     "metadata": {},
     "output_type": "execute_result"
    }
   ],
   "source": [
    "str1='Hello'\n",
    "str1.swapcase()"
   ]
  },
  {
   "cell_type": "markdown",
   "id": "df91c742-b0f8-4522-b9c2-23154ad33cdf",
   "metadata": {},
   "source": [
    "**Index**\n",
    "\n",
    "- index says that it will give the index of any letter in a given string\n",
    "\n",
    "- we already seen about:count will give how many letters are there in a string\n",
    "\n",
    "  - at what index you want to count\n",
    "\n",
    "  - between indexes also ,we can count the letters\n",
    "\n",
    "- index meaning it will provide the index\n",
    "\n",
    "- imagine that there same letter\n",
    "\n",
    "- how can we find the next index"
   ]
  },
  {
   "cell_type": "code",
   "execution_count": 2,
   "id": "7f9b4dca-1c28-46de-b1c7-2d043b41114a",
   "metadata": {},
   "outputs": [
    {
     "data": {
      "text/plain": [
       "1"
      ]
     },
     "execution_count": 2,
     "metadata": {},
     "output_type": "execute_result"
    }
   ],
   "source": [
    "#h  a   i      h   a   i       h    a     i\n",
    "#0  1   2  3   4   5   6   7   8    9    10\n",
    "str1='hai hai hai'\n",
    "str1.index('a')\n",
    "#return the lowest index in s where substring"
   ]
  },
  {
   "cell_type": "code",
   "execution_count": 9,
   "id": "67804bf4-4856-4300-ae48-5aa09a46bccf",
   "metadata": {},
   "outputs": [
    {
     "data": {
      "text/plain": [
       "5"
      ]
     },
     "execution_count": 9,
     "metadata": {},
     "output_type": "execute_result"
    }
   ],
   "source": [
    "str1='hai hai hai'\n",
    "str1.index('a',5)    #among all the indexes the lowest index of a is 5"
   ]
  },
  {
   "cell_type": "code",
   "execution_count": 5,
   "id": "5e27aa0d-baa9-4ad3-aed6-d021c58762c6",
   "metadata": {},
   "outputs": [
    {
     "data": {
      "text/plain": [
       "5"
      ]
     },
     "execution_count": 5,
     "metadata": {},
     "output_type": "execute_result"
    }
   ],
   "source": [
    "str1='hai hai hai'\n",
    "str1.index('a',3,7)     #"
   ]
  },
  {
   "cell_type": "code",
   "execution_count": 18,
   "id": "91c64bba-ba1b-434a-b23d-bb2c35991dee",
   "metadata": {},
   "outputs": [
    {
     "data": {
      "text/plain": [
       "9"
      ]
     },
     "execution_count": 18,
     "metadata": {},
     "output_type": "execute_result"
    }
   ],
   "source": [
    "str1='hai hai hai'\n",
    "str1.index('a',-3,-1)"
   ]
  },
  {
   "cell_type": "code",
   "execution_count": 21,
   "id": "76abf7d0-3fbc-4cda-b3bd-d7b865451a38",
   "metadata": {},
   "outputs": [
    {
     "name": "stdout",
     "output_type": "stream",
     "text": [
      "5\n"
     ]
    }
   ],
   "source": [
    "str1='hai hai hai'\n",
    "print(str1.index('a',-9,-2))"
   ]
  },
  {
   "cell_type": "code",
   "execution_count": 22,
   "id": "3a9617af-94e4-4089-ac57-49b403c6f9e1",
   "metadata": {},
   "outputs": [
    {
     "data": {
      "text/plain": [
       "1"
      ]
     },
     "execution_count": 22,
     "metadata": {},
     "output_type": "execute_result"
    }
   ],
   "source": [
    "# -11  -10   -9   -8   -7   -6   -5    -4   -3   -2   -1\n",
    "# h     a     i         h    a    i          h    a    i\n",
    "# 0     1     2    3    4    5    6     7    8    9   10\n",
    "srt1='hai hai hai'\n",
    "str1.index('a',-10,16)"
   ]
  },
  {
   "cell_type": "code",
   "execution_count": 26,
   "id": "8c492e08-3e0e-47c0-b016-55879025b490",
   "metadata": {
    "jp-MarkdownHeadingCollapsed": true
   },
   "outputs": [
    {
     "name": "stdout",
     "output_type": "stream",
     "text": [
      "1\n",
      "5\n",
      "5\n"
     ]
    }
   ],
   "source": [
    "# -11  -10   -9   -8   -7   -6   -5    -4   -3   -2   -1\n",
    "# h     a     i         h    a    i          h    a    i\n",
    "# 0     1     2    3    4    5    6     7    8    9   10\n",
    "str1='hai hai hai'\n",
    "print(str1.index('a'))\n",
    "print(str1.index('a',5))\n",
    "print(str1.index('a',-9,-1))"
   ]
  },
  {
   "cell_type": "code",
   "execution_count": 38,
   "id": "ae069263-adcd-4a01-8f51-4b03a6843298",
   "metadata": {},
   "outputs": [
    {
     "name": "stdout",
     "output_type": "stream",
     "text": [
      "1\n",
      "5\n",
      "9\n"
     ]
    },
    {
     "ename": "ValueError",
     "evalue": "substring not found",
     "output_type": "error",
     "traceback": [
      "\u001b[1;31m---------------------------------------------------------------------------\u001b[0m",
      "\u001b[1;31mValueError\u001b[0m                                Traceback (most recent call last)",
      "Cell \u001b[1;32mIn[38], line 8\u001b[0m\n\u001b[0;32m      6\u001b[0m i3\u001b[38;5;241m=\u001b[39mstr1\u001b[38;5;241m.\u001b[39mindex(\u001b[38;5;124m'\u001b[39m\u001b[38;5;124ma\u001b[39m\u001b[38;5;124m'\u001b[39m,i2\u001b[38;5;241m+\u001b[39m\u001b[38;5;241m1\u001b[39m)\n\u001b[0;32m      7\u001b[0m \u001b[38;5;28mprint\u001b[39m(i3)\n\u001b[1;32m----> 8\u001b[0m i4\u001b[38;5;241m=\u001b[39mstr1\u001b[38;5;241m.\u001b[39mindex(\u001b[38;5;124m'\u001b[39m\u001b[38;5;124ma\u001b[39m\u001b[38;5;124m'\u001b[39m,i3\u001b[38;5;241m+\u001b[39m\u001b[38;5;241m1\u001b[39m)\n\u001b[0;32m      9\u001b[0m \u001b[38;5;28mprint\u001b[39m(i4)\n",
      "\u001b[1;31mValueError\u001b[0m: substring not found"
     ]
    }
   ],
   "source": [
    "str1='hai hai hai'\n",
    "i1=str1.index('a')\n",
    "print(i1)\n",
    "i2=str1.index('a',i1+1)\n",
    "print(i2)\n",
    "i3=str1.index('a',i2+1)\n",
    "print(i3)\n",
    "i4=str1.index('a',i3+1)\n",
    "print(i4)"
   ]
  },
  {
   "cell_type": "code",
   "execution_count": 48,
   "id": "004b3050-fbac-45fa-8a0d-59976fa08f0b",
   "metadata": {},
   "outputs": [
    {
     "name": "stdout",
     "output_type": "stream",
     "text": [
      "5\n",
      "9\n"
     ]
    },
    {
     "ename": "ValueError",
     "evalue": "substring not found",
     "output_type": "error",
     "traceback": [
      "\u001b[1;31m---------------------------------------------------------------------------\u001b[0m",
      "\u001b[1;31mValueError\u001b[0m                                Traceback (most recent call last)",
      "Cell \u001b[1;32mIn[48], line 6\u001b[0m\n\u001b[0;32m      4\u001b[0m i2\u001b[38;5;241m=\u001b[39mstr1\u001b[38;5;241m.\u001b[39mindex(\u001b[38;5;124m'\u001b[39m\u001b[38;5;124ma\u001b[39m\u001b[38;5;124m'\u001b[39m,\u001b[38;5;241m6\u001b[39m)\n\u001b[0;32m      5\u001b[0m \u001b[38;5;28mprint\u001b[39m(i2)\n\u001b[1;32m----> 6\u001b[0m i3\u001b[38;5;241m=\u001b[39mstr1\u001b[38;5;241m.\u001b[39mindex(\u001b[38;5;124m'\u001b[39m\u001b[38;5;124ma\u001b[39m\u001b[38;5;124m'\u001b[39m,i2\u001b[38;5;241m+\u001b[39m\u001b[38;5;241m1\u001b[39m)\n\u001b[0;32m      7\u001b[0m \u001b[38;5;28mprint\u001b[39m(i3)\n",
      "\u001b[1;31mValueError\u001b[0m: substring not found"
     ]
    }
   ],
   "source": [
    "str1='hai hai hai'\n",
    "i1=srt1.index('a',2)\n",
    "print(i1)\n",
    "i2=str1.index('a',6)\n",
    "print(i2)\n",
    "i3=str1.index('a',i2+1)\n",
    "print(i3)"
   ]
  },
  {
   "cell_type": "markdown",
   "id": "71336f5f-006b-48a4-a0a2-600145db133a",
   "metadata": {},
   "source": [
    "**Find**"
   ]
  },
  {
   "cell_type": "code",
   "execution_count": 50,
   "id": "77d776d5-fc75-4027-a6ae-e1a6b3405286",
   "metadata": {},
   "outputs": [
    {
     "data": {
      "text/plain": [
       "1"
      ]
     },
     "execution_count": 50,
     "metadata": {},
     "output_type": "execute_result"
    }
   ],
   "source": [
    "str1='hai hai hai'\n",
    "str1.find('a')"
   ]
  },
  {
   "cell_type": "code",
   "execution_count": 51,
   "id": "8c365c28-6387-4c4f-bde7-573e60c7f50d",
   "metadata": {},
   "outputs": [
    {
     "data": {
      "text/plain": [
       "5"
      ]
     },
     "execution_count": 51,
     "metadata": {},
     "output_type": "execute_result"
    }
   ],
   "source": [
    "str1='hai hai hai'\n",
    "str1.find('a',3)"
   ]
  },
  {
   "cell_type": "code",
   "execution_count": 52,
   "id": "4b943a2b-40a2-4d9b-9f65-2e5b1cdf542b",
   "metadata": {},
   "outputs": [
    {
     "data": {
      "text/plain": [
       "-1"
      ]
     },
     "execution_count": 52,
     "metadata": {},
     "output_type": "execute_result"
    }
   ],
   "source": [
    "str1='hai hai hai'\n",
    "str1.find('a',-5,-9)"
   ]
  },
  {
   "cell_type": "code",
   "execution_count": 53,
   "id": "5e8b4f0e-2fa9-4473-8627-005705609b4b",
   "metadata": {},
   "outputs": [
    {
     "name": "stdout",
     "output_type": "stream",
     "text": [
      "-1\n"
     ]
    }
   ],
   "source": [
    "str1='hai hai hai'\n",
    "i1=str1.find('a',-9,-6)\n",
    "print(i1)"
   ]
  },
  {
   "cell_type": "code",
   "execution_count": 55,
   "id": "5797dd1d-a2cb-423a-9e78-cd150a552bd1",
   "metadata": {},
   "outputs": [
    {
     "name": "stdout",
     "output_type": "stream",
     "text": [
      "1\n",
      "5\n",
      "9\n",
      "-1\n",
      "1\n"
     ]
    }
   ],
   "source": [
    "str1='hai hai hai'\n",
    "i1=str1.find('a')\n",
    "print(i1)\n",
    "i2=str1.find('a',i1+1)\n",
    "print(i2)\n",
    "i3=str1.find('a',i2+1)\n",
    "print(i3)\n",
    "i4=str1.find('a',i3+1)\n",
    "print(i4)\n",
    "i5=str1.find('a',i4+1)\n",
    "print(i5)"
   ]
  },
  {
   "cell_type": "code",
   "execution_count": null,
   "id": "8e2de08b-686b-449c-aa59-0e12c89f2f0f",
   "metadata": {},
   "outputs": [],
   "source": [
    "str1.index()   # raises value error "
   ]
  },
  {
   "cell_type": "code",
   "execution_count": 57,
   "id": "8b8e4101-d5be-4e64-9f3f-16fc67e241f1",
   "metadata": {},
   "outputs": [
    {
     "data": {
      "text/plain": [
       "0"
      ]
     },
     "execution_count": 57,
     "metadata": {},
     "output_type": "execute_result"
    }
   ],
   "source": [
    "str1='hai hai hai'\n",
    "str1.count('z')"
   ]
  },
  {
   "cell_type": "code",
   "execution_count": 56,
   "id": "17029182-d701-4f70-a286-457462cc2172",
   "metadata": {},
   "outputs": [
    {
     "data": {
      "text/plain": [
       "'hai hai hai'"
      ]
     },
     "execution_count": 56,
     "metadata": {},
     "output_type": "execute_result"
    }
   ],
   "source": [
    "str1='hai hai hai'\n",
    "str1.replace('z','Z')"
   ]
  },
  {
   "cell_type": "markdown",
   "id": "d69027f1-adac-49b3-a3d8-998d898e30d1",
   "metadata": {},
   "source": [
    "- If substring not found \n",
    "\n",
    "- count method  will give zero\n",
    "\n",
    "- Replace method will give original string\n",
    "\n",
    "- Index will give **sub string not found error**\n",
    "\n",
    "- Find will give-1"
   ]
  },
  {
   "cell_type": "code",
   "execution_count": 77,
   "id": "9ab2c452-493e-4397-95d8-b32efcab1ae0",
   "metadata": {},
   "outputs": [
    {
     "data": {
      "text/plain": [
       "('omkar', 'nallagoni', 'cognizent')"
      ]
     },
     "execution_count": 77,
     "metadata": {},
     "output_type": "execute_result"
    }
   ],
   "source": [
    "str1='omkar.nallagoni@cognizent.com'\n",
    "#first name= omkar\n",
    "#second name= nalllagoni         \n",
    "#third name=cognizent\n",
    "str2='virat.kohli@rcb.com'\n",
    "str3='rohit.sharma@mi.com'\n",
    "\n",
    "# Idea :find the triggers\n",
    "# for first name .\n",
    "#second name . and @\n",
    "# compny name @ and second.\n",
    "i1=str1.index('.')\n",
    "i2=str1.index('@')\n",
    "i3=str1.index('.',i1+1)\n",
    "first_name=str1[:i1]\n",
    "second_name=str1[i1+1:i2]\n",
    "cname=str1[i2+1:i3]\n",
    "first_name,second_name,cname"
   ]
  },
  {
   "cell_type": "code",
   "execution_count": null,
   "id": "04c57daa-138f-4504-ba0a-0582c8d99555",
   "metadata": {},
   "outputs": [],
   "source": [
    "str2='virat.kohli@rcb.com'\n",
    "i"
   ]
  }
 ],
 "metadata": {
  "kernelspec": {
   "display_name": "Python 3 (ipykernel)",
   "language": "python",
   "name": "python3"
  },
  "language_info": {
   "codemirror_mode": {
    "name": "ipython",
    "version": 3
   },
   "file_extension": ".py",
   "mimetype": "text/x-python",
   "name": "python",
   "nbconvert_exporter": "python",
   "pygments_lexer": "ipython3",
   "version": "3.11.7"
  }
 },
 "nbformat": 4,
 "nbformat_minor": 5
}
